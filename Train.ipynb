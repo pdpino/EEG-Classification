{
 "cells": [
  {
   "cell_type": "code",
   "execution_count": 1,
   "metadata": {},
   "outputs": [
    {
     "name": "stderr",
     "output_type": "stream",
     "text": [
      "Using TensorFlow backend.\n"
     ]
    }
   ],
   "source": [
    "import pandas as pd\n",
    "import numpy as np\n",
    "from sklearn.model_selection import train_test_split\n",
    "import keras\n",
    "import matplotlib.pyplot as plt\n",
    "%matplotlib inline\n",
    "\n",
    "plt.style.use('ggplot')\n",
    "from IPython.core.display import display, HTML\n",
    "# display(HTML(\"<style>.container { width:100% !important; }</style>\"))\n",
    "plt.rcParams[\"figure.figsize\"] = (12,12)\n",
    "pd.options.display.max_columns = None\n",
    "pd.options.display.precision = 4"
   ]
  },
  {
   "cell_type": "markdown",
   "metadata": {},
   "source": [
    "## Brainwave Frequencies:\n",
    "Gamma, 30 to 50 Hz.  \n",
    "Beta, 14 to 30 Hz.  \n",
    "Alpha, 8 to 14 Hz.  \n",
    "Theta, 4 to 8 Hz.  \n",
    "Delta, 0.1 to 4 Hz.  "
   ]
  },
  {
   "cell_type": "markdown",
   "metadata": {},
   "source": [
    "## Changing Bin Size: \n",
    "https://stackoverflow.com/questions/25735153/plotting-a-fast-fourier-transform-in-python  \n",
    "(Search for 'bin')"
   ]
  },
  {
   "cell_type": "markdown",
   "metadata": {},
   "source": [
    "An EEG processing library:  \n",
    "https://github.com/pbashivan/EEGLearn"
   ]
  },
  {
   "cell_type": "code",
   "execution_count": 12,
   "metadata": {},
   "outputs": [],
   "source": [
    "%run utils.py"
   ]
  },
  {
   "cell_type": "code",
   "execution_count": 3,
   "metadata": {},
   "outputs": [],
   "source": [
    "%run models.py"
   ]
  },
  {
   "cell_type": "code",
   "execution_count": 13,
   "metadata": {
    "collapsed": true
   },
   "outputs": [
    {
     "name": "stdout",
     "output_type": "stream",
     "text": [
      "Generating training data...\n",
      "Processing session:  data/ML101_KS.csv . ( 1  of  16 )\n",
      "117  frames generated with label  1 .117\n",
      "\n",
      "\n",
      "Processing session:  data/ML101_US.csv . ( 2  of  16 )\n",
      "112  frames generated with label  0 .112\n",
      "\n",
      "\n",
      "Processing session:  data/ML102_KS.csv . ( 3  of  16 )\n",
      "111  frames generated with label  1 .111\n",
      "\n",
      "\n",
      "Processing session:  data/ML102_US.csv . ( 4  of  16 )\n",
      "109  frames generated with label  0 ./109\n",
      "\n",
      "\n",
      "Processing session:  data/ML103_KS.csv . ( 5  of  16 )\n",
      "113  frames generated with label  1 .113\n",
      "\n",
      "\n",
      "Processing session:  data/ML103_US.csv . ( 6  of  16 )\n",
      "104  frames generated with label  0 .104\n",
      "\n",
      "\n",
      "Processing session:  data/ML104_KS.csv . ( 7  of  16 )\n",
      "101  frames generated with label  1 .1/101\n",
      "\n",
      "\n",
      "Processing session:  data/ML104_US.csv . ( 8  of  16 )\n",
      "102  frames generated with label  0 ./102\n",
      "\n",
      "\n",
      "Processing session:  data/ML105_KS.csv . ( 9  of  16 )\n",
      "107  frames generated with label  1 .107\n",
      "\n",
      "\n",
      "Processing session:  data/ML105_US.csv . ( 10  of  16 )\n",
      "113  frames generated with label  0 .113\n",
      "\n",
      "\n",
      "Processing session:  data/ML106_KS.csv . ( 11  of  16 )\n",
      "115  frames generated with label  1 .115\n",
      "\n",
      "\n",
      "Processing session:  data/ML106_US.csv . ( 12  of  16 )\n",
      "139  frames generated with label  0 .139\n",
      "\n",
      "\n",
      "Processing session:  data/ML107_KS.csv . ( 13  of  16 )\n",
      "123  frames generated with label  1 .123\n",
      "\n",
      "\n",
      "Processing session:  data/ML107_US.csv . ( 14  of  16 )\n",
      "118  frames generated with label  0 .118Interpolating 103/118\n",
      "\n",
      "\n",
      "Processing session:  data/ML108_KS.csv . ( 15  of  16 )\n",
      "120  frames generated with label  1 .120Interpolating 115/120\n",
      "\n",
      "\n",
      "Processing session:  data/ML108_US.csv . ( 16  of  16 )\n",
      "117  frames generated with label  0 ./117\n",
      "\n",
      "\n"
     ]
    }
   ],
   "source": [
    "%%time\n",
    "\n",
    "image_size = 28\n",
    "frame_duration = 1.0\n",
    "overlap = 0.5\n",
    "X, y = make_data_pipeline(file_names,labels,image_size,frame_duration,overlap)"
   ]
  },
  {
   "cell_type": "code",
   "execution_count": 15,
   "metadata": {},
   "outputs": [
    {
     "data": {
      "text/plain": [
       "((1821, 28, 28, 3), (1821,))"
      ]
     },
     "execution_count": 15,
     "metadata": {},
     "output_type": "execute_result"
    }
   ],
   "source": [
    "X.shape, y.shape"
   ]
  },
  {
   "cell_type": "code",
   "execution_count": 19,
   "metadata": {},
   "outputs": [
    {
     "name": "stderr",
     "output_type": "stream",
     "text": [
      "Clipping input data to the valid range for imshow with RGB data ([0..1] for floats or [0..255] for integers).\n"
     ]
    },
    {
     "data": {
      "text/plain": [
       "<matplotlib.image.AxesImage at 0x7efe92381208>"
      ]
     },
     "execution_count": 19,
     "metadata": {},
     "output_type": "execute_result"
    },
    {
     "data": {
      "image/png": "[encoded data removed]",
      "text/plain": [
       "<Figure size 432x288 with 1 Axes>"
      ]
     },
     "metadata": {
      "needs_background": "light"
     },
     "output_type": "display_data"
    }
   ],
   "source": [
    "plt.imshow(X[3])"
   ]
  },
  {
   "cell_type": "code",
   "execution_count": 20,
   "metadata": {},
   "outputs": [],
   "source": [
    "x_train, x_test, y_train, y_test = train_test_split(X, y, test_size=0.20,shuffle=True)"
   ]
  },
  {
   "cell_type": "code",
   "execution_count": 21,
   "metadata": {},
   "outputs": [
    {
     "data": {
      "text/plain": [
       "(1456,)"
      ]
     },
     "execution_count": 21,
     "metadata": {},
     "output_type": "execute_result"
    }
   ],
   "source": [
    "y_train.shape"
   ]
  },
  {
   "cell_type": "code",
   "execution_count": 22,
   "metadata": {},
   "outputs": [
    {
     "name": "stdout",
     "output_type": "stream",
     "text": [
      "x_train shape: (1456, 28, 28, 3)\n",
      "1456 train samples\n",
      "365 test samples\n"
     ]
    }
   ],
   "source": [
    "# input image dimensions\n",
    "img_rows, img_cols = 28, 28\n",
    "\n",
    "x_train = x_train.astype('float32')\n",
    "x_test = x_test.astype('float32')\n",
    "#x_train /= 255\n",
    "#x_test /= 255\n",
    "print('x_train shape:', x_train.shape)\n",
    "print(x_train.shape[0], 'train samples')\n",
    "print(x_test.shape[0], 'test samples')\n",
    "\n",
    "input_shape = (img_rows, img_cols, 3)"
   ]
  },
  {
   "cell_type": "code",
   "execution_count": 23,
   "metadata": {},
   "outputs": [
    {
     "data": {
      "text/plain": [
       "0.0024639356"
      ]
     },
     "execution_count": 23,
     "metadata": {},
     "output_type": "execute_result"
    }
   ],
   "source": [
    "np.mean(x_train)"
   ]
  },
  {
   "cell_type": "code",
   "execution_count": 24,
   "metadata": {
    "scrolled": false
   },
   "outputs": [
    {
     "name": "stdout",
     "output_type": "stream",
     "text": [
      "Train on 1456 samples, validate on 365 samples\n",
      "Epoch 1/200\n",
      "1456/1456 [==============================] - 4s 3ms/step - loss: 0.6955 - accuracy: 0.5069 - val_loss: 0.6879 - val_accuracy: 0.5616\n",
      "Epoch 2/200\n",
      "1456/1456 [==============================] - 2s 1ms/step - loss: 0.6892 - accuracy: 0.5378 - val_loss: 0.6834 - val_accuracy: 0.5863\n",
      "Epoch 3/200\n",
      "1456/1456 [==============================] - 2s 2ms/step - loss: 0.6817 - accuracy: 0.5865 - val_loss: 0.6742 - val_accuracy: 0.5973\n",
      "Epoch 4/200\n",
      "1456/1456 [==============================] - 2s 1ms/step - loss: 0.6734 - accuracy: 0.6030 - val_loss: 0.6715 - val_accuracy: 0.5918\n",
      "Epoch 5/200\n",
      "1456/1456 [==============================] - 2s 1ms/step - loss: 0.6668 - accuracy: 0.6250 - val_loss: 0.6635 - val_accuracy: 0.6247\n",
      "Epoch 6/200\n",
      "1456/1456 [==============================] - 2s 1ms/step - loss: 0.6600 - accuracy: 0.6284 - val_loss: 0.6586 - val_accuracy: 0.6137\n",
      "Epoch 7/200\n",
      "1456/1456 [==============================] - 2s 1ms/step - loss: 0.6503 - accuracy: 0.6367 - val_loss: 0.6527 - val_accuracy: 0.6329\n",
      "Epoch 8/200\n",
      "1456/1456 [==============================] - 2s 1ms/step - loss: 0.6455 - accuracy: 0.6504 - val_loss: 0.6452 - val_accuracy: 0.6411\n",
      "Epoch 9/200\n",
      "1456/1456 [==============================] - 2s 1ms/step - loss: 0.6368 - accuracy: 0.6566 - val_loss: 0.6619 - val_accuracy: 0.5836\n",
      "Epoch 10/200\n",
      "1456/1456 [==============================] - 2s 1ms/step - loss: 0.6331 - accuracy: 0.6552 - val_loss: 0.6442 - val_accuracy: 0.6384\n",
      "Epoch 11/200\n",
      "1456/1456 [==============================] - 2s 1ms/step - loss: 0.6267 - accuracy: 0.6731 - val_loss: 0.6384 - val_accuracy: 0.6466\n",
      "Epoch 12/200\n",
      "1456/1456 [==============================] - 2s 1ms/step - loss: 0.6221 - accuracy: 0.6813 - val_loss: 0.6424 - val_accuracy: 0.6411\n",
      "Epoch 13/200\n",
      "1456/1456 [==============================] - 2s 1ms/step - loss: 0.6153 - accuracy: 0.6820 - val_loss: 0.6312 - val_accuracy: 0.6356\n",
      "Epoch 14/200\n",
      "1456/1456 [==============================] - 2s 1ms/step - loss: 0.6096 - accuracy: 0.6896 - val_loss: 0.6304 - val_accuracy: 0.6740\n",
      "Epoch 15/200\n",
      "1456/1456 [==============================] - 2s 1ms/step - loss: 0.6044 - accuracy: 0.7012 - val_loss: 0.6196 - val_accuracy: 0.6411\n",
      "Epoch 16/200\n",
      "1456/1456 [==============================] - 2s 1ms/step - loss: 0.5980 - accuracy: 0.6930 - val_loss: 0.6233 - val_accuracy: 0.6521\n",
      "Epoch 17/200\n",
      "1456/1456 [==============================] - 2s 1ms/step - loss: 0.5951 - accuracy: 0.7067 - val_loss: 0.6184 - val_accuracy: 0.6466\n",
      "Epoch 18/200\n",
      "1456/1456 [==============================] - 2s 1ms/step - loss: 0.5873 - accuracy: 0.7026 - val_loss: 0.6193 - val_accuracy: 0.6384\n",
      "Epoch 19/200\n",
      "1456/1456 [==============================] - 2s 1ms/step - loss: 0.5806 - accuracy: 0.7184 - val_loss: 0.6102 - val_accuracy: 0.6767\n",
      "Epoch 20/200\n",
      "1456/1456 [==============================] - 2s 1ms/step - loss: 0.5762 - accuracy: 0.7253 - val_loss: 0.6087 - val_accuracy: 0.6795\n",
      "Epoch 21/200\n",
      "1456/1456 [==============================] - 2s 1ms/step - loss: 0.5694 - accuracy: 0.7315 - val_loss: 0.6134 - val_accuracy: 0.6795\n",
      "Epoch 22/200\n",
      "1456/1456 [==============================] - 2s 1ms/step - loss: 0.5643 - accuracy: 0.7376 - val_loss: 0.5990 - val_accuracy: 0.6822\n",
      "Epoch 23/200\n",
      "1456/1456 [==============================] - 2s 1ms/step - loss: 0.5595 - accuracy: 0.7246 - val_loss: 0.6101 - val_accuracy: 0.6795\n",
      "Epoch 24/200\n",
      "1456/1456 [==============================] - 2s 1ms/step - loss: 0.5528 - accuracy: 0.7370 - val_loss: 0.5994 - val_accuracy: 0.6904\n",
      "Epoch 25/200\n",
      "1456/1456 [==============================] - 2s 2ms/step - loss: 0.5496 - accuracy: 0.7418 - val_loss: 0.5999 - val_accuracy: 0.6904\n",
      "Epoch 26/200\n",
      "1456/1456 [==============================] - 2s 1ms/step - loss: 0.5440 - accuracy: 0.7459 - val_loss: 0.5967 - val_accuracy: 0.6521\n",
      "Epoch 27/200\n",
      "1456/1456 [==============================] - 2s 1ms/step - loss: 0.5345 - accuracy: 0.7473 - val_loss: 0.6198 - val_accuracy: 0.6685\n",
      "Epoch 28/200\n",
      "1456/1456 [==============================] - 2s 2ms/step - loss: 0.5326 - accuracy: 0.7342 - val_loss: 0.6663 - val_accuracy: 0.6247\n",
      "Epoch 29/200\n",
      "1456/1456 [==============================] - 2s 1ms/step - loss: 0.5291 - accuracy: 0.7473 - val_loss: 0.5777 - val_accuracy: 0.7041\n",
      "Epoch 30/200\n",
      "1456/1456 [==============================] - 2s 1ms/step - loss: 0.5206 - accuracy: 0.7617 - val_loss: 0.5771 - val_accuracy: 0.7041\n",
      "Epoch 31/200\n",
      "1456/1456 [==============================] - 2s 1ms/step - loss: 0.5145 - accuracy: 0.7692 - val_loss: 0.5755 - val_accuracy: 0.6877\n",
      "Epoch 32/200\n",
      "1456/1456 [==============================] - 2s 1ms/step - loss: 0.5144 - accuracy: 0.7699 - val_loss: 0.5914 - val_accuracy: 0.6822\n",
      "Epoch 33/200\n",
      "1456/1456 [==============================] - 2s 1ms/step - loss: 0.5064 - accuracy: 0.7740 - val_loss: 0.5740 - val_accuracy: 0.7096\n",
      "Epoch 34/200\n",
      "1456/1456 [==============================] - 2s 2ms/step - loss: 0.5034 - accuracy: 0.7713 - val_loss: 0.5618 - val_accuracy: 0.6904\n",
      "Epoch 35/200\n",
      "1456/1456 [==============================] - 2s 2ms/step - loss: 0.4931 - accuracy: 0.7946 - val_loss: 0.5739 - val_accuracy: 0.6986\n",
      "Epoch 36/200\n",
      "1456/1456 [==============================] - 2s 1ms/step - loss: 0.4890 - accuracy: 0.7823 - val_loss: 0.5598 - val_accuracy: 0.7096\n",
      "Epoch 37/200\n",
      "1456/1456 [==============================] - 2s 1ms/step - loss: 0.4848 - accuracy: 0.7837 - val_loss: 0.5581 - val_accuracy: 0.7151\n",
      "Epoch 38/200\n",
      "1456/1456 [==============================] - 2s 1ms/step - loss: 0.4788 - accuracy: 0.7885 - val_loss: 0.5462 - val_accuracy: 0.7425\n",
      "Epoch 39/200\n",
      "1456/1456 [==============================] - 2s 1ms/step - loss: 0.4785 - accuracy: 0.7912 - val_loss: 0.5661 - val_accuracy: 0.7068\n",
      "Epoch 40/200\n",
      "1456/1456 [==============================] - 2s 1ms/step - loss: 0.4718 - accuracy: 0.8001 - val_loss: 0.5498 - val_accuracy: 0.7205\n",
      "Epoch 41/200\n",
      "1456/1456 [==============================] - 3s 2ms/step - loss: 0.4658 - accuracy: 0.8077 - val_loss: 0.5630 - val_accuracy: 0.7041\n",
      "Epoch 42/200\n",
      "1456/1456 [==============================] - 2s 1ms/step - loss: 0.4606 - accuracy: 0.8049 - val_loss: 0.5370 - val_accuracy: 0.7534\n",
      "Epoch 43/200\n",
      "1456/1456 [==============================] - 2s 1ms/step - loss: 0.4596 - accuracy: 0.8063 - val_loss: 0.5644 - val_accuracy: 0.7123\n",
      "Epoch 44/200\n",
      "1456/1456 [==============================] - 2s 1ms/step - loss: 0.4523 - accuracy: 0.8043 - val_loss: 0.5395 - val_accuracy: 0.7342\n",
      "Epoch 45/200\n",
      "1456/1456 [==============================] - 2s 1ms/step - loss: 0.4452 - accuracy: 0.8221 - val_loss: 0.5440 - val_accuracy: 0.7123\n",
      "Epoch 46/200\n",
      "1456/1456 [==============================] - 2s 1ms/step - loss: 0.4399 - accuracy: 0.8159 - val_loss: 0.5345 - val_accuracy: 0.7342\n",
      "Epoch 47/200\n",
      "1456/1456 [==============================] - 2s 2ms/step - loss: 0.4419 - accuracy: 0.8084 - val_loss: 0.5817 - val_accuracy: 0.7041\n",
      "Epoch 48/200\n",
      "1456/1456 [==============================] - 3s 2ms/step - loss: 0.4303 - accuracy: 0.8352 - val_loss: 0.5281 - val_accuracy: 0.7479\n",
      "Epoch 49/200\n",
      "1456/1456 [==============================] - 2s 1ms/step - loss: 0.4328 - accuracy: 0.8214 - val_loss: 0.5584 - val_accuracy: 0.7342\n",
      "Epoch 50/200\n",
      "1456/1456 [==============================] - 2s 1ms/step - loss: 0.4294 - accuracy: 0.8242 - val_loss: 0.5308 - val_accuracy: 0.7534\n",
      "Epoch 51/200\n",
      "1456/1456 [==============================] - 2s 2ms/step - loss: 0.4225 - accuracy: 0.8235 - val_loss: 0.5334 - val_accuracy: 0.7370\n",
      "Epoch 52/200\n",
      "1456/1456 [==============================] - 2s 2ms/step - loss: 0.4169 - accuracy: 0.8434 - val_loss: 0.5405 - val_accuracy: 0.7123\n",
      "Epoch 53/200\n",
      "1456/1456 [==============================] - 2s 1ms/step - loss: 0.4147 - accuracy: 0.8276 - val_loss: 0.5383 - val_accuracy: 0.7151\n",
      "Epoch 54/200\n",
      "1456/1456 [==============================] - 2s 1ms/step - loss: 0.4113 - accuracy: 0.8393 - val_loss: 0.5780 - val_accuracy: 0.7068\n",
      "Epoch 55/200\n",
      "1456/1456 [==============================] - 2s 1ms/step - loss: 0.4100 - accuracy: 0.8338 - val_loss: 0.5289 - val_accuracy: 0.7370\n",
      "Epoch 56/200\n",
      "1456/1456 [==============================] - 2s 1ms/step - loss: 0.3988 - accuracy: 0.8441 - val_loss: 0.5482 - val_accuracy: 0.7178\n"
     ]
    },
    {
     "name": "stdout",
     "output_type": "stream",
     "text": [
      "Epoch 57/200\n",
      "1456/1456 [==============================] - 2s 1ms/step - loss: 0.4015 - accuracy: 0.8455 - val_loss: 0.5416 - val_accuracy: 0.7233\n",
      "Epoch 58/200\n",
      "1456/1456 [==============================] - 2s 1ms/step - loss: 0.3999 - accuracy: 0.8352 - val_loss: 0.5257 - val_accuracy: 0.7342\n",
      "Epoch 59/200\n",
      "1456/1456 [==============================] - 2s 2ms/step - loss: 0.3923 - accuracy: 0.8462 - val_loss: 0.5383 - val_accuracy: 0.7342\n",
      "Epoch 60/200\n",
      "1456/1456 [==============================] - 3s 2ms/step - loss: 0.3910 - accuracy: 0.8496 - val_loss: 0.5870 - val_accuracy: 0.6959\n",
      "Epoch 61/200\n",
      "1456/1456 [==============================] - 2s 2ms/step - loss: 0.3902 - accuracy: 0.8386 - val_loss: 0.5375 - val_accuracy: 0.7425\n",
      "Epoch 62/200\n",
      "1456/1456 [==============================] - 3s 2ms/step - loss: 0.3795 - accuracy: 0.8475 - val_loss: 0.5406 - val_accuracy: 0.7178\n",
      "Epoch 63/200\n",
      "1456/1456 [==============================] - 2s 2ms/step - loss: 0.3794 - accuracy: 0.8599 - val_loss: 0.5580 - val_accuracy: 0.7260\n",
      "Epoch 64/200\n",
      "1456/1456 [==============================] - 2s 1ms/step - loss: 0.3756 - accuracy: 0.8530 - val_loss: 0.5264 - val_accuracy: 0.7425\n",
      "Epoch 65/200\n",
      "1456/1456 [==============================] - 2s 1ms/step - loss: 0.3688 - accuracy: 0.8654 - val_loss: 0.5291 - val_accuracy: 0.7425\n",
      "Epoch 66/200\n",
      "1456/1456 [==============================] - 2s 1ms/step - loss: 0.3680 - accuracy: 0.8530 - val_loss: 0.5202 - val_accuracy: 0.7534\n",
      "Epoch 67/200\n",
      "1456/1456 [==============================] - 2s 1ms/step - loss: 0.3676 - accuracy: 0.8558 - val_loss: 0.5380 - val_accuracy: 0.7425\n",
      "Epoch 68/200\n",
      "1456/1456 [==============================] - 2s 1ms/step - loss: 0.3640 - accuracy: 0.8585 - val_loss: 0.5154 - val_accuracy: 0.7699\n",
      "Epoch 69/200\n",
      "1456/1456 [==============================] - 2s 1ms/step - loss: 0.3637 - accuracy: 0.8592 - val_loss: 0.5258 - val_accuracy: 0.7452\n",
      "Epoch 70/200\n",
      "1456/1456 [==============================] - 2s 1ms/step - loss: 0.3565 - accuracy: 0.8654 - val_loss: 0.5371 - val_accuracy: 0.7534\n",
      "Epoch 71/200\n",
      "1456/1456 [==============================] - 2s 1ms/step - loss: 0.3471 - accuracy: 0.8640 - val_loss: 0.5494 - val_accuracy: 0.7288\n",
      "Epoch 72/200\n",
      "1456/1456 [==============================] - 2s 1ms/step - loss: 0.3526 - accuracy: 0.8633 - val_loss: 0.5247 - val_accuracy: 0.7479\n",
      "Epoch 73/200\n",
      "1456/1456 [==============================] - 2s 1ms/step - loss: 0.3475 - accuracy: 0.8674 - val_loss: 0.5498 - val_accuracy: 0.7479\n",
      "Epoch 74/200\n",
      "1456/1456 [==============================] - 2s 1ms/step - loss: 0.3418 - accuracy: 0.8716 - val_loss: 0.5971 - val_accuracy: 0.7205\n",
      "Epoch 75/200\n",
      "1456/1456 [==============================] - 2s 1ms/step - loss: 0.3396 - accuracy: 0.8688 - val_loss: 0.5078 - val_accuracy: 0.7699\n",
      "Epoch 76/200\n",
      "1456/1456 [==============================] - 2s 1ms/step - loss: 0.3382 - accuracy: 0.8702 - val_loss: 0.5200 - val_accuracy: 0.7562\n",
      "Epoch 77/200\n",
      "1456/1456 [==============================] - 2s 1ms/step - loss: 0.3356 - accuracy: 0.8668 - val_loss: 0.5221 - val_accuracy: 0.7671\n",
      "Epoch 78/200\n",
      "1456/1456 [==============================] - 2s 1ms/step - loss: 0.3323 - accuracy: 0.8688 - val_loss: 0.5361 - val_accuracy: 0.7534\n",
      "Epoch 79/200\n",
      "1456/1456 [==============================] - 2s 1ms/step - loss: 0.3340 - accuracy: 0.8812 - val_loss: 0.5248 - val_accuracy: 0.7562\n",
      "Epoch 80/200\n",
      "1456/1456 [==============================] - 2s 1ms/step - loss: 0.3333 - accuracy: 0.8757 - val_loss: 0.5175 - val_accuracy: 0.7534\n",
      "Epoch 81/200\n",
      "1456/1456 [==============================] - 2s 1ms/step - loss: 0.3233 - accuracy: 0.8784 - val_loss: 0.5372 - val_accuracy: 0.7452\n",
      "Epoch 82/200\n",
      "1456/1456 [==============================] - 2s 1ms/step - loss: 0.3195 - accuracy: 0.8791 - val_loss: 0.5518 - val_accuracy: 0.7562\n",
      "Epoch 83/200\n",
      "1456/1456 [==============================] - 2s 1ms/step - loss: 0.3176 - accuracy: 0.8819 - val_loss: 0.6455 - val_accuracy: 0.7068\n",
      "Epoch 84/200\n",
      "1456/1456 [==============================] - 2s 1ms/step - loss: 0.3179 - accuracy: 0.8716 - val_loss: 0.5325 - val_accuracy: 0.7562\n",
      "Epoch 85/200\n",
      "1456/1456 [==============================] - 2s 1ms/step - loss: 0.3190 - accuracy: 0.8750 - val_loss: 0.6022 - val_accuracy: 0.7315\n",
      "Epoch 86/200\n",
      "1456/1456 [==============================] - 2s 1ms/step - loss: 0.3117 - accuracy: 0.8846 - val_loss: 0.5567 - val_accuracy: 0.7342\n",
      "Epoch 87/200\n",
      "1456/1456 [==============================] - 2s 1ms/step - loss: 0.3124 - accuracy: 0.8791 - val_loss: 0.6102 - val_accuracy: 0.7233\n",
      "Epoch 88/200\n",
      "1456/1456 [==============================] - 2s 1ms/step - loss: 0.3058 - accuracy: 0.8894 - val_loss: 0.5385 - val_accuracy: 0.7397\n",
      "Epoch 89/200\n",
      "1456/1456 [==============================] - 2s 1ms/step - loss: 0.3009 - accuracy: 0.8887 - val_loss: 0.5372 - val_accuracy: 0.7671\n",
      "Epoch 90/200\n",
      "1456/1456 [==============================] - 2s 1ms/step - loss: 0.2977 - accuracy: 0.8915 - val_loss: 0.5176 - val_accuracy: 0.7589\n",
      "Epoch 91/200\n",
      "1456/1456 [==============================] - 2s 1ms/step - loss: 0.3003 - accuracy: 0.8846 - val_loss: 0.5305 - val_accuracy: 0.7562\n",
      "Epoch 92/200\n",
      "1456/1456 [==============================] - 2s 1ms/step - loss: 0.2931 - accuracy: 0.8826 - val_loss: 0.5469 - val_accuracy: 0.7479\n",
      "Epoch 93/200\n",
      "1456/1456 [==============================] - 2s 1ms/step - loss: 0.2938 - accuracy: 0.8839 - val_loss: 0.5213 - val_accuracy: 0.7699\n",
      "Epoch 94/200\n",
      "1456/1456 [==============================] - 2s 1ms/step - loss: 0.2858 - accuracy: 0.8908 - val_loss: 0.6526 - val_accuracy: 0.7151\n",
      "Epoch 95/200\n",
      "1456/1456 [==============================] - 2s 1ms/step - loss: 0.2870 - accuracy: 0.8956 - val_loss: 0.5345 - val_accuracy: 0.7644\n",
      "Epoch 96/200\n",
      "1456/1456 [==============================] - 2s 1ms/step - loss: 0.2811 - accuracy: 0.8963 - val_loss: 0.5614 - val_accuracy: 0.7452\n",
      "Epoch 97/200\n",
      "1456/1456 [==============================] - 2s 1ms/step - loss: 0.2884 - accuracy: 0.8887 - val_loss: 0.5910 - val_accuracy: 0.7479\n",
      "Epoch 98/200\n",
      "1456/1456 [==============================] - 2s 1ms/step - loss: 0.2774 - accuracy: 0.9080 - val_loss: 0.5328 - val_accuracy: 0.7562\n",
      "Epoch 99/200\n",
      "1456/1456 [==============================] - 2s 1ms/step - loss: 0.2759 - accuracy: 0.9004 - val_loss: 0.5420 - val_accuracy: 0.7589\n",
      "Epoch 100/200\n",
      "1456/1456 [==============================] - 2s 1ms/step - loss: 0.2759 - accuracy: 0.8956 - val_loss: 0.5259 - val_accuracy: 0.7671\n",
      "Epoch 101/200\n",
      "1456/1456 [==============================] - 2s 1ms/step - loss: 0.2716 - accuracy: 0.9004 - val_loss: 0.5223 - val_accuracy: 0.7562\n",
      "Epoch 102/200\n",
      "1456/1456 [==============================] - 2s 1ms/step - loss: 0.2662 - accuracy: 0.9011 - val_loss: 0.5632 - val_accuracy: 0.7534\n",
      "Epoch 103/200\n",
      "1456/1456 [==============================] - 2s 1ms/step - loss: 0.2689 - accuracy: 0.9052 - val_loss: 0.6115 - val_accuracy: 0.7397\n",
      "Epoch 104/200\n",
      "1456/1456 [==============================] - 2s 1ms/step - loss: 0.2627 - accuracy: 0.9025 - val_loss: 0.5489 - val_accuracy: 0.7644\n",
      "Epoch 105/200\n",
      "1456/1456 [==============================] - 2s 1ms/step - loss: 0.2676 - accuracy: 0.9004 - val_loss: 0.5444 - val_accuracy: 0.7507\n",
      "Epoch 106/200\n",
      "1456/1456 [==============================] - 2s 1ms/step - loss: 0.2631 - accuracy: 0.9045 - val_loss: 0.5329 - val_accuracy: 0.7671\n",
      "Epoch 107/200\n",
      "1456/1456 [==============================] - 2s 1ms/step - loss: 0.2596 - accuracy: 0.9080 - val_loss: 0.6036 - val_accuracy: 0.7452\n",
      "Epoch 108/200\n",
      "1456/1456 [==============================] - 2s 1ms/step - loss: 0.2557 - accuracy: 0.9059 - val_loss: 0.5866 - val_accuracy: 0.7562\n",
      "Epoch 109/200\n",
      "1456/1456 [==============================] - 2s 1ms/step - loss: 0.2535 - accuracy: 0.9093 - val_loss: 0.5500 - val_accuracy: 0.7726\n",
      "Epoch 110/200\n",
      "1456/1456 [==============================] - 2s 1ms/step - loss: 0.2528 - accuracy: 0.9032 - val_loss: 0.6838 - val_accuracy: 0.7342\n",
      "Epoch 111/200\n",
      "1456/1456 [==============================] - 2s 1ms/step - loss: 0.2520 - accuracy: 0.9093 - val_loss: 0.5323 - val_accuracy: 0.7781\n",
      "Epoch 112/200\n",
      "1456/1456 [==============================] - 2s 1ms/step - loss: 0.2477 - accuracy: 0.9073 - val_loss: 0.7187 - val_accuracy: 0.7151\n",
      "Epoch 113/200\n"
     ]
    },
    {
     "name": "stdout",
     "output_type": "stream",
     "text": [
      "1456/1456 [==============================] - 2s 1ms/step - loss: 0.2450 - accuracy: 0.9121 - val_loss: 0.5410 - val_accuracy: 0.7534\n",
      "Epoch 114/200\n",
      "1456/1456 [==============================] - 2s 1ms/step - loss: 0.2492 - accuracy: 0.9093 - val_loss: 0.5439 - val_accuracy: 0.7726\n",
      "Epoch 115/200\n",
      "1456/1456 [==============================] - 2s 1ms/step - loss: 0.2371 - accuracy: 0.9183 - val_loss: 0.6811 - val_accuracy: 0.7178\n",
      "Epoch 116/200\n",
      "1456/1456 [==============================] - 2s 1ms/step - loss: 0.2374 - accuracy: 0.9203 - val_loss: 0.5465 - val_accuracy: 0.7781\n",
      "Epoch 117/200\n",
      "1456/1456 [==============================] - 2s 1ms/step - loss: 0.2399 - accuracy: 0.9107 - val_loss: 0.6750 - val_accuracy: 0.7288\n",
      "Epoch 118/200\n",
      "1456/1456 [==============================] - 2s 1ms/step - loss: 0.2339 - accuracy: 0.9100 - val_loss: 0.5455 - val_accuracy: 0.7616\n",
      "Epoch 119/200\n",
      "1456/1456 [==============================] - 2s 1ms/step - loss: 0.2318 - accuracy: 0.9190 - val_loss: 0.5514 - val_accuracy: 0.7753\n",
      "Epoch 120/200\n",
      "1456/1456 [==============================] - 2s 1ms/step - loss: 0.2295 - accuracy: 0.9190 - val_loss: 0.5644 - val_accuracy: 0.7671\n",
      "Epoch 121/200\n",
      "1456/1456 [==============================] - 2s 1ms/step - loss: 0.2334 - accuracy: 0.9128 - val_loss: 0.5820 - val_accuracy: 0.7644\n",
      "Epoch 122/200\n",
      "1456/1456 [==============================] - 2s 1ms/step - loss: 0.2281 - accuracy: 0.9176 - val_loss: 0.5654 - val_accuracy: 0.7699\n",
      "Epoch 123/200\n",
      "1456/1456 [==============================] - 2s 1ms/step - loss: 0.2197 - accuracy: 0.9148 - val_loss: 0.5658 - val_accuracy: 0.7616\n",
      "Epoch 124/200\n",
      "1456/1456 [==============================] - 2s 1ms/step - loss: 0.2232 - accuracy: 0.9217 - val_loss: 0.5857 - val_accuracy: 0.7671\n",
      "Epoch 125/200\n",
      "1456/1456 [==============================] - 2s 1ms/step - loss: 0.2201 - accuracy: 0.9238 - val_loss: 0.5504 - val_accuracy: 0.7534\n",
      "Epoch 126/200\n",
      "1456/1456 [==============================] - 2s 1ms/step - loss: 0.2209 - accuracy: 0.9190 - val_loss: 0.6669 - val_accuracy: 0.7425\n",
      "Epoch 127/200\n",
      "1456/1456 [==============================] - 2s 1ms/step - loss: 0.2175 - accuracy: 0.9245 - val_loss: 0.5486 - val_accuracy: 0.7863\n",
      "Epoch 128/200\n",
      "1456/1456 [==============================] - 2s 1ms/step - loss: 0.2201 - accuracy: 0.9210 - val_loss: 0.5514 - val_accuracy: 0.7753\n",
      "Epoch 129/200\n",
      "1456/1456 [==============================] - 2s 1ms/step - loss: 0.2159 - accuracy: 0.9320 - val_loss: 0.5652 - val_accuracy: 0.7589\n",
      "Epoch 130/200\n",
      "1456/1456 [==============================] - 2s 1ms/step - loss: 0.2076 - accuracy: 0.9299 - val_loss: 0.5517 - val_accuracy: 0.7781\n",
      "Epoch 131/200\n",
      "1456/1456 [==============================] - 2s 1ms/step - loss: 0.2112 - accuracy: 0.9210 - val_loss: 0.5799 - val_accuracy: 0.7616\n",
      "Epoch 132/200\n",
      "1456/1456 [==============================] - 2s 1ms/step - loss: 0.2133 - accuracy: 0.9272 - val_loss: 0.5547 - val_accuracy: 0.7671\n",
      "Epoch 133/200\n",
      "1456/1456 [==============================] - 2s 1ms/step - loss: 0.2074 - accuracy: 0.9162 - val_loss: 0.5751 - val_accuracy: 0.7726\n",
      "Epoch 134/200\n",
      "1456/1456 [==============================] - 2s 1ms/step - loss: 0.2092 - accuracy: 0.9265 - val_loss: 0.6569 - val_accuracy: 0.7260\n",
      "Epoch 135/200\n",
      "1456/1456 [==============================] - 2s 1ms/step - loss: 0.2012 - accuracy: 0.9293 - val_loss: 0.5565 - val_accuracy: 0.7808\n",
      "Epoch 136/200\n",
      "1456/1456 [==============================] - 2s 1ms/step - loss: 0.1948 - accuracy: 0.9402 - val_loss: 0.5696 - val_accuracy: 0.7699\n",
      "Epoch 137/200\n",
      "1456/1456 [==============================] - 2s 1ms/step - loss: 0.1960 - accuracy: 0.9375 - val_loss: 0.5497 - val_accuracy: 0.7699\n",
      "Epoch 138/200\n",
      "1456/1456 [==============================] - 2s 1ms/step - loss: 0.1968 - accuracy: 0.9341 - val_loss: 0.6050 - val_accuracy: 0.7644\n",
      "Epoch 139/200\n",
      "1456/1456 [==============================] - 2s 1ms/step - loss: 0.1984 - accuracy: 0.9293 - val_loss: 0.5730 - val_accuracy: 0.7671\n",
      "Epoch 140/200\n",
      "1456/1456 [==============================] - 2s 1ms/step - loss: 0.1940 - accuracy: 0.9320 - val_loss: 0.5656 - val_accuracy: 0.7726\n",
      "Epoch 141/200\n",
      "1456/1456 [==============================] - 2s 1ms/step - loss: 0.1854 - accuracy: 0.9382 - val_loss: 0.5994 - val_accuracy: 0.7671\n",
      "Epoch 142/200\n",
      "1456/1456 [==============================] - 2s 1ms/step - loss: 0.1855 - accuracy: 0.9416 - val_loss: 0.5668 - val_accuracy: 0.7616\n",
      "Epoch 143/200\n",
      "1456/1456 [==============================] - 2s 1ms/step - loss: 0.1871 - accuracy: 0.9368 - val_loss: 0.5737 - val_accuracy: 0.7644\n",
      "Epoch 144/200\n",
      "1456/1456 [==============================] - 2s 1ms/step - loss: 0.1827 - accuracy: 0.9423 - val_loss: 0.6338 - val_accuracy: 0.7452\n",
      "Epoch 145/200\n",
      "1456/1456 [==============================] - 2s 1ms/step - loss: 0.1839 - accuracy: 0.9382 - val_loss: 0.7017 - val_accuracy: 0.7452\n",
      "Epoch 146/200\n",
      "1456/1456 [==============================] - 2s 1ms/step - loss: 0.1839 - accuracy: 0.9354 - val_loss: 0.5762 - val_accuracy: 0.7616\n",
      "Epoch 147/200\n",
      "1456/1456 [==============================] - 2s 1ms/step - loss: 0.1753 - accuracy: 0.9512 - val_loss: 0.5740 - val_accuracy: 0.7534\n",
      "Epoch 148/200\n",
      "1456/1456 [==============================] - 2s 1ms/step - loss: 0.1784 - accuracy: 0.9402 - val_loss: 0.6047 - val_accuracy: 0.7808\n",
      "Epoch 149/200\n",
      "1456/1456 [==============================] - 2s 1ms/step - loss: 0.1765 - accuracy: 0.9409 - val_loss: 0.5894 - val_accuracy: 0.7753\n",
      "Epoch 150/200\n",
      "1456/1456 [==============================] - 2s 1ms/step - loss: 0.1789 - accuracy: 0.9348 - val_loss: 0.5898 - val_accuracy: 0.7671\n",
      "Epoch 151/200\n",
      "1456/1456 [==============================] - 2s 1ms/step - loss: 0.1692 - accuracy: 0.9457 - val_loss: 0.6193 - val_accuracy: 0.7452\n",
      "Epoch 152/200\n",
      "1456/1456 [==============================] - 2s 1ms/step - loss: 0.1757 - accuracy: 0.9334 - val_loss: 0.5732 - val_accuracy: 0.7726\n",
      "Epoch 153/200\n",
      "1456/1456 [==============================] - 2s 1ms/step - loss: 0.1676 - accuracy: 0.9430 - val_loss: 0.6703 - val_accuracy: 0.7315\n",
      "Epoch 154/200\n",
      "1456/1456 [==============================] - 2s 1ms/step - loss: 0.1740 - accuracy: 0.9437 - val_loss: 0.5829 - val_accuracy: 0.7781\n",
      "Epoch 155/200\n",
      "1456/1456 [==============================] - 2s 1ms/step - loss: 0.1649 - accuracy: 0.9471 - val_loss: 0.6551 - val_accuracy: 0.7644\n",
      "Epoch 156/200\n",
      "1456/1456 [==============================] - 2s 1ms/step - loss: 0.1657 - accuracy: 0.9457 - val_loss: 0.5891 - val_accuracy: 0.7863\n",
      "Epoch 157/200\n",
      "1456/1456 [==============================] - 2s 1ms/step - loss: 0.1606 - accuracy: 0.9512 - val_loss: 0.5999 - val_accuracy: 0.7616\n",
      "Epoch 158/200\n",
      "1456/1456 [==============================] - 2s 1ms/step - loss: 0.1598 - accuracy: 0.9485 - val_loss: 0.6123 - val_accuracy: 0.7616\n",
      "Epoch 159/200\n",
      "1456/1456 [==============================] - 2s 1ms/step - loss: 0.1609 - accuracy: 0.9526 - val_loss: 0.6376 - val_accuracy: 0.7726\n",
      "Epoch 160/200\n",
      "1456/1456 [==============================] - 2s 1ms/step - loss: 0.1582 - accuracy: 0.9540 - val_loss: 0.6168 - val_accuracy: 0.7808\n",
      "Epoch 161/200\n",
      "1456/1456 [==============================] - 2s 1ms/step - loss: 0.1588 - accuracy: 0.9519 - val_loss: 0.6117 - val_accuracy: 0.7973\n",
      "Epoch 162/200\n",
      "1456/1456 [==============================] - 2s 1ms/step - loss: 0.1567 - accuracy: 0.9519 - val_loss: 0.6518 - val_accuracy: 0.7452\n",
      "Epoch 163/200\n",
      "1456/1456 [==============================] - 2s 1ms/step - loss: 0.1554 - accuracy: 0.9485 - val_loss: 0.5877 - val_accuracy: 0.7836\n",
      "Epoch 164/200\n",
      "1456/1456 [==============================] - 2s 1ms/step - loss: 0.1544 - accuracy: 0.9492 - val_loss: 0.6285 - val_accuracy: 0.7699\n",
      "Epoch 165/200\n",
      "1456/1456 [==============================] - 2s 1ms/step - loss: 0.1529 - accuracy: 0.9574 - val_loss: 0.6319 - val_accuracy: 0.7753\n",
      "Epoch 166/200\n",
      "1456/1456 [==============================] - 2s 1ms/step - loss: 0.1432 - accuracy: 0.9636 - val_loss: 0.5916 - val_accuracy: 0.7699\n",
      "Epoch 167/200\n",
      "1456/1456 [==============================] - 2s 1ms/step - loss: 0.1472 - accuracy: 0.9574 - val_loss: 0.6498 - val_accuracy: 0.7753\n",
      "Epoch 168/200\n",
      "1456/1456 [==============================] - 2s 1ms/step - loss: 0.1457 - accuracy: 0.9567 - val_loss: 0.6562 - val_accuracy: 0.7534\n"
     ]
    },
    {
     "name": "stdout",
     "output_type": "stream",
     "text": [
      "Epoch 169/200\n",
      "1456/1456 [==============================] - 2s 1ms/step - loss: 0.1445 - accuracy: 0.9650 - val_loss: 0.5988 - val_accuracy: 0.7644\n",
      "Epoch 170/200\n",
      "1456/1456 [==============================] - 2s 1ms/step - loss: 0.1352 - accuracy: 0.9670 - val_loss: 0.7419 - val_accuracy: 0.7507\n",
      "Epoch 171/200\n",
      "1456/1456 [==============================] - 2s 1ms/step - loss: 0.1387 - accuracy: 0.9581 - val_loss: 0.6397 - val_accuracy: 0.7699\n",
      "Epoch 172/200\n",
      "1456/1456 [==============================] - 2s 1ms/step - loss: 0.1433 - accuracy: 0.9554 - val_loss: 0.6464 - val_accuracy: 0.7479\n",
      "Epoch 173/200\n",
      "1456/1456 [==============================] - 2s 1ms/step - loss: 0.1406 - accuracy: 0.9533 - val_loss: 0.6360 - val_accuracy: 0.7781\n",
      "Epoch 174/200\n",
      "1456/1456 [==============================] - 2s 1ms/step - loss: 0.1375 - accuracy: 0.9643 - val_loss: 0.6276 - val_accuracy: 0.7644\n",
      "Epoch 175/200\n",
      "1456/1456 [==============================] - 2s 1ms/step - loss: 0.1326 - accuracy: 0.9636 - val_loss: 0.6442 - val_accuracy: 0.7808\n",
      "Epoch 176/200\n",
      "1456/1456 [==============================] - 2s 1ms/step - loss: 0.1375 - accuracy: 0.9609 - val_loss: 0.6990 - val_accuracy: 0.7479\n",
      "Epoch 177/200\n",
      "1456/1456 [==============================] - 2s 1ms/step - loss: 0.1398 - accuracy: 0.9533 - val_loss: 0.6424 - val_accuracy: 0.7726\n",
      "Epoch 178/200\n",
      "1456/1456 [==============================] - 2s 1ms/step - loss: 0.1356 - accuracy: 0.9615 - val_loss: 0.6401 - val_accuracy: 0.7671\n",
      "Epoch 179/200\n",
      "1456/1456 [==============================] - 2s 1ms/step - loss: 0.1260 - accuracy: 0.9650 - val_loss: 0.6135 - val_accuracy: 0.7699\n",
      "Epoch 180/200\n",
      "1456/1456 [==============================] - 2s 1ms/step - loss: 0.1303 - accuracy: 0.9615 - val_loss: 0.6260 - val_accuracy: 0.7671\n",
      "Epoch 181/200\n",
      "1456/1456 [==============================] - 2s 1ms/step - loss: 0.1259 - accuracy: 0.9643 - val_loss: 0.6251 - val_accuracy: 0.7753\n",
      "Epoch 182/200\n",
      "1456/1456 [==============================] - 2s 1ms/step - loss: 0.1275 - accuracy: 0.9595 - val_loss: 0.7027 - val_accuracy: 0.7534\n",
      "Epoch 183/200\n",
      "1456/1456 [==============================] - 2s 1ms/step - loss: 0.1295 - accuracy: 0.9567 - val_loss: 0.6950 - val_accuracy: 0.7699\n",
      "Epoch 184/200\n",
      "1456/1456 [==============================] - 2s 1ms/step - loss: 0.1213 - accuracy: 0.9643 - val_loss: 0.6605 - val_accuracy: 0.7397\n",
      "Epoch 185/200\n",
      "1456/1456 [==============================] - 2s 1ms/step - loss: 0.1266 - accuracy: 0.9643 - val_loss: 0.6465 - val_accuracy: 0.7699\n",
      "Epoch 186/200\n",
      "1456/1456 [==============================] - 2s 1ms/step - loss: 0.1174 - accuracy: 0.9705 - val_loss: 0.6783 - val_accuracy: 0.7836\n",
      "Epoch 187/200\n",
      "1456/1456 [==============================] - 2s 1ms/step - loss: 0.1231 - accuracy: 0.9636 - val_loss: 0.8275 - val_accuracy: 0.7397\n",
      "Epoch 188/200\n",
      "1456/1456 [==============================] - 2s 1ms/step - loss: 0.1230 - accuracy: 0.9663 - val_loss: 0.6766 - val_accuracy: 0.7507\n",
      "Epoch 189/200\n",
      "1456/1456 [==============================] - 2s 1ms/step - loss: 0.1140 - accuracy: 0.9725 - val_loss: 0.6824 - val_accuracy: 0.7699\n",
      "Epoch 190/200\n",
      "1456/1456 [==============================] - 2s 1ms/step - loss: 0.1149 - accuracy: 0.9712 - val_loss: 0.6576 - val_accuracy: 0.7507\n",
      "Epoch 191/200\n",
      "1456/1456 [==============================] - 2s 1ms/step - loss: 0.1157 - accuracy: 0.9698 - val_loss: 0.6978 - val_accuracy: 0.7671\n",
      "Epoch 192/200\n",
      "1456/1456 [==============================] - 2s 1ms/step - loss: 0.1182 - accuracy: 0.9629 - val_loss: 0.6744 - val_accuracy: 0.7781\n",
      "Epoch 193/200\n",
      "1456/1456 [==============================] - 2s 1ms/step - loss: 0.1169 - accuracy: 0.9712 - val_loss: 0.6474 - val_accuracy: 0.7726\n",
      "Epoch 194/200\n",
      "1456/1456 [==============================] - 2s 1ms/step - loss: 0.1107 - accuracy: 0.9712 - val_loss: 0.6793 - val_accuracy: 0.7699\n",
      "Epoch 195/200\n",
      "1456/1456 [==============================] - 2s 1ms/step - loss: 0.1061 - accuracy: 0.9732 - val_loss: 0.7349 - val_accuracy: 0.7699\n",
      "Epoch 196/200\n",
      "1456/1456 [==============================] - 2s 1ms/step - loss: 0.1050 - accuracy: 0.9718 - val_loss: 0.7015 - val_accuracy: 0.7644\n",
      "Epoch 197/200\n",
      "1456/1456 [==============================] - 2s 1ms/step - loss: 0.1153 - accuracy: 0.9657 - val_loss: 0.7440 - val_accuracy: 0.7534\n",
      "Epoch 198/200\n",
      "1456/1456 [==============================] - 2s 1ms/step - loss: 0.1086 - accuracy: 0.9705 - val_loss: 0.6441 - val_accuracy: 0.7753\n",
      "Epoch 199/200\n",
      "1456/1456 [==============================] - 2s 1ms/step - loss: 0.1091 - accuracy: 0.9691 - val_loss: 0.7135 - val_accuracy: 0.7781\n",
      "Epoch 200/200\n",
      "1456/1456 [==============================] - 2s 1ms/step - loss: 0.1013 - accuracy: 0.9739 - val_loss: 0.6606 - val_accuracy: 0.7562\n"
     ]
    },
    {
     "data": {
      "text/plain": [
       "<keras.callbacks.callbacks.History at 0x7efe919b6dd8>"
      ]
     },
     "execution_count": 24,
     "metadata": {},
     "output_type": "execute_result"
    }
   ],
   "source": [
    "batch_size = 32\n",
    "num_classes = 2\n",
    "epochs = 200\n",
    "\n",
    "# convert class vectors to binary class matrices\n",
    "y_train = keras.utils.to_categorical(y_train, num_classes)\n",
    "y_test = keras.utils.to_categorical(y_test, num_classes)\n",
    "\n",
    "\n",
    "model = get_model_1(input_shape, num_classes)\n",
    "# model = get_model_2(input_shape, num_classes)\n",
    "\n",
    "\n",
    "# initiate RMSprop optimizer\n",
    "opt = keras.optimizers.rmsprop(lr=0.0001, decay=1e-6)\n",
    "\n",
    "# Let's train the model using RMSprop\n",
    "model.compile(loss='categorical_crossentropy',\n",
    "              optimizer=opt,\n",
    "              metrics=['accuracy'])\n",
    "\n",
    "x_train = x_train.astype('float32')\n",
    "x_test = x_test.astype('float32')\n",
    "#x_train /= 255\n",
    "#x_test /= 255\n",
    "\n",
    "\n",
    "model.fit(x_train, y_train,\n",
    "          batch_size=batch_size,\n",
    "          epochs=epochs,\n",
    "          validation_data=(x_test, y_test),\n",
    "          shuffle=True)"
   ]
  },
  {
   "cell_type": "code",
   "execution_count": null,
   "metadata": {
    "collapsed": true
   },
   "outputs": [],
   "source": []
  }
 ],
 "metadata": {
  "anaconda-cloud": {},
  "kernelspec": {
   "display_name": "Python 3",
   "language": "python",
   "name": "python3"
  },
  "language_info": {
   "codemirror_mode": {
    "name": "ipython",
    "version": 3
   },
   "file_extension": ".py",
   "mimetype": "text/x-python",
   "name": "python",
   "nbconvert_exporter": "python",
   "pygments_lexer": "ipython3",
   "version": "3.5.2"
  }
 },
 "nbformat": 4,
 "nbformat_minor": 1
}
