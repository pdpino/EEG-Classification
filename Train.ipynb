{
 "cells": [
  {
   "cell_type": "code",
   "execution_count": 2,
   "metadata": {},
   "outputs": [],
   "source": [
    "import pandas as pd\n",
    "import numpy as np\n",
    "from sklearn.model_selection import train_test_split\n",
    "from sklearn.metrics import accuracy_score, recall_score, precision_score\n",
    "import keras\n",
    "import matplotlib.pyplot as plt\n",
    "%matplotlib inline\n",
    "\n",
    "plt.style.use('ggplot')\n",
    "from IPython.core.display import display, HTML\n",
    "# display(HTML(\"<style>.container { width:100% !important; }</style>\"))\n",
    "plt.rcParams[\"figure.figsize\"] = (12,12)\n",
    "pd.options.display.max_columns = None\n",
    "pd.options.display.precision = 4"
   ]
  },
  {
   "cell_type": "markdown",
   "metadata": {},
   "source": [
    "## Brainwave Frequencies:\n",
    "Gamma, 30 to 50 Hz.  \n",
    "Beta, 14 to 30 Hz.  \n",
    "Alpha, 8 to 14 Hz.  \n",
    "Theta, 4 to 8 Hz.  \n",
    "Delta, 0.1 to 4 Hz.  "
   ]
  },
  {
   "cell_type": "markdown",
   "metadata": {},
   "source": [
    "## Changing Bin Size: \n",
    "https://stackoverflow.com/questions/25735153/plotting-a-fast-fourier-transform-in-python  \n",
    "(Search for 'bin')"
   ]
  },
  {
   "cell_type": "markdown",
   "metadata": {},
   "source": [
    "An EEG processing library:  \n",
    "https://github.com/pbashivan/EEGLearn"
   ]
  },
  {
   "cell_type": "markdown",
   "metadata": {},
   "source": [
    "#### Load Preprocessing"
   ]
  },
  {
   "cell_type": "code",
   "execution_count": 3,
   "metadata": {},
   "outputs": [],
   "source": [
    "%run utils.py"
   ]
  },
  {
   "cell_type": "markdown",
   "metadata": {},
   "source": [
    "#### Load Models"
   ]
  },
  {
   "cell_type": "code",
   "execution_count": 61,
   "metadata": {},
   "outputs": [],
   "source": [
    "%run models.py\n",
    "%run cam.py"
   ]
  },
  {
   "cell_type": "markdown",
   "metadata": {},
   "source": [
    "#### Preprocessing"
   ]
  },
  {
   "cell_type": "code",
   "execution_count": 5,
   "metadata": {},
   "outputs": [
    {
     "name": "stdout",
     "output_type": "stream",
     "text": [
      "Generating training data...\n",
      "CPU times: user 21.4 s, sys: 2.48 s, total: 23.8 sing 75/117Interpolating 98/117Interpolating 117/117Interpolating 1/112Interpolating 58/112Interpolating 109/112Interpolating 1/111Interpolating 54/111Interpolating 101/111Interpolating 1/109Interpolating 58/109Interpolating 107/109Interpolating 1/113Interpolating 55/113Interpolating 107/113Interpolating 1/104Interpolating 57/104Interpolating 91/104Interpolating 1/101Interpolating 33/101Interpolating 85/101Interpolating 1/102Interpolating 58/102Interpolating 1/107Interpolating 57/107Interpolating 1/113Interpolating 58/113Interpolating 111/113Interpolating 1/115Interpolating 58/115Interpolating 111/115Interpolating 1/139Interpolating 58/139Interpolating 112/139Interpolating 1/123Interpolating 58/123Interpolating 112/123Interpolating 1/118Interpolating 59/118Interpolating 109/118Interpolating 1/120Interpolating 57/120Interpolating 107/120Interpolating 1/117Interpolating 58/117Interpolating 111/117\n",
      "Wall time: 24.1 s\n"
     ]
    }
   ],
   "source": [
    "%%time\n",
    "\n",
    "image_size = 28\n",
    "frame_duration = 1.0\n",
    "overlap = 0.5\n",
    "X, y = make_data_pipeline(file_names,labels,image_size,frame_duration,overlap)"
   ]
  },
  {
   "cell_type": "markdown",
   "metadata": {},
   "source": [
    "## Training"
   ]
  },
  {
   "cell_type": "code",
   "execution_count": 8,
   "metadata": {},
   "outputs": [],
   "source": [
    "x_train, x_test, y_train, y_test = train_test_split(X, y, test_size=0.20,shuffle=True)"
   ]
  },
  {
   "cell_type": "code",
   "execution_count": 10,
   "metadata": {},
   "outputs": [
    {
     "name": "stdout",
     "output_type": "stream",
     "text": [
      "x_train shape: (1456, 28, 28, 3)\n",
      "1456 train samples\n",
      "365 test samples\n"
     ]
    }
   ],
   "source": [
    "# input image dimensions\n",
    "img_rows, img_cols = 28, 28\n",
    "\n",
    "x_train = x_train.astype('float32')\n",
    "x_test = x_test.astype('float32')\n",
    "#x_train /= 255\n",
    "#x_test /= 255\n",
    "print('x_train shape:', x_train.shape)\n",
    "print(x_train.shape[0], 'train samples')\n",
    "print(x_test.shape[0], 'test samples')\n",
    "\n",
    "input_shape = (img_rows, img_cols, 3)"
   ]
  },
  {
   "cell_type": "markdown",
   "metadata": {},
   "source": [
    "### Train Original Model"
   ]
  },
  {
   "cell_type": "code",
   "execution_count": 46,
   "metadata": {},
   "outputs": [],
   "source": [
    "batch_size = 32\n",
    "num_classes = 2\n",
    "epochs = 200\n",
    "\n",
    "# convert class vectors to binary class matrices\n",
    "y_train_cat = keras.utils.to_categorical(y_train, num_classes)\n",
    "y_test_cat = keras.utils.to_categorical(y_test, num_classes)\n",
    "\n",
    "\n",
    "model = get_func_model_2(input_shape, num_classes)\n",
    "# model = get_func_model_1(input_shape, num_classes)\n",
    "\n",
    "\n",
    "# initiate RMSprop optimizer\n",
    "opt = keras.optimizers.rmsprop(lr=0.0001, decay=1e-6)\n",
    "\n",
    "# Let's train the model using RMSprop\n",
    "model.compile(loss='categorical_crossentropy',\n",
    "              optimizer=opt,\n",
    "              metrics=['accuracy'])\n",
    "\n",
    "x_train = x_train.astype('float32')\n",
    "x_test = x_test.astype('float32')\n",
    "#x_train /= 255\n",
    "#x_test /= 255"
   ]
  },
  {
   "cell_type": "code",
   "execution_count": 84,
   "metadata": {},
   "outputs": [],
   "source": [
    "class CamCallback(tf.keras.callbacks.Callback):\n",
    "    \n",
    "    def __init__(self):\n",
    "        super().__init__()\n",
    "\n",
    "    def on_epoch_end(self, epoch, logs):\n",
    "        cam_n, heatmap_n = naive_cam(self.model, X)\n",
    "        y_pred = self.model.predict(X)\n",
    "        y_pred = np.argmax(y_pred, axis=1)\n",
    "        accuracy = accuracy_score(y, y_pred)\n",
    "        precision = precision_score(y, y_pred)\n",
    "        recall = recall_score(y, y_pred)\n",
    "        loss = logs['loss']\n",
    "        epochs_data.append({\n",
    "            'accuracy': accuracy,\n",
    "            'precision': precision,\n",
    "            'recall': recall,\n",
    "            'loss': loss,\n",
    "            'attention': heatmap_n.tolist()\n",
    "        })\n",
    "        print(f'Accuracy: {accuracy}, Precision: {precision}, Recall: {recall}, Loss: {loss}')\n",
    "        \n",
    "        \n",
    "epochs_data = []\n"
   ]
  },
  {
   "cell_type": "code",
   "execution_count": 47,
   "metadata": {},
   "outputs": [
    {
     "name": "stdout",
     "output_type": "stream",
     "text": [
      "Train on 1456 samples, validate on 365 samples\n",
      "Epoch 1/200\n",
      "1456/1456 [==============================] - 5s 3ms/step - loss: 0.6936 - acc: 0.5089 - val_loss: 0.6918 - val_acc: 0.4822\n",
      "Epoch 2/200\n",
      "1456/1456 [==============================] - 2s 2ms/step - loss: 0.6864 - acc: 0.5433 - val_loss: 0.6924 - val_acc: 0.5452\n",
      "Epoch 3/200\n",
      "1456/1456 [==============================] - 2s 2ms/step - loss: 0.6822 - acc: 0.5769 - val_loss: 0.6868 - val_acc: 0.5233\n",
      "Epoch 4/200\n",
      "1456/1456 [==============================] - 2s 2ms/step - loss: 0.6765 - acc: 0.6044 - val_loss: 0.6867 - val_acc: 0.5452\n",
      "Epoch 5/200\n",
      "1456/1456 [==============================] - 2s 2ms/step - loss: 0.6728 - acc: 0.5962 - val_loss: 0.6917 - val_acc: 0.5699\n",
      "Epoch 6/200\n",
      "1456/1456 [==============================] - 2s 2ms/step - loss: 0.6696 - acc: 0.6271 - val_loss: 0.6856 - val_acc: 0.5589\n",
      "Epoch 7/200\n",
      "1456/1456 [==============================] - 2s 2ms/step - loss: 0.6655 - acc: 0.6257 - val_loss: 0.6859 - val_acc: 0.5507\n",
      "Epoch 8/200\n",
      "1456/1456 [==============================] - 2s 2ms/step - loss: 0.6611 - acc: 0.6380 - val_loss: 0.6835 - val_acc: 0.5507\n",
      "Epoch 9/200\n",
      "1456/1456 [==============================] - 2s 2ms/step - loss: 0.6573 - acc: 0.6319 - val_loss: 0.6811 - val_acc: 0.5589\n",
      "Epoch 10/200\n",
      "1456/1456 [==============================] - 2s 2ms/step - loss: 0.6544 - acc: 0.6429 - val_loss: 0.6767 - val_acc: 0.5890\n",
      "Epoch 11/200\n",
      "1456/1456 [==============================] - 2s 2ms/step - loss: 0.6507 - acc: 0.6484 - val_loss: 0.6727 - val_acc: 0.6027\n",
      "Epoch 12/200\n",
      "1456/1456 [==============================] - 2s 2ms/step - loss: 0.6474 - acc: 0.6532 - val_loss: 0.6728 - val_acc: 0.5945\n",
      "Epoch 13/200\n",
      "1456/1456 [==============================] - 2s 2ms/step - loss: 0.6439 - acc: 0.6580 - val_loss: 0.6710 - val_acc: 0.6000\n",
      "Epoch 14/200\n",
      "1456/1456 [==============================] - 2s 2ms/step - loss: 0.6406 - acc: 0.6518 - val_loss: 0.6697 - val_acc: 0.6000\n",
      "Epoch 15/200\n",
      "1456/1456 [==============================] - 2s 2ms/step - loss: 0.6356 - acc: 0.6655 - val_loss: 0.6668 - val_acc: 0.6219\n",
      "Epoch 16/200\n",
      "1456/1456 [==============================] - 2s 2ms/step - loss: 0.6307 - acc: 0.6683 - val_loss: 0.6670 - val_acc: 0.5945\n",
      "Epoch 17/200\n",
      "1456/1456 [==============================] - 2s 2ms/step - loss: 0.6275 - acc: 0.6854 - val_loss: 0.6626 - val_acc: 0.5836\n",
      "Epoch 18/200\n",
      "1456/1456 [==============================] - 2s 2ms/step - loss: 0.6212 - acc: 0.7026 - val_loss: 0.6616 - val_acc: 0.5808\n",
      "Epoch 19/200\n",
      "1456/1456 [==============================] - 2s 2ms/step - loss: 0.6190 - acc: 0.6779 - val_loss: 0.6612 - val_acc: 0.5863\n",
      "Epoch 20/200\n",
      "1456/1456 [==============================] - 2s 2ms/step - loss: 0.6166 - acc: 0.6861 - val_loss: 0.6539 - val_acc: 0.5973\n",
      "Epoch 21/200\n",
      "1456/1456 [==============================] - 2s 2ms/step - loss: 0.6132 - acc: 0.6875 - val_loss: 0.6486 - val_acc: 0.6000\n",
      "Epoch 22/200\n",
      "1456/1456 [==============================] - 3s 2ms/step - loss: 0.6090 - acc: 0.6909 - val_loss: 0.6551 - val_acc: 0.6055\n",
      "Epoch 23/200\n",
      "1456/1456 [==============================] - 2s 2ms/step - loss: 0.6038 - acc: 0.6971 - val_loss: 0.6471 - val_acc: 0.6247\n",
      "Epoch 24/200\n",
      "1456/1456 [==============================] - 2s 2ms/step - loss: 0.5986 - acc: 0.7205 - val_loss: 0.6481 - val_acc: 0.6055\n",
      "Epoch 25/200\n",
      "1456/1456 [==============================] - 3s 2ms/step - loss: 0.5945 - acc: 0.7074 - val_loss: 0.6413 - val_acc: 0.6247\n",
      "Epoch 26/200\n",
      "1456/1456 [==============================] - 3s 2ms/step - loss: 0.5885 - acc: 0.7136 - val_loss: 0.6432 - val_acc: 0.6082\n",
      "Epoch 27/200\n",
      "1456/1456 [==============================] - 3s 2ms/step - loss: 0.5853 - acc: 0.7129 - val_loss: 0.6382 - val_acc: 0.6164\n",
      "Epoch 28/200\n",
      "1456/1456 [==============================] - 3s 2ms/step - loss: 0.5794 - acc: 0.7143 - val_loss: 0.6302 - val_acc: 0.6411\n",
      "Epoch 29/200\n",
      "1456/1456 [==============================] - 3s 2ms/step - loss: 0.5762 - acc: 0.7177 - val_loss: 0.6281 - val_acc: 0.6356\n",
      "Epoch 30/200\n",
      "1456/1456 [==============================] - 3s 2ms/step - loss: 0.5719 - acc: 0.7301 - val_loss: 0.6423 - val_acc: 0.6055\n",
      "Epoch 31/200\n",
      "1456/1456 [==============================] - 3s 2ms/step - loss: 0.5679 - acc: 0.7321 - val_loss: 0.6220 - val_acc: 0.6493\n",
      "Epoch 32/200\n",
      "1456/1456 [==============================] - 3s 2ms/step - loss: 0.5624 - acc: 0.7356 - val_loss: 0.6255 - val_acc: 0.6247\n",
      "Epoch 33/200\n",
      "1456/1456 [==============================] - 3s 2ms/step - loss: 0.5576 - acc: 0.7431 - val_loss: 0.6200 - val_acc: 0.6438\n",
      "Epoch 34/200\n",
      "1456/1456 [==============================] - 3s 2ms/step - loss: 0.5533 - acc: 0.7315 - val_loss: 0.6236 - val_acc: 0.6219\n",
      "Epoch 35/200\n",
      "1456/1456 [==============================] - 3s 2ms/step - loss: 0.5484 - acc: 0.7459 - val_loss: 0.6128 - val_acc: 0.6712\n",
      "Epoch 36/200\n",
      "1456/1456 [==============================] - 3s 2ms/step - loss: 0.5464 - acc: 0.7390 - val_loss: 0.6123 - val_acc: 0.6603\n",
      "Epoch 37/200\n",
      "1456/1456 [==============================] - 3s 2ms/step - loss: 0.5385 - acc: 0.7596 - val_loss: 0.6150 - val_acc: 0.6630\n",
      "Epoch 38/200\n",
      "1456/1456 [==============================] - 3s 2ms/step - loss: 0.5389 - acc: 0.7596 - val_loss: 0.6124 - val_acc: 0.6658\n",
      "Epoch 39/200\n",
      "1456/1456 [==============================] - 3s 2ms/step - loss: 0.5292 - acc: 0.7624 - val_loss: 0.6043 - val_acc: 0.6493\n",
      "Epoch 40/200\n",
      "1456/1456 [==============================] - 3s 2ms/step - loss: 0.5264 - acc: 0.7617 - val_loss: 0.6041 - val_acc: 0.6712\n",
      "Epoch 41/200\n",
      "1456/1456 [==============================] - 3s 2ms/step - loss: 0.5195 - acc: 0.7754 - val_loss: 0.6096 - val_acc: 0.6603\n",
      "Epoch 42/200\n",
      "1456/1456 [==============================] - 3s 2ms/step - loss: 0.5171 - acc: 0.7775 - val_loss: 0.6274 - val_acc: 0.6603\n",
      "Epoch 43/200\n",
      "1456/1456 [==============================] - 4s 2ms/step - loss: 0.5112 - acc: 0.7630 - val_loss: 0.6008 - val_acc: 0.6740\n",
      "Epoch 44/200\n",
      "1456/1456 [==============================] - 3s 2ms/step - loss: 0.5094 - acc: 0.7720 - val_loss: 0.5929 - val_acc: 0.6685\n",
      "Epoch 45/200\n",
      "1456/1456 [==============================] - 3s 2ms/step - loss: 0.5026 - acc: 0.7809 - val_loss: 0.5990 - val_acc: 0.6822\n",
      "Epoch 46/200\n",
      "1456/1456 [==============================] - 3s 2ms/step - loss: 0.4969 - acc: 0.7891 - val_loss: 0.6075 - val_acc: 0.6685\n",
      "Epoch 47/200\n",
      "1456/1456 [==============================] - 3s 2ms/step - loss: 0.4938 - acc: 0.7830 - val_loss: 0.6222 - val_acc: 0.6685\n",
      "Epoch 48/200\n",
      "1456/1456 [==============================] - 3s 2ms/step - loss: 0.4917 - acc: 0.7946 - val_loss: 0.6043 - val_acc: 0.6849\n",
      "Epoch 49/200\n",
      "1456/1456 [==============================] - 4s 3ms/step - loss: 0.4852 - acc: 0.7946 - val_loss: 0.5902 - val_acc: 0.6822\n",
      "Epoch 50/200\n",
      "1456/1456 [==============================] - 5s 3ms/step - loss: 0.4794 - acc: 0.7898 - val_loss: 0.6141 - val_acc: 0.6658\n",
      "Epoch 51/200\n",
      "1456/1456 [==============================] - 6s 4ms/step - loss: 0.4755 - acc: 0.7871 - val_loss: 0.5901 - val_acc: 0.6685\n",
      "Epoch 52/200\n",
      "1456/1456 [==============================] - 3s 2ms/step - loss: 0.4730 - acc: 0.7988 - val_loss: 0.5820 - val_acc: 0.6986\n",
      "Epoch 53/200\n",
      "1456/1456 [==============================] - 6s 4ms/step - loss: 0.4659 - acc: 0.8111 - val_loss: 0.6106 - val_acc: 0.6767\n",
      "Epoch 54/200\n",
      "1456/1456 [==============================] - 6s 4ms/step - loss: 0.4592 - acc: 0.8152 - val_loss: 0.5840 - val_acc: 0.7096\n",
      "Epoch 55/200\n",
      "1456/1456 [==============================] - 5s 4ms/step - loss: 0.4568 - acc: 0.8091 - val_loss: 0.6066 - val_acc: 0.6849\n",
      "Epoch 56/200\n",
      "1456/1456 [==============================] - 6s 4ms/step - loss: 0.4527 - acc: 0.8166 - val_loss: 0.5769 - val_acc: 0.6932\n",
      "Epoch 57/200\n",
      "1456/1456 [==============================] - 3s 2ms/step - loss: 0.4490 - acc: 0.8098 - val_loss: 0.5850 - val_acc: 0.7041\n",
      "Epoch 58/200\n",
      "1456/1456 [==============================] - 2s 2ms/step - loss: 0.4411 - acc: 0.8269 - val_loss: 0.5757 - val_acc: 0.7123\n",
      "Epoch 59/200\n",
      "1456/1456 [==============================] - 3s 2ms/step - loss: 0.4372 - acc: 0.8228 - val_loss: 0.5708 - val_acc: 0.7151\n",
      "Epoch 60/200\n",
      "1456/1456 [==============================] - 2s 2ms/step - loss: 0.4305 - acc: 0.8228 - val_loss: 0.5693 - val_acc: 0.6959\n"
     ]
    },
    {
     "name": "stdout",
     "output_type": "stream",
     "text": [
      "Epoch 61/200\n",
      "1456/1456 [==============================] - 3s 2ms/step - loss: 0.4290 - acc: 0.8249 - val_loss: 0.5662 - val_acc: 0.7096\n",
      "Epoch 62/200\n",
      "1456/1456 [==============================] - 2s 2ms/step - loss: 0.4218 - acc: 0.8304 - val_loss: 0.5717 - val_acc: 0.7315\n",
      "Epoch 63/200\n",
      "1456/1456 [==============================] - 2s 2ms/step - loss: 0.4181 - acc: 0.8324 - val_loss: 0.6201 - val_acc: 0.6849\n",
      "Epoch 64/200\n",
      "1456/1456 [==============================] - 2s 2ms/step - loss: 0.4151 - acc: 0.8427 - val_loss: 0.5604 - val_acc: 0.7342\n",
      "Epoch 65/200\n",
      "1456/1456 [==============================] - 2s 1ms/step - loss: 0.4108 - acc: 0.8379 - val_loss: 0.5706 - val_acc: 0.7014\n",
      "Epoch 66/200\n",
      "1456/1456 [==============================] - 2s 2ms/step - loss: 0.4040 - acc: 0.8400 - val_loss: 0.5614 - val_acc: 0.7151\n",
      "Epoch 67/200\n",
      "1456/1456 [==============================] - 2s 2ms/step - loss: 0.4024 - acc: 0.8489 - val_loss: 0.5683 - val_acc: 0.7151\n",
      "Epoch 68/200\n",
      "1456/1456 [==============================] - 2s 1ms/step - loss: 0.3963 - acc: 0.8489 - val_loss: 0.5657 - val_acc: 0.7096\n",
      "Epoch 69/200\n",
      "1456/1456 [==============================] - 2s 1ms/step - loss: 0.3902 - acc: 0.8585 - val_loss: 0.5711 - val_acc: 0.7068\n",
      "Epoch 70/200\n",
      "1456/1456 [==============================] - 2s 2ms/step - loss: 0.3824 - acc: 0.8626 - val_loss: 0.5679 - val_acc: 0.7068\n",
      "Epoch 71/200\n",
      "1456/1456 [==============================] - 2s 2ms/step - loss: 0.3813 - acc: 0.8599 - val_loss: 0.5515 - val_acc: 0.7479\n",
      "Epoch 72/200\n",
      "1456/1456 [==============================] - 2s 2ms/step - loss: 0.3778 - acc: 0.8578 - val_loss: 0.5938 - val_acc: 0.7178\n",
      "Epoch 73/200\n",
      "1456/1456 [==============================] - 2s 2ms/step - loss: 0.3753 - acc: 0.8537 - val_loss: 0.5782 - val_acc: 0.7260\n",
      "Epoch 74/200\n",
      "1456/1456 [==============================] - 2s 2ms/step - loss: 0.3666 - acc: 0.8702 - val_loss: 0.5866 - val_acc: 0.7315\n",
      "Epoch 75/200\n",
      "1456/1456 [==============================] - 2s 2ms/step - loss: 0.3688 - acc: 0.8654 - val_loss: 0.5816 - val_acc: 0.7342\n",
      "Epoch 76/200\n",
      "1456/1456 [==============================] - 2s 2ms/step - loss: 0.3579 - acc: 0.8674 - val_loss: 0.5728 - val_acc: 0.7288\n",
      "Epoch 77/200\n",
      "1456/1456 [==============================] - 2s 2ms/step - loss: 0.3546 - acc: 0.8668 - val_loss: 0.5515 - val_acc: 0.7233\n",
      "Epoch 78/200\n",
      "1456/1456 [==============================] - 3s 2ms/step - loss: 0.3519 - acc: 0.8757 - val_loss: 0.5781 - val_acc: 0.7397\n",
      "Epoch 79/200\n",
      "1456/1456 [==============================] - 2s 1ms/step - loss: 0.3556 - acc: 0.8688 - val_loss: 0.5513 - val_acc: 0.7315\n",
      "Epoch 80/200\n",
      "1456/1456 [==============================] - 2s 2ms/step - loss: 0.3448 - acc: 0.8702 - val_loss: 0.5478 - val_acc: 0.7342\n",
      "Epoch 81/200\n",
      "1456/1456 [==============================] - 2s 1ms/step - loss: 0.3416 - acc: 0.8702 - val_loss: 0.5490 - val_acc: 0.7562\n",
      "Epoch 82/200\n",
      "1456/1456 [==============================] - 2s 1ms/step - loss: 0.3329 - acc: 0.8826 - val_loss: 0.5955 - val_acc: 0.7342\n",
      "Epoch 83/200\n",
      "1456/1456 [==============================] - 2s 2ms/step - loss: 0.3344 - acc: 0.8846 - val_loss: 0.5544 - val_acc: 0.7342\n",
      "Epoch 84/200\n",
      "1456/1456 [==============================] - 2s 2ms/step - loss: 0.3270 - acc: 0.8942 - val_loss: 0.5473 - val_acc: 0.7507\n",
      "Epoch 85/200\n",
      "1456/1456 [==============================] - 2s 2ms/step - loss: 0.3186 - acc: 0.8887 - val_loss: 0.5457 - val_acc: 0.7260\n",
      "Epoch 86/200\n",
      "1456/1456 [==============================] - 2s 1ms/step - loss: 0.3181 - acc: 0.8915 - val_loss: 0.5608 - val_acc: 0.7425\n",
      "Epoch 87/200\n",
      "1456/1456 [==============================] - 2s 2ms/step - loss: 0.3116 - acc: 0.8908 - val_loss: 0.5527 - val_acc: 0.7452\n",
      "Epoch 88/200\n",
      "1456/1456 [==============================] - 2s 2ms/step - loss: 0.3123 - acc: 0.8860 - val_loss: 0.5494 - val_acc: 0.7342\n",
      "Epoch 89/200\n",
      "1456/1456 [==============================] - 2s 2ms/step - loss: 0.3057 - acc: 0.8990 - val_loss: 0.5745 - val_acc: 0.7178\n",
      "Epoch 90/200\n",
      "1456/1456 [==============================] - 2s 2ms/step - loss: 0.3045 - acc: 0.8935 - val_loss: 0.5431 - val_acc: 0.7397\n",
      "Epoch 91/200\n",
      "1456/1456 [==============================] - 2s 2ms/step - loss: 0.3013 - acc: 0.8990 - val_loss: 0.5513 - val_acc: 0.7589\n",
      "Epoch 92/200\n",
      "1456/1456 [==============================] - 2s 1ms/step - loss: 0.2933 - acc: 0.9045 - val_loss: 0.5701 - val_acc: 0.7178\n",
      "Epoch 93/200\n",
      "1456/1456 [==============================] - 2s 2ms/step - loss: 0.2914 - acc: 0.9004 - val_loss: 0.5623 - val_acc: 0.7479\n",
      "Epoch 94/200\n",
      "1456/1456 [==============================] - 3s 2ms/step - loss: 0.2861 - acc: 0.9038 - val_loss: 0.5529 - val_acc: 0.7507\n",
      "Epoch 95/200\n",
      "1456/1456 [==============================] - 2s 1ms/step - loss: 0.2809 - acc: 0.9100 - val_loss: 0.5764 - val_acc: 0.7370\n",
      "Epoch 96/200\n",
      "1456/1456 [==============================] - 2s 2ms/step - loss: 0.2831 - acc: 0.8984 - val_loss: 0.5522 - val_acc: 0.7534\n",
      "Epoch 97/200\n",
      "1456/1456 [==============================] - 2s 2ms/step - loss: 0.2725 - acc: 0.9059 - val_loss: 0.5903 - val_acc: 0.7205\n",
      "Epoch 98/200\n",
      "1456/1456 [==============================] - 2s 1ms/step - loss: 0.2705 - acc: 0.9135 - val_loss: 0.6394 - val_acc: 0.7041\n",
      "Epoch 99/200\n",
      "1456/1456 [==============================] - 2s 2ms/step - loss: 0.2692 - acc: 0.9100 - val_loss: 0.5478 - val_acc: 0.7616\n",
      "Epoch 100/200\n",
      "1456/1456 [==============================] - 2s 1ms/step - loss: 0.2654 - acc: 0.9107 - val_loss: 0.5509 - val_acc: 0.7534\n",
      "Epoch 101/200\n",
      "1456/1456 [==============================] - 2s 2ms/step - loss: 0.2619 - acc: 0.9155 - val_loss: 0.5829 - val_acc: 0.7507\n",
      "Epoch 102/200\n",
      "1456/1456 [==============================] - 2s 2ms/step - loss: 0.2612 - acc: 0.9121 - val_loss: 0.6162 - val_acc: 0.7260\n",
      "Epoch 103/200\n",
      "1456/1456 [==============================] - 2s 2ms/step - loss: 0.2555 - acc: 0.9176 - val_loss: 0.5609 - val_acc: 0.7397\n",
      "Epoch 104/200\n",
      "1456/1456 [==============================] - 2s 1ms/step - loss: 0.2484 - acc: 0.9245 - val_loss: 0.6327 - val_acc: 0.7315\n",
      "Epoch 105/200\n",
      "1456/1456 [==============================] - 2s 2ms/step - loss: 0.2519 - acc: 0.9176 - val_loss: 0.5695 - val_acc: 0.7425\n",
      "Epoch 106/200\n",
      "1456/1456 [==============================] - 3s 2ms/step - loss: 0.2519 - acc: 0.9176 - val_loss: 0.5743 - val_acc: 0.7644\n",
      "Epoch 107/200\n",
      "1456/1456 [==============================] - 3s 2ms/step - loss: 0.2421 - acc: 0.9183 - val_loss: 0.5476 - val_acc: 0.7479\n",
      "Epoch 108/200\n",
      "1456/1456 [==============================] - 2s 2ms/step - loss: 0.2381 - acc: 0.9265 - val_loss: 0.5724 - val_acc: 0.7479\n",
      "Epoch 109/200\n",
      "1456/1456 [==============================] - 2s 2ms/step - loss: 0.2356 - acc: 0.9231 - val_loss: 0.5568 - val_acc: 0.7562\n",
      "Epoch 110/200\n",
      "1456/1456 [==============================] - 2s 1ms/step - loss: 0.2375 - acc: 0.9279 - val_loss: 0.6131 - val_acc: 0.7123\n",
      "Epoch 111/200\n",
      "1456/1456 [==============================] - 2s 1ms/step - loss: 0.2203 - acc: 0.9320 - val_loss: 0.6036 - val_acc: 0.7562\n",
      "Epoch 112/200\n",
      "1456/1456 [==============================] - 2s 2ms/step - loss: 0.2287 - acc: 0.9265 - val_loss: 0.5892 - val_acc: 0.7288\n",
      "Epoch 113/200\n",
      "1456/1456 [==============================] - 3s 2ms/step - loss: 0.2129 - acc: 0.9320 - val_loss: 0.5723 - val_acc: 0.7315\n",
      "Epoch 114/200\n",
      "1456/1456 [==============================] - 2s 1ms/step - loss: 0.2258 - acc: 0.9272 - val_loss: 0.5930 - val_acc: 0.7644\n",
      "Epoch 115/200\n",
      "1456/1456 [==============================] - 3s 2ms/step - loss: 0.2167 - acc: 0.9361 - val_loss: 0.6724 - val_acc: 0.7178\n",
      "Epoch 116/200\n",
      "1456/1456 [==============================] - 2s 2ms/step - loss: 0.2121 - acc: 0.9313 - val_loss: 0.5769 - val_acc: 0.7425\n",
      "Epoch 117/200\n",
      "1456/1456 [==============================] - 2s 2ms/step - loss: 0.2059 - acc: 0.9444 - val_loss: 0.5964 - val_acc: 0.7699\n",
      "Epoch 118/200\n",
      "1456/1456 [==============================] - 2s 2ms/step - loss: 0.2032 - acc: 0.9416 - val_loss: 0.5574 - val_acc: 0.7616\n",
      "Epoch 119/200\n",
      "1456/1456 [==============================] - 2s 2ms/step - loss: 0.2009 - acc: 0.9451 - val_loss: 0.5761 - val_acc: 0.7425\n",
      "Epoch 120/200\n",
      "1456/1456 [==============================] - 3s 2ms/step - loss: 0.1986 - acc: 0.9437 - val_loss: 0.6628 - val_acc: 0.7370\n",
      "Epoch 121/200\n"
     ]
    },
    {
     "name": "stdout",
     "output_type": "stream",
     "text": [
      "1456/1456 [==============================] - 2s 1ms/step - loss: 0.1957 - acc: 0.9396 - val_loss: 0.5854 - val_acc: 0.7534\n",
      "Epoch 122/200\n",
      "1456/1456 [==============================] - 2s 2ms/step - loss: 0.1956 - acc: 0.9437 - val_loss: 0.5700 - val_acc: 0.7616\n",
      "Epoch 123/200\n",
      "1456/1456 [==============================] - 2s 2ms/step - loss: 0.1875 - acc: 0.9416 - val_loss: 0.5785 - val_acc: 0.7726\n",
      "Epoch 124/200\n",
      "1456/1456 [==============================] - 2s 2ms/step - loss: 0.1938 - acc: 0.9478 - val_loss: 0.5899 - val_acc: 0.7726\n",
      "Epoch 125/200\n",
      "1456/1456 [==============================] - 2s 2ms/step - loss: 0.1791 - acc: 0.9492 - val_loss: 0.5885 - val_acc: 0.7534\n",
      "Epoch 126/200\n",
      "1456/1456 [==============================] - 3s 2ms/step - loss: 0.1793 - acc: 0.9540 - val_loss: 0.7579 - val_acc: 0.7068\n",
      "Epoch 127/200\n",
      "1456/1456 [==============================] - 3s 2ms/step - loss: 0.1785 - acc: 0.9526 - val_loss: 0.5757 - val_acc: 0.7644\n",
      "Epoch 128/200\n",
      "1456/1456 [==============================] - 2s 2ms/step - loss: 0.1723 - acc: 0.9581 - val_loss: 0.5818 - val_acc: 0.7671\n",
      "Epoch 129/200\n",
      "1456/1456 [==============================] - 2s 2ms/step - loss: 0.1701 - acc: 0.9560 - val_loss: 0.6023 - val_acc: 0.7726\n",
      "Epoch 130/200\n",
      "1456/1456 [==============================] - 3s 2ms/step - loss: 0.1672 - acc: 0.9560 - val_loss: 0.6064 - val_acc: 0.7781\n",
      "Epoch 131/200\n",
      "1456/1456 [==============================] - 3s 2ms/step - loss: 0.1675 - acc: 0.9540 - val_loss: 0.6515 - val_acc: 0.7425\n",
      "Epoch 132/200\n",
      "1456/1456 [==============================] - 3s 2ms/step - loss: 0.1654 - acc: 0.9588 - val_loss: 0.5849 - val_acc: 0.7726\n",
      "Epoch 133/200\n",
      "1456/1456 [==============================] - 3s 2ms/step - loss: 0.1636 - acc: 0.9588 - val_loss: 0.7943 - val_acc: 0.7178\n",
      "Epoch 134/200\n",
      "1456/1456 [==============================] - 2s 2ms/step - loss: 0.1610 - acc: 0.9547 - val_loss: 0.6356 - val_acc: 0.7562\n",
      "Epoch 135/200\n",
      "1456/1456 [==============================] - 2s 2ms/step - loss: 0.1579 - acc: 0.9581 - val_loss: 0.6115 - val_acc: 0.7699\n",
      "Epoch 136/200\n",
      "1456/1456 [==============================] - 2s 2ms/step - loss: 0.1548 - acc: 0.9595 - val_loss: 0.6105 - val_acc: 0.7726\n",
      "Epoch 137/200\n",
      "1456/1456 [==============================] - 2s 2ms/step - loss: 0.1544 - acc: 0.9602 - val_loss: 0.6110 - val_acc: 0.7616\n",
      "Epoch 138/200\n",
      "1456/1456 [==============================] - 2s 2ms/step - loss: 0.1484 - acc: 0.9615 - val_loss: 0.6735 - val_acc: 0.7342\n",
      "Epoch 139/200\n",
      "1456/1456 [==============================] - 2s 2ms/step - loss: 0.1484 - acc: 0.9657 - val_loss: 0.6006 - val_acc: 0.7562\n",
      "Epoch 140/200\n",
      "1456/1456 [==============================] - 2s 2ms/step - loss: 0.1406 - acc: 0.9657 - val_loss: 0.6560 - val_acc: 0.7479\n",
      "Epoch 141/200\n",
      "1456/1456 [==============================] - 2s 2ms/step - loss: 0.1433 - acc: 0.9636 - val_loss: 0.6135 - val_acc: 0.7671\n",
      "Epoch 142/200\n",
      "1456/1456 [==============================] - 2s 2ms/step - loss: 0.1408 - acc: 0.9663 - val_loss: 0.6455 - val_acc: 0.7562\n",
      "Epoch 143/200\n",
      "1456/1456 [==============================] - 2s 2ms/step - loss: 0.1429 - acc: 0.9533 - val_loss: 0.6196 - val_acc: 0.7836\n",
      "Epoch 144/200\n",
      "1456/1456 [==============================] - 2s 2ms/step - loss: 0.1357 - acc: 0.9663 - val_loss: 0.6752 - val_acc: 0.7671\n",
      "Epoch 145/200\n",
      "1456/1456 [==============================] - 3s 2ms/step - loss: 0.1276 - acc: 0.9691 - val_loss: 0.6372 - val_acc: 0.7836\n",
      "Epoch 146/200\n",
      "1456/1456 [==============================] - 3s 2ms/step - loss: 0.1351 - acc: 0.9677 - val_loss: 0.6312 - val_acc: 0.7616\n",
      "Epoch 147/200\n",
      "1456/1456 [==============================] - 3s 2ms/step - loss: 0.1282 - acc: 0.9705 - val_loss: 0.6388 - val_acc: 0.7616\n",
      "Epoch 148/200\n",
      "1456/1456 [==============================] - 3s 2ms/step - loss: 0.1268 - acc: 0.9712 - val_loss: 0.7007 - val_acc: 0.7479\n",
      "Epoch 149/200\n",
      "1456/1456 [==============================] - 3s 2ms/step - loss: 0.1241 - acc: 0.9705 - val_loss: 0.6462 - val_acc: 0.7753\n",
      "Epoch 150/200\n",
      "1456/1456 [==============================] - 3s 2ms/step - loss: 0.1173 - acc: 0.9787 - val_loss: 0.7144 - val_acc: 0.7699\n",
      "Epoch 151/200\n",
      "1456/1456 [==============================] - 3s 2ms/step - loss: 0.1179 - acc: 0.9732 - val_loss: 0.6624 - val_acc: 0.7589\n",
      "Epoch 152/200\n",
      "1456/1456 [==============================] - 3s 2ms/step - loss: 0.1226 - acc: 0.9718 - val_loss: 0.6406 - val_acc: 0.7644\n",
      "Epoch 153/200\n",
      "1456/1456 [==============================] - 4s 2ms/step - loss: 0.1162 - acc: 0.9753 - val_loss: 0.6786 - val_acc: 0.7671\n",
      "Epoch 154/200\n",
      "1456/1456 [==============================] - 3s 2ms/step - loss: 0.1109 - acc: 0.9773 - val_loss: 0.8231 - val_acc: 0.7233\n",
      "Epoch 155/200\n",
      "1456/1456 [==============================] - 4s 3ms/step - loss: 0.1133 - acc: 0.9760 - val_loss: 0.6717 - val_acc: 0.7589\n",
      "Epoch 156/200\n",
      "1456/1456 [==============================] - 3s 2ms/step - loss: 0.1065 - acc: 0.9760 - val_loss: 0.6813 - val_acc: 0.7699\n",
      "Epoch 157/200\n",
      "1456/1456 [==============================] - 3s 2ms/step - loss: 0.1062 - acc: 0.9766 - val_loss: 0.8263 - val_acc: 0.7233\n",
      "Epoch 158/200\n",
      "1456/1456 [==============================] - 3s 2ms/step - loss: 0.1125 - acc: 0.9725 - val_loss: 0.6676 - val_acc: 0.7589\n",
      "Epoch 159/200\n",
      "1456/1456 [==============================] - 3s 2ms/step - loss: 0.1030 - acc: 0.9821 - val_loss: 0.6973 - val_acc: 0.7479\n",
      "Epoch 160/200\n",
      "1456/1456 [==============================] - 4s 3ms/step - loss: 0.1050 - acc: 0.9808 - val_loss: 0.7940 - val_acc: 0.7397\n",
      "Epoch 161/200\n",
      "1456/1456 [==============================] - 3s 2ms/step - loss: 0.1020 - acc: 0.9794 - val_loss: 0.6672 - val_acc: 0.7781\n",
      "Epoch 162/200\n",
      "1456/1456 [==============================] - 3s 2ms/step - loss: 0.0961 - acc: 0.9815 - val_loss: 0.7183 - val_acc: 0.7479\n",
      "Epoch 163/200\n",
      "1456/1456 [==============================] - 3s 2ms/step - loss: 0.0976 - acc: 0.9808 - val_loss: 0.6930 - val_acc: 0.7534\n",
      "Epoch 164/200\n",
      "1456/1456 [==============================] - 3s 2ms/step - loss: 0.0994 - acc: 0.9773 - val_loss: 0.7625 - val_acc: 0.7616\n",
      "Epoch 165/200\n",
      "1456/1456 [==============================] - 3s 2ms/step - loss: 0.0946 - acc: 0.9815 - val_loss: 0.7322 - val_acc: 0.7342\n",
      "Epoch 166/200\n",
      "1456/1456 [==============================] - 4s 2ms/step - loss: 0.0882 - acc: 0.9787 - val_loss: 0.7217 - val_acc: 0.7589\n",
      "Epoch 167/200\n",
      "1456/1456 [==============================] - 4s 3ms/step - loss: 0.0907 - acc: 0.9787 - val_loss: 0.6934 - val_acc: 0.7753\n",
      "Epoch 168/200\n",
      "1456/1456 [==============================] - 4s 2ms/step - loss: 0.0862 - acc: 0.9835 - val_loss: 0.7592 - val_acc: 0.7315\n",
      "Epoch 169/200\n",
      "1456/1456 [==============================] - 4s 3ms/step - loss: 0.0816 - acc: 0.9856 - val_loss: 0.7127 - val_acc: 0.7699\n",
      "Epoch 170/200\n",
      "1456/1456 [==============================] - 3s 2ms/step - loss: 0.0887 - acc: 0.9821 - val_loss: 0.6981 - val_acc: 0.7753\n",
      "Epoch 171/200\n",
      "1456/1456 [==============================] - 3s 2ms/step - loss: 0.0860 - acc: 0.9808 - val_loss: 0.7115 - val_acc: 0.7753\n",
      "Epoch 172/200\n",
      "1456/1456 [==============================] - 3s 2ms/step - loss: 0.0810 - acc: 0.9821 - val_loss: 0.9240 - val_acc: 0.7288\n",
      "Epoch 173/200\n",
      "1456/1456 [==============================] - 3s 2ms/step - loss: 0.0836 - acc: 0.9828 - val_loss: 0.7932 - val_acc: 0.7726\n",
      "Epoch 174/200\n",
      "1456/1456 [==============================] - 4s 3ms/step - loss: 0.0818 - acc: 0.9842 - val_loss: 0.7983 - val_acc: 0.7562\n",
      "Epoch 175/200\n",
      "1456/1456 [==============================] - 3s 2ms/step - loss: 0.0783 - acc: 0.9835 - val_loss: 0.9162 - val_acc: 0.7014\n",
      "Epoch 176/200\n",
      "1456/1456 [==============================] - 2s 2ms/step - loss: 0.0867 - acc: 0.9828 - val_loss: 0.7171 - val_acc: 0.7671\n",
      "Epoch 177/200\n",
      "1456/1456 [==============================] - 2s 2ms/step - loss: 0.0721 - acc: 0.9918 - val_loss: 0.7193 - val_acc: 0.7918\n",
      "Epoch 178/200\n",
      "1456/1456 [==============================] - 2s 2ms/step - loss: 0.0743 - acc: 0.9883 - val_loss: 0.7412 - val_acc: 0.7699\n",
      "Epoch 179/200\n",
      "1456/1456 [==============================] - 3s 2ms/step - loss: 0.0769 - acc: 0.9821 - val_loss: 0.7889 - val_acc: 0.7479\n",
      "Epoch 180/200\n",
      "1456/1456 [==============================] - 2s 1ms/step - loss: 0.0684 - acc: 0.9897 - val_loss: 0.8014 - val_acc: 0.7781\n"
     ]
    },
    {
     "name": "stdout",
     "output_type": "stream",
     "text": [
      "Epoch 181/200\n",
      "1456/1456 [==============================] - 2s 2ms/step - loss: 0.0694 - acc: 0.9876 - val_loss: 0.7734 - val_acc: 0.7726\n",
      "Epoch 182/200\n",
      "1456/1456 [==============================] - 2s 2ms/step - loss: 0.0629 - acc: 0.9911 - val_loss: 0.8508 - val_acc: 0.7507\n",
      "Epoch 183/200\n",
      "1456/1456 [==============================] - 2s 2ms/step - loss: 0.0753 - acc: 0.9856 - val_loss: 0.9741 - val_acc: 0.7068\n",
      "Epoch 184/200\n",
      "1456/1456 [==============================] - 2s 2ms/step - loss: 0.0630 - acc: 0.9897 - val_loss: 0.7873 - val_acc: 0.7671\n",
      "Epoch 185/200\n",
      "1456/1456 [==============================] - 2s 2ms/step - loss: 0.0618 - acc: 0.9897 - val_loss: 1.1680 - val_acc: 0.6795\n",
      "Epoch 186/200\n",
      "1456/1456 [==============================] - 2s 2ms/step - loss: 0.0691 - acc: 0.9801 - val_loss: 0.7788 - val_acc: 0.7534\n",
      "Epoch 187/200\n",
      "1456/1456 [==============================] - 2s 2ms/step - loss: 0.0610 - acc: 0.9904 - val_loss: 0.7700 - val_acc: 0.7699\n",
      "Epoch 188/200\n",
      "1456/1456 [==============================] - 2s 2ms/step - loss: 0.0595 - acc: 0.9924 - val_loss: 0.8045 - val_acc: 0.7671\n",
      "Epoch 189/200\n",
      "1456/1456 [==============================] - 2s 1ms/step - loss: 0.0567 - acc: 0.9904 - val_loss: 0.7697 - val_acc: 0.7781\n",
      "Epoch 190/200\n",
      "1456/1456 [==============================] - 2s 2ms/step - loss: 0.0580 - acc: 0.9897 - val_loss: 0.7932 - val_acc: 0.7699\n",
      "Epoch 191/200\n",
      "1456/1456 [==============================] - 2s 2ms/step - loss: 0.0497 - acc: 0.9966 - val_loss: 0.8179 - val_acc: 0.7589\n",
      "Epoch 192/200\n",
      "1456/1456 [==============================] - 2s 2ms/step - loss: 0.0517 - acc: 0.9931 - val_loss: 0.7969 - val_acc: 0.7918\n",
      "Epoch 193/200\n",
      "1456/1456 [==============================] - 2s 2ms/step - loss: 0.0619 - acc: 0.9897 - val_loss: 0.7885 - val_acc: 0.7890\n",
      "Epoch 194/200\n",
      "1456/1456 [==============================] - 3s 2ms/step - loss: 0.0529 - acc: 0.9918 - val_loss: 0.8566 - val_acc: 0.7452\n",
      "Epoch 195/200\n",
      "1456/1456 [==============================] - 3s 2ms/step - loss: 0.0549 - acc: 0.9890 - val_loss: 0.7878 - val_acc: 0.7808\n",
      "Epoch 196/200\n",
      "1456/1456 [==============================] - 3s 2ms/step - loss: 0.0552 - acc: 0.9918 - val_loss: 0.8313 - val_acc: 0.7781\n",
      "Epoch 197/200\n",
      "1456/1456 [==============================] - 3s 2ms/step - loss: 0.0528 - acc: 0.9911 - val_loss: 1.1423 - val_acc: 0.7096\n",
      "Epoch 198/200\n",
      "1456/1456 [==============================] - 2s 1ms/step - loss: 0.0477 - acc: 0.9931 - val_loss: 0.9489 - val_acc: 0.7479\n",
      "Epoch 199/200\n",
      "1456/1456 [==============================] - 2s 1ms/step - loss: 0.0503 - acc: 0.9911 - val_loss: 0.8277 - val_acc: 0.7836\n",
      "Epoch 200/200\n",
      "1456/1456 [==============================] - 2s 1ms/step - loss: 0.0475 - acc: 0.9931 - val_loss: 0.8371 - val_acc: 0.7616\n",
      "CPU times: user 12min 14s, sys: 20 s, total: 12min 34s\n",
      "Wall time: 8min 58s\n"
     ]
    }
   ],
   "source": [
    "%%time\n",
    "\n",
    "history =   model.fit(x_train, y_train_cat,\n",
    "            batch_size=batch_size,\n",
    "            epochs=epochs,\n",
    "            validation_data=(x_test, y_test_cat),\n",
    "            shuffle=True,\n",
    "            verbose=1,\n",
    "            callbacks=[])"
   ]
  },
  {
   "cell_type": "code",
   "execution_count": 88,
   "metadata": {},
   "outputs": [],
   "source": [
    "import json\n",
    "with open('../proyecto-insideout/data/data-by-epoch.json', 'w') as file:\n",
    "    json.dump(epochs_data, file)"
   ]
  },
  {
   "cell_type": "code",
   "execution_count": 48,
   "metadata": {},
   "outputs": [
    {
     "name": "stdout",
     "output_type": "stream",
     "text": [
      "_________________________________________________________________\n",
      "Layer (type)                 Output Shape              Param #   \n",
      "=================================================================\n",
      "input_4 (InputLayer)         (None, 28, 28, 3)         0         \n",
      "_________________________________________________________________\n",
      "conv2d_13 (Conv2D)           (None, 28, 28, 32)        896       \n",
      "_________________________________________________________________\n",
      "conv2d_14 (Conv2D)           (None, 28, 28, 32)        9248      \n",
      "_________________________________________________________________\n",
      "max_pooling2d_10 (MaxPooling (None, 14, 14, 32)        0         \n",
      "_________________________________________________________________\n",
      "conv2d_15 (Conv2D)           (None, 14, 14, 32)        9248      \n",
      "_________________________________________________________________\n",
      "max_pooling2d_11 (MaxPooling (None, 7, 7, 32)          0         \n",
      "_________________________________________________________________\n",
      "conv2d_16 (Conv2D)           (None, 7, 7, 32)          9248      \n",
      "_________________________________________________________________\n",
      "max_pooling2d_12 (MaxPooling (None, 3, 3, 32)          0         \n",
      "_________________________________________________________________\n",
      "flatten_4 (Flatten)          (None, 288)               0         \n",
      "_________________________________________________________________\n",
      "dense_7 (Dense)              (None, 10)                2890      \n",
      "_________________________________________________________________\n",
      "dense_8 (Dense)              (None, 2)                 22        \n",
      "=================================================================\n",
      "Total params: 31,552\n",
      "Trainable params: 31,552\n",
      "Non-trainable params: 0\n",
      "_________________________________________________________________\n"
     ]
    }
   ],
   "source": [
    "model.summary()"
   ]
  },
  {
   "cell_type": "code",
   "execution_count": 49,
   "metadata": {},
   "outputs": [],
   "source": [
    "model.save('models/model_big_1.h5')"
   ]
  },
  {
   "cell_type": "code",
   "execution_count": 19,
   "metadata": {},
   "outputs": [
    {
     "data": {
      "text/plain": [
       "(1821, 2)"
      ]
     },
     "execution_count": 19,
     "metadata": {},
     "output_type": "execute_result"
    }
   ],
   "source": [
    "predictions_base_model = model.predict(X)\n",
    "predictions_base_model.shape"
   ]
  },
  {
   "cell_type": "code",
   "execution_count": null,
   "metadata": {},
   "outputs": [],
   "source": []
  },
  {
   "cell_type": "markdown",
   "metadata": {},
   "source": [
    "## Visualize Activation Maps"
   ]
  },
  {
   "cell_type": "code",
   "execution_count": 24,
   "metadata": {},
   "outputs": [],
   "source": [
    "import tensorflow as tf\n",
    "import keras.backend as K\n",
    "from keras.layers.core import Lambda\n",
    "from keras.models import Sequential\n",
    "import numpy as np\n",
    "from keras.models import load_model"
   ]
  },
  {
   "cell_type": "code",
   "execution_count": 11,
   "metadata": {},
   "outputs": [],
   "source": [
    "# load model\n",
    "model = load_model('models/model_big_1.h5')"
   ]
  },
  {
   "cell_type": "code",
   "execution_count": null,
   "metadata": {},
   "outputs": [],
   "source": [
    "cam_n, heatmap_n = naive_cam(model, X)\n",
    "plt.figure(figsize=(4,4))\n",
    "plt.imshow(heatmap_n, cmap='jet')\n",
    "plt.show()"
   ]
  },
  {
   "cell_type": "code",
   "execution_count": 56,
   "metadata": {},
   "outputs": [
    {
     "data": {
      "image/png": "[encoded data removed]",
      "text/plain": [
       "<Figure size 288x288 with 1 Axes>"
      ]
     },
     "metadata": {},
     "output_type": "display_data"
    }
   ],
   "source": [
    "predictions = model.predict(X)\n",
    "predicted_class = np.argmax(predictions, axis=1)\n",
    "X_1 = X[predicted_class == 1]\n",
    "X_0 = X[predicted_class == 0]\n",
    "cam, heatmap = grad_cam(model, X_1, 1)\n",
    "plt.figure(figsize=(4,4))\n",
    "plt.imshow(cam, cmap='jet')\n",
    "plt.show()"
   ]
  },
  {
   "cell_type": "markdown",
   "metadata": {},
   "source": [
    "## Visualize CAMs"
   ]
  },
  {
   "cell_type": "code",
   "execution_count": 62,
   "metadata": {},
   "outputs": [
    {
     "data": {
      "image/png": "[encoded data removed]",
      "text/plain": [
       "<Figure size 1152x1152 with 8 Axes>"
      ]
     },
     "metadata": {},
     "output_type": "display_data"
    }
   ],
   "source": [
    "    \n",
    "fig= plt.figure(figsize=(16, 16))\n",
    "columns = 2\n",
    "rows = 4\n",
    "offset = 200\n",
    "for i in range(1, columns * rows + 1, columns):\n",
    "    #cam0, heatmap0 = grad_cam(model, X[i], 0, 'conv2d_2')\n",
    "    #fig.add_subplot(rows, columns, i)\n",
    "    #plt.imshow(cam0, cmap='jet')\n",
    "    #plt.title(f'Image {i} - class {0}')\n",
    "    j = i + offset\n",
    "    cam_n, heatmap_n = naive_cam(model, X[j][None])\n",
    "    fig.add_subplot(rows, columns, i)\n",
    "    plt.imshow(cam_n, cmap='jet')\n",
    "    plt.title(f'Image {j} - Raw Activation')\n",
    "    \n",
    "    predicted_class = np.argmax(predictions[j])\n",
    "    \n",
    "    cam1, heatmap1 = grad_cam(model, X[j][None], predicted_class)\n",
    "    fig.add_subplot(rows, columns, i + 1)\n",
    "    plt.imshow(cam1, cmap='jet')\n",
    "    plt.title(f'Image {j} - Predicted class {predicted_class}')\n",
    "    \n",
    "plt.show()"
   ]
  },
  {
   "cell_type": "code",
   "execution_count": null,
   "metadata": {},
   "outputs": [],
   "source": []
  },
  {
   "cell_type": "code",
   "execution_count": null,
   "metadata": {},
   "outputs": [],
   "source": []
  }
 ],
 "metadata": {
  "anaconda-cloud": {},
  "kernelspec": {
   "display_name": "Python 3",
   "language": "python",
   "name": "python3"
  },
  "language_info": {
   "codemirror_mode": {
    "name": "ipython",
    "version": 3
   },
   "file_extension": ".py",
   "mimetype": "text/x-python",
   "name": "python",
   "nbconvert_exporter": "python",
   "pygments_lexer": "ipython3",
   "version": "3.7.4"
  }
 },
 "nbformat": 4,
 "nbformat_minor": 1
}
