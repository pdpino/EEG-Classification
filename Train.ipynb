{
 "cells": [
  {
   "cell_type": "code",
   "execution_count": 2,
   "metadata": {},
   "outputs": [],
   "source": [
    "import pandas as pd\n",
    "import numpy as np\n",
    "from sklearn.model_selection import train_test_split\n",
    "import keras\n",
    "import matplotlib.pyplot as plt\n",
    "%matplotlib inline\n",
    "\n",
    "plt.style.use('ggplot')\n",
    "from IPython.core.display import display, HTML\n",
    "# display(HTML(\"<style>.container { width:100% !important; }</style>\"))\n",
    "plt.rcParams[\"figure.figsize\"] = (12,12)\n",
    "pd.options.display.max_columns = None\n",
    "pd.options.display.precision = 4"
   ]
  },
  {
   "cell_type": "markdown",
   "metadata": {},
   "source": [
    "## Brainwave Frequencies:\n",
    "Gamma, 30 to 50 Hz.  \n",
    "Beta, 14 to 30 Hz.  \n",
    "Alpha, 8 to 14 Hz.  \n",
    "Theta, 4 to 8 Hz.  \n",
    "Delta, 0.1 to 4 Hz.  "
   ]
  },
  {
   "cell_type": "markdown",
   "metadata": {},
   "source": [
    "## Changing Bin Size: \n",
    "https://stackoverflow.com/questions/25735153/plotting-a-fast-fourier-transform-in-python  \n",
    "(Search for 'bin')"
   ]
  },
  {
   "cell_type": "markdown",
   "metadata": {},
   "source": [
    "An EEG processing library:  \n",
    "https://github.com/pbashivan/EEGLearn"
   ]
  },
  {
   "cell_type": "code",
   "execution_count": 3,
   "metadata": {},
   "outputs": [],
   "source": [
    "%run utils.py"
   ]
  },
  {
   "cell_type": "code",
   "execution_count": 4,
   "metadata": {},
   "outputs": [],
   "source": [
    "%run models.py"
   ]
  },
  {
   "cell_type": "code",
   "execution_count": 5,
   "metadata": {},
   "outputs": [
    {
     "name": "stdout",
     "output_type": "stream",
     "text": [
      "Generating training data...\n",
      "CPU times: user 23.2 s, sys: 2.52 s, total: 25.8 sing 88/117Interpolating 1/112Interpolating 59/112Interpolating 88/112Interpolating 1/111Interpolating 59/111Interpolating 1/109Interpolating 61/109Interpolating 1/113Interpolating 62/113Interpolating 1/104Interpolating 56/104Interpolating 91/104Interpolating 1/101Interpolating 55/101Interpolating 86/101Interpolating 1/102Interpolating 61/102Interpolating 1/107Interpolating 61/107Interpolating 107/107Interpolating 1/113Interpolating 61/113Interpolating 105/113Interpolating 1/115Interpolating 60/115Interpolating 1/139Interpolating 61/139Interpolating 114/139Interpolating 1/123Interpolating 49/123Interpolating 75/123Interpolating 103/123Interpolating 1/118Interpolating 48/118Interpolating 79/118Interpolating 1/120Interpolating 57/120Interpolating 106/120Interpolating 1/117Interpolating 61/117Interpolating 115/117\n",
      "Wall time: 26 s\n"
     ]
    }
   ],
   "source": [
    "%%time\n",
    "\n",
    "image_size = 28\n",
    "frame_duration = 1.0\n",
    "overlap = 0.5\n",
    "X, y = make_data_pipeline(file_names,labels,image_size,frame_duration,overlap)"
   ]
  },
  {
   "cell_type": "code",
   "execution_count": 6,
   "metadata": {},
   "outputs": [
    {
     "data": {
      "text/plain": [
       "((1821, 28, 28, 3), (1821,))"
      ]
     },
     "execution_count": 6,
     "metadata": {},
     "output_type": "execute_result"
    }
   ],
   "source": [
    "X.shape, y.shape"
   ]
  },
  {
   "cell_type": "code",
   "execution_count": 7,
   "metadata": {},
   "outputs": [
    {
     "name": "stderr",
     "output_type": "stream",
     "text": [
      "Clipping input data to the valid range for imshow with RGB data ([0..1] for floats or [0..255] for integers).\n"
     ]
    },
    {
     "data": {
      "text/plain": [
       "<matplotlib.image.AxesImage at 0x1a3c801910>"
      ]
     },
     "execution_count": 7,
     "metadata": {},
     "output_type": "execute_result"
    },
    {
     "data": {
      "image/png": "[encoded data removed]",
      "text/plain": [
       "<Figure size 864x864 with 1 Axes>"
      ]
     },
     "metadata": {},
     "output_type": "display_data"
    }
   ],
   "source": [
    "plt.imshow(X[3])"
   ]
  },
  {
   "cell_type": "code",
   "execution_count": 8,
   "metadata": {},
   "outputs": [],
   "source": [
    "x_train, x_test, y_train, y_test = train_test_split(X, y, test_size=0.20,shuffle=True)"
   ]
  },
  {
   "cell_type": "code",
   "execution_count": 9,
   "metadata": {},
   "outputs": [
    {
     "data": {
      "text/plain": [
       "(1456,)"
      ]
     },
     "execution_count": 9,
     "metadata": {},
     "output_type": "execute_result"
    }
   ],
   "source": [
    "y_train.shape"
   ]
  },
  {
   "cell_type": "code",
   "execution_count": 10,
   "metadata": {},
   "outputs": [
    {
     "name": "stdout",
     "output_type": "stream",
     "text": [
      "x_train shape: (1456, 28, 28, 3)\n",
      "1456 train samples\n",
      "365 test samples\n"
     ]
    }
   ],
   "source": [
    "# input image dimensions\n",
    "img_rows, img_cols = 28, 28\n",
    "\n",
    "x_train = x_train.astype('float32')\n",
    "x_test = x_test.astype('float32')\n",
    "#x_train /= 255\n",
    "#x_test /= 255\n",
    "print('x_train shape:', x_train.shape)\n",
    "print(x_train.shape[0], 'train samples')\n",
    "print(x_test.shape[0], 'test samples')\n",
    "\n",
    "input_shape = (img_rows, img_cols, 3)"
   ]
  },
  {
   "cell_type": "code",
   "execution_count": 11,
   "metadata": {},
   "outputs": [
    {
     "data": {
      "text/plain": [
       "0.0024639356"
      ]
     },
     "execution_count": 11,
     "metadata": {},
     "output_type": "execute_result"
    }
   ],
   "source": [
    "np.mean(x_train)"
   ]
  },
  {
   "cell_type": "markdown",
   "metadata": {},
   "source": [
    "### Train Original Model"
   ]
  },
  {
   "cell_type": "code",
   "execution_count": 12,
   "metadata": {
    "scrolled": false
   },
   "outputs": [
    {
     "name": "stdout",
     "output_type": "stream",
     "text": [
      "WARNING:tensorflow:From /Users/Yoav/miniconda3/envs/infovis/lib/python3.7/site-packages/keras/backend/tensorflow_backend.py:74: The name tf.get_default_graph is deprecated. Please use tf.compat.v1.get_default_graph instead.\n",
      "\n",
      "WARNING:tensorflow:From /Users/Yoav/miniconda3/envs/infovis/lib/python3.7/site-packages/keras/backend/tensorflow_backend.py:517: The name tf.placeholder is deprecated. Please use tf.compat.v1.placeholder instead.\n",
      "\n",
      "WARNING:tensorflow:From /Users/Yoav/miniconda3/envs/infovis/lib/python3.7/site-packages/keras/backend/tensorflow_backend.py:4138: The name tf.random_uniform is deprecated. Please use tf.random.uniform instead.\n",
      "\n",
      "WARNING:tensorflow:From /Users/Yoav/miniconda3/envs/infovis/lib/python3.7/site-packages/keras/backend/tensorflow_backend.py:3976: The name tf.nn.max_pool is deprecated. Please use tf.nn.max_pool2d instead.\n",
      "\n",
      "WARNING:tensorflow:From /Users/Yoav/miniconda3/envs/infovis/lib/python3.7/site-packages/keras/optimizers.py:790: The name tf.train.Optimizer is deprecated. Please use tf.compat.v1.train.Optimizer instead.\n",
      "\n",
      "WARNING:tensorflow:From /Users/Yoav/miniconda3/envs/infovis/lib/python3.7/site-packages/keras/backend/tensorflow_backend.py:3295: The name tf.log is deprecated. Please use tf.math.log instead.\n",
      "\n",
      "WARNING:tensorflow:From /Users/Yoav/miniconda3/envs/infovis/lib/python3.7/site-packages/tensorflow/python/ops/math_grad.py:1250: add_dispatch_support.<locals>.wrapper (from tensorflow.python.ops.array_ops) is deprecated and will be removed in a future version.\n",
      "Instructions for updating:\n",
      "Use tf.where in 2.0, which has the same broadcast rule as np.where\n",
      "WARNING:tensorflow:From /Users/Yoav/miniconda3/envs/infovis/lib/python3.7/site-packages/keras/backend/tensorflow_backend.py:986: The name tf.assign_add is deprecated. Please use tf.compat.v1.assign_add instead.\n",
      "\n"
     ]
    }
   ],
   "source": [
    "batch_size = 32\n",
    "num_classes = 2\n",
    "epochs = 200\n",
    "\n",
    "# convert class vectors to binary class matrices\n",
    "y_train_cat = keras.utils.to_categorical(y_train, num_classes)\n",
    "y_test_cat = keras.utils.to_categorical(y_test, num_classes)\n",
    "\n",
    "\n",
    "model = get_func_model_1(input_shape, num_classes)\n",
    "# model = get_model_2(input_shape, num_classes)\n",
    "\n",
    "\n",
    "# initiate RMSprop optimizer\n",
    "opt = keras.optimizers.rmsprop(lr=0.0001, decay=1e-6)\n",
    "\n",
    "# Let's train the model using RMSprop\n",
    "model.compile(loss='categorical_crossentropy',\n",
    "              optimizer=opt,\n",
    "              metrics=['accuracy'])\n",
    "\n",
    "x_train = x_train.astype('float32')\n",
    "x_test = x_test.astype('float32')\n",
    "#x_train /= 255\n",
    "#x_test /= 255\n",
    "\n",
    "\n",
    "history = model.fit(x_train, y_train_cat,\n",
    "          batch_size=batch_size,\n",
    "          epochs=epochs,\n",
    "          validation_data=(x_test, y_test_cat),\n",
    "          shuffle=True, verbose=0)"
   ]
  },
  {
   "cell_type": "code",
   "execution_count": 13,
   "metadata": {},
   "outputs": [
    {
     "name": "stdout",
     "output_type": "stream",
     "text": [
      "_________________________________________________________________\n",
      "Layer (type)                 Output Shape              Param #   \n",
      "=================================================================\n",
      "input_1 (InputLayer)         (None, 28, 28, 3)         0         \n",
      "_________________________________________________________________\n",
      "conv2d_1 (Conv2D)            (None, 28, 28, 32)        896       \n",
      "_________________________________________________________________\n",
      "conv2d_2 (Conv2D)            (None, 28, 28, 32)        9248      \n",
      "_________________________________________________________________\n",
      "max_pooling2d_1 (MaxPooling2 (None, 14, 14, 32)        0         \n",
      "_________________________________________________________________\n",
      "flatten_1 (Flatten)          (None, 6272)              0         \n",
      "_________________________________________________________________\n",
      "dense_1 (Dense)              (None, 10)                62730     \n",
      "_________________________________________________________________\n",
      "dense_2 (Dense)              (None, 2)                 22        \n",
      "=================================================================\n",
      "Total params: 72,896\n",
      "Trainable params: 72,896\n",
      "Non-trainable params: 0\n",
      "_________________________________________________________________\n"
     ]
    }
   ],
   "source": [
    "model.summary()"
   ]
  },
  {
   "cell_type": "code",
   "execution_count": 14,
   "metadata": {},
   "outputs": [
    {
     "data": {
      "text/plain": [
       "[<keras.engine.input_layer.InputLayer at 0x1a3abb0d10>,\n",
       " <keras.layers.convolutional.Conv2D at 0x1a3aba83d0>,\n",
       " <keras.layers.convolutional.Conv2D at 0x1a3aba85d0>,\n",
       " <keras.layers.pooling.MaxPooling2D at 0x1a39c45510>,\n",
       " <keras.layers.core.Flatten at 0x1a3c801510>,\n",
       " <keras.layers.core.Dense at 0x1a3aff8e90>,\n",
       " <keras.layers.core.Dense at 0x1a3c4b4e90>]"
      ]
     },
     "execution_count": 14,
     "metadata": {},
     "output_type": "execute_result"
    }
   ],
   "source": [
    "model.layers"
   ]
  },
  {
   "cell_type": "markdown",
   "metadata": {
    "collapsed": true
   },
   "source": [
    "### Transfer Learning to CAM model"
   ]
  },
  {
   "cell_type": "code",
   "execution_count": 15,
   "metadata": {},
   "outputs": [],
   "source": [
    "from keras.layers import GlobalAveragePooling2D\n",
    "\n",
    "base_model = model.layers[-4].output\n",
    "global_pool = GlobalAveragePooling2D()(base_model)\n",
    "out_layer = Dense(num_classes, activation='softmax')(global_pool)\n",
    "cam_model = Model(inputs=model.input, outputs=out_layer)\n"
   ]
  },
  {
   "cell_type": "code",
   "execution_count": 16,
   "metadata": {},
   "outputs": [],
   "source": [
    "for layer in cam_model.layers[:4]:\n",
    "    layer.trainable=False"
   ]
  },
  {
   "cell_type": "code",
   "execution_count": 17,
   "metadata": {},
   "outputs": [
    {
     "name": "stdout",
     "output_type": "stream",
     "text": [
      "Train on 1456 samples, validate on 365 samples\n",
      "Epoch 1/100\n",
      "1456/1456 [==============================] - 3s 2ms/step - loss: 0.7049 - acc: 0.5000 - val_loss: 0.7021 - val_acc: 0.4959\n",
      "Epoch 2/100\n",
      "1456/1456 [==============================] - 1s 798us/step - loss: 0.7040 - acc: 0.5021 - val_loss: 0.7012 - val_acc: 0.4959\n",
      "Epoch 3/100\n",
      "1456/1456 [==============================] - 1s 860us/step - loss: 0.7032 - acc: 0.5007 - val_loss: 0.7005 - val_acc: 0.4986\n",
      "Epoch 4/100\n",
      "1456/1456 [==============================] - 1s 794us/step - loss: 0.7024 - acc: 0.5007 - val_loss: 0.6998 - val_acc: 0.4986\n",
      "Epoch 5/100\n",
      "1456/1456 [==============================] - 1s 807us/step - loss: 0.7018 - acc: 0.5027 - val_loss: 0.6990 - val_acc: 0.4904\n",
      "Epoch 6/100\n",
      "1456/1456 [==============================] - 1s 851us/step - loss: 0.7011 - acc: 0.5027 - val_loss: 0.6983 - val_acc: 0.4932\n",
      "Epoch 7/100\n",
      "1456/1456 [==============================] - 1s 833us/step - loss: 0.7005 - acc: 0.5048 - val_loss: 0.6977 - val_acc: 0.4986\n",
      "Epoch 8/100\n",
      "1456/1456 [==============================] - 1s 876us/step - loss: 0.7000 - acc: 0.5062 - val_loss: 0.6973 - val_acc: 0.4986\n",
      "Epoch 9/100\n",
      "1456/1456 [==============================] - 1s 761us/step - loss: 0.6996 - acc: 0.5069 - val_loss: 0.6969 - val_acc: 0.4959\n",
      "Epoch 10/100\n",
      "1456/1456 [==============================] - 1s 738us/step - loss: 0.6992 - acc: 0.5027 - val_loss: 0.6965 - val_acc: 0.4959\n",
      "Epoch 11/100\n",
      "1456/1456 [==============================] - 1s 847us/step - loss: 0.6988 - acc: 0.5014 - val_loss: 0.6961 - val_acc: 0.4986\n",
      "Epoch 12/100\n",
      "1456/1456 [==============================] - 1s 808us/step - loss: 0.6984 - acc: 0.5048 - val_loss: 0.6959 - val_acc: 0.4959\n",
      "Epoch 13/100\n",
      "1456/1456 [==============================] - 1s 772us/step - loss: 0.6981 - acc: 0.5048 - val_loss: 0.6954 - val_acc: 0.4932\n",
      "Epoch 14/100\n",
      "1456/1456 [==============================] - 1s 747us/step - loss: 0.6978 - acc: 0.5041 - val_loss: 0.6951 - val_acc: 0.4932\n",
      "Epoch 15/100\n",
      "1456/1456 [==============================] - 1s 848us/step - loss: 0.6974 - acc: 0.5110 - val_loss: 0.6948 - val_acc: 0.4986\n",
      "Epoch 16/100\n",
      "1456/1456 [==============================] - 1s 878us/step - loss: 0.6971 - acc: 0.5069 - val_loss: 0.6946 - val_acc: 0.5096\n",
      "Epoch 17/100\n",
      "1456/1456 [==============================] - 1s 798us/step - loss: 0.6969 - acc: 0.5124 - val_loss: 0.6943 - val_acc: 0.5151\n",
      "Epoch 18/100\n",
      "1456/1456 [==============================] - 1s 881us/step - loss: 0.6966 - acc: 0.5151 - val_loss: 0.6940 - val_acc: 0.5178\n",
      "Epoch 19/100\n",
      "1456/1456 [==============================] - 1s 825us/step - loss: 0.6963 - acc: 0.5220 - val_loss: 0.6937 - val_acc: 0.5123\n",
      "Epoch 20/100\n",
      "1456/1456 [==============================] - 1s 737us/step - loss: 0.6961 - acc: 0.5206 - val_loss: 0.6935 - val_acc: 0.5178\n",
      "Epoch 21/100\n",
      "1456/1456 [==============================] - 1s 741us/step - loss: 0.6959 - acc: 0.5234 - val_loss: 0.6934 - val_acc: 0.5260\n",
      "Epoch 22/100\n",
      "1456/1456 [==============================] - 1s 742us/step - loss: 0.6957 - acc: 0.5254 - val_loss: 0.6931 - val_acc: 0.5178\n",
      "Epoch 23/100\n",
      "1456/1456 [==============================] - 1s 735us/step - loss: 0.6955 - acc: 0.5254 - val_loss: 0.6930 - val_acc: 0.5233\n",
      "Epoch 24/100\n",
      "1456/1456 [==============================] - 1s 738us/step - loss: 0.6953 - acc: 0.5275 - val_loss: 0.6928 - val_acc: 0.5205\n",
      "Epoch 25/100\n",
      "1456/1456 [==============================] - 1s 786us/step - loss: 0.6952 - acc: 0.5240 - val_loss: 0.6927 - val_acc: 0.5288\n",
      "Epoch 26/100\n",
      "1456/1456 [==============================] - 1s 836us/step - loss: 0.6950 - acc: 0.5275 - val_loss: 0.6925 - val_acc: 0.5370\n",
      "Epoch 27/100\n",
      "1456/1456 [==============================] - 1s 836us/step - loss: 0.6948 - acc: 0.5192 - val_loss: 0.6924 - val_acc: 0.5452\n",
      "Epoch 28/100\n",
      "1456/1456 [==============================] - 1s 891us/step - loss: 0.6947 - acc: 0.5254 - val_loss: 0.6923 - val_acc: 0.5425\n",
      "Epoch 29/100\n",
      "1456/1456 [==============================] - 2s 1ms/step - loss: 0.6945 - acc: 0.5234 - val_loss: 0.6922 - val_acc: 0.5452\n",
      "Epoch 30/100\n",
      "1456/1456 [==============================] - 1s 1ms/step - loss: 0.6944 - acc: 0.5254 - val_loss: 0.6920 - val_acc: 0.5397\n",
      "Epoch 31/100\n",
      "1456/1456 [==============================] - 2s 1ms/step - loss: 0.6943 - acc: 0.5275 - val_loss: 0.6919 - val_acc: 0.5452\n",
      "Epoch 32/100\n",
      "1456/1456 [==============================] - 1s 728us/step - loss: 0.6942 - acc: 0.5240 - val_loss: 0.6919 - val_acc: 0.5370\n",
      "Epoch 33/100\n",
      "1456/1456 [==============================] - 1s 686us/step - loss: 0.6940 - acc: 0.5227 - val_loss: 0.6918 - val_acc: 0.5397\n",
      "Epoch 34/100\n",
      "1456/1456 [==============================] - 1s 665us/step - loss: 0.6939 - acc: 0.5268 - val_loss: 0.6917 - val_acc: 0.5342\n",
      "Epoch 35/100\n",
      "1456/1456 [==============================] - 1s 664us/step - loss: 0.6938 - acc: 0.5234 - val_loss: 0.6916 - val_acc: 0.5425\n",
      "Epoch 36/100\n",
      "1456/1456 [==============================] - 1s 678us/step - loss: 0.6937 - acc: 0.5268 - val_loss: 0.6915 - val_acc: 0.5370\n",
      "Epoch 37/100\n",
      "1456/1456 [==============================] - 1s 765us/step - loss: 0.6936 - acc: 0.5240 - val_loss: 0.6914 - val_acc: 0.5425\n",
      "Epoch 38/100\n",
      "1456/1456 [==============================] - 1s 677us/step - loss: 0.6935 - acc: 0.5220 - val_loss: 0.6915 - val_acc: 0.5315\n",
      "Epoch 39/100\n",
      "1456/1456 [==============================] - 1s 756us/step - loss: 0.6934 - acc: 0.5240 - val_loss: 0.6913 - val_acc: 0.5315\n",
      "Epoch 40/100\n",
      "1456/1456 [==============================] - 1s 874us/step - loss: 0.6934 - acc: 0.5254 - val_loss: 0.6913 - val_acc: 0.5260\n",
      "Epoch 41/100\n",
      "1456/1456 [==============================] - 1s 723us/step - loss: 0.6932 - acc: 0.5234 - val_loss: 0.6912 - val_acc: 0.5315\n",
      "Epoch 42/100\n",
      "1456/1456 [==============================] - 1s 672us/step - loss: 0.6932 - acc: 0.5213 - val_loss: 0.6912 - val_acc: 0.5315\n",
      "Epoch 43/100\n",
      "1456/1456 [==============================] - 1s 663us/step - loss: 0.6931 - acc: 0.5220 - val_loss: 0.6912 - val_acc: 0.5288\n",
      "Epoch 44/100\n",
      "1456/1456 [==============================] - 1s 799us/step - loss: 0.6930 - acc: 0.5261 - val_loss: 0.6911 - val_acc: 0.5315\n",
      "Epoch 45/100\n",
      "1456/1456 [==============================] - 1s 877us/step - loss: 0.6930 - acc: 0.5234 - val_loss: 0.6911 - val_acc: 0.5370\n",
      "Epoch 46/100\n",
      "1456/1456 [==============================] - 2s 1ms/step - loss: 0.6929 - acc: 0.5199 - val_loss: 0.6910 - val_acc: 0.5260\n",
      "Epoch 47/100\n",
      "1456/1456 [==============================] - 1s 745us/step - loss: 0.6928 - acc: 0.5275 - val_loss: 0.6910 - val_acc: 0.5288\n",
      "Epoch 48/100\n",
      "1456/1456 [==============================] - 1s 832us/step - loss: 0.6927 - acc: 0.5199 - val_loss: 0.6910 - val_acc: 0.5342\n",
      "Epoch 49/100\n",
      "1456/1456 [==============================] - 1s 747us/step - loss: 0.6927 - acc: 0.5158 - val_loss: 0.6910 - val_acc: 0.5370\n",
      "Epoch 50/100\n",
      "1456/1456 [==============================] - 1s 756us/step - loss: 0.6926 - acc: 0.5185 - val_loss: 0.6910 - val_acc: 0.5260\n",
      "Epoch 51/100\n",
      "1456/1456 [==============================] - 1s 689us/step - loss: 0.6926 - acc: 0.5213 - val_loss: 0.6910 - val_acc: 0.5315\n",
      "Epoch 52/100\n",
      "1456/1456 [==============================] - 1s 653us/step - loss: 0.6925 - acc: 0.5206 - val_loss: 0.6909 - val_acc: 0.5260\n",
      "Epoch 53/100\n",
      "1456/1456 [==============================] - 1s 635us/step - loss: 0.6925 - acc: 0.5220 - val_loss: 0.6909 - val_acc: 0.5260\n",
      "Epoch 54/100\n",
      "1456/1456 [==============================] - 1s 652us/step - loss: 0.6924 - acc: 0.5213 - val_loss: 0.6909 - val_acc: 0.5260\n",
      "Epoch 55/100\n",
      "1456/1456 [==============================] - 1s 656us/step - loss: 0.6923 - acc: 0.5220 - val_loss: 0.6909 - val_acc: 0.5342\n",
      "Epoch 56/100\n",
      "1456/1456 [==============================] - 1s 828us/step - loss: 0.6923 - acc: 0.5220 - val_loss: 0.6909 - val_acc: 0.5397\n",
      "Epoch 57/100\n",
      "1456/1456 [==============================] - 1s 988us/step - loss: 0.6923 - acc: 0.5199 - val_loss: 0.6909 - val_acc: 0.5370\n",
      "Epoch 58/100\n",
      "1456/1456 [==============================] - 1s 687us/step - loss: 0.6923 - acc: 0.5199 - val_loss: 0.6909 - val_acc: 0.5370\n",
      "Epoch 59/100\n",
      "1456/1456 [==============================] - 1s 640us/step - loss: 0.6922 - acc: 0.5199 - val_loss: 0.6909 - val_acc: 0.5342\n",
      "Epoch 60/100\n"
     ]
    },
    {
     "name": "stdout",
     "output_type": "stream",
     "text": [
      "1456/1456 [==============================] - 1s 638us/step - loss: 0.6921 - acc: 0.5179 - val_loss: 0.6908 - val_acc: 0.5315\n",
      "Epoch 61/100\n",
      "1456/1456 [==============================] - 1s 645us/step - loss: 0.6921 - acc: 0.5192 - val_loss: 0.6908 - val_acc: 0.5342\n",
      "Epoch 62/100\n",
      "1456/1456 [==============================] - 1s 634us/step - loss: 0.6920 - acc: 0.5206 - val_loss: 0.6908 - val_acc: 0.5342\n",
      "Epoch 63/100\n",
      "1456/1456 [==============================] - 1s 642us/step - loss: 0.6920 - acc: 0.5192 - val_loss: 0.6908 - val_acc: 0.5315\n",
      "Epoch 64/100\n",
      "1456/1456 [==============================] - 1s 641us/step - loss: 0.6919 - acc: 0.5179 - val_loss: 0.6908 - val_acc: 0.5315\n",
      "Epoch 65/100\n",
      "1456/1456 [==============================] - 1s 631us/step - loss: 0.6919 - acc: 0.5165 - val_loss: 0.6909 - val_acc: 0.5233\n",
      "Epoch 66/100\n",
      "1456/1456 [==============================] - 1s 632us/step - loss: 0.6918 - acc: 0.5192 - val_loss: 0.6908 - val_acc: 0.5260\n",
      "Epoch 67/100\n",
      "1456/1456 [==============================] - 1s 649us/step - loss: 0.6918 - acc: 0.5234 - val_loss: 0.6908 - val_acc: 0.5233\n",
      "Epoch 68/100\n",
      "1456/1456 [==============================] - 1s 626us/step - loss: 0.6918 - acc: 0.5185 - val_loss: 0.6908 - val_acc: 0.5260\n",
      "Epoch 69/100\n",
      "1456/1456 [==============================] - 1s 627us/step - loss: 0.6917 - acc: 0.5199 - val_loss: 0.6908 - val_acc: 0.5342\n",
      "Epoch 70/100\n",
      "1456/1456 [==============================] - 1s 627us/step - loss: 0.6918 - acc: 0.5213 - val_loss: 0.6908 - val_acc: 0.5288\n",
      "Epoch 71/100\n",
      "1456/1456 [==============================] - 1s 652us/step - loss: 0.6916 - acc: 0.5199 - val_loss: 0.6908 - val_acc: 0.5260\n",
      "Epoch 72/100\n",
      "1456/1456 [==============================] - 1s 657us/step - loss: 0.6916 - acc: 0.5165 - val_loss: 0.6908 - val_acc: 0.5288\n",
      "Epoch 73/100\n",
      "1456/1456 [==============================] - 1s 711us/step - loss: 0.6916 - acc: 0.5234 - val_loss: 0.6908 - val_acc: 0.5233\n",
      "Epoch 74/100\n",
      "1456/1456 [==============================] - 1s 657us/step - loss: 0.6915 - acc: 0.5199 - val_loss: 0.6908 - val_acc: 0.5233\n",
      "Epoch 75/100\n",
      "1456/1456 [==============================] - 1s 629us/step - loss: 0.6916 - acc: 0.5234 - val_loss: 0.6908 - val_acc: 0.5260\n",
      "Epoch 76/100\n",
      "1456/1456 [==============================] - 1s 624us/step - loss: 0.6915 - acc: 0.5199 - val_loss: 0.6908 - val_acc: 0.5233\n",
      "Epoch 77/100\n",
      "1456/1456 [==============================] - 1s 633us/step - loss: 0.6915 - acc: 0.5234 - val_loss: 0.6908 - val_acc: 0.5233\n",
      "Epoch 78/100\n",
      "1456/1456 [==============================] - 1s 626us/step - loss: 0.6914 - acc: 0.5261 - val_loss: 0.6908 - val_acc: 0.5233\n",
      "Epoch 79/100\n",
      "1456/1456 [==============================] - 1s 643us/step - loss: 0.6914 - acc: 0.5220 - val_loss: 0.6908 - val_acc: 0.5233\n",
      "Epoch 80/100\n",
      "1456/1456 [==============================] - 1s 648us/step - loss: 0.6914 - acc: 0.5240 - val_loss: 0.6908 - val_acc: 0.5233\n",
      "Epoch 81/100\n",
      "1456/1456 [==============================] - 1s 633us/step - loss: 0.6913 - acc: 0.5240 - val_loss: 0.6908 - val_acc: 0.5233\n",
      "Epoch 82/100\n",
      "1456/1456 [==============================] - 1s 629us/step - loss: 0.6913 - acc: 0.5220 - val_loss: 0.6908 - val_acc: 0.5205\n",
      "Epoch 83/100\n",
      "1456/1456 [==============================] - 1s 637us/step - loss: 0.6913 - acc: 0.5240 - val_loss: 0.6908 - val_acc: 0.5205\n",
      "Epoch 84/100\n",
      "1456/1456 [==============================] - 1s 659us/step - loss: 0.6913 - acc: 0.5261 - val_loss: 0.6909 - val_acc: 0.5205\n",
      "Epoch 85/100\n",
      "1456/1456 [==============================] - 1s 637us/step - loss: 0.6912 - acc: 0.5247 - val_loss: 0.6909 - val_acc: 0.5260\n",
      "Epoch 86/100\n",
      "1456/1456 [==============================] - 1s 624us/step - loss: 0.6912 - acc: 0.5261 - val_loss: 0.6909 - val_acc: 0.5233\n",
      "Epoch 87/100\n",
      "1456/1456 [==============================] - 1s 631us/step - loss: 0.6911 - acc: 0.5261 - val_loss: 0.6909 - val_acc: 0.5315\n",
      "Epoch 88/100\n",
      "1456/1456 [==============================] - 1s 696us/step - loss: 0.6911 - acc: 0.5337 - val_loss: 0.6909 - val_acc: 0.5260\n",
      "Epoch 89/100\n",
      "1456/1456 [==============================] - 1s 925us/step - loss: 0.6911 - acc: 0.5268 - val_loss: 0.6909 - val_acc: 0.5260\n",
      "Epoch 90/100\n",
      "1456/1456 [==============================] - 1s 742us/step - loss: 0.6911 - acc: 0.5261 - val_loss: 0.6909 - val_acc: 0.5288\n",
      "Epoch 91/100\n",
      "1456/1456 [==============================] - 1s 781us/step - loss: 0.6910 - acc: 0.5254 - val_loss: 0.6910 - val_acc: 0.5315\n",
      "Epoch 92/100\n",
      "1456/1456 [==============================] - 1s 724us/step - loss: 0.6910 - acc: 0.5234 - val_loss: 0.6910 - val_acc: 0.5288\n",
      "Epoch 93/100\n",
      "1456/1456 [==============================] - 1s 750us/step - loss: 0.6910 - acc: 0.5288 - val_loss: 0.6910 - val_acc: 0.5288\n",
      "Epoch 94/100\n",
      "1456/1456 [==============================] - 1s 857us/step - loss: 0.6909 - acc: 0.5247 - val_loss: 0.6910 - val_acc: 0.5315\n",
      "Epoch 95/100\n",
      "1456/1456 [==============================] - 1s 932us/step - loss: 0.6909 - acc: 0.5337 - val_loss: 0.6910 - val_acc: 0.5260\n",
      "Epoch 96/100\n",
      "1456/1456 [==============================] - 1s 863us/step - loss: 0.6908 - acc: 0.5309 - val_loss: 0.6909 - val_acc: 0.5315\n",
      "Epoch 97/100\n",
      "1456/1456 [==============================] - 1s 893us/step - loss: 0.6909 - acc: 0.5275 - val_loss: 0.6909 - val_acc: 0.5260\n",
      "Epoch 98/100\n",
      "1456/1456 [==============================] - 1s 911us/step - loss: 0.6908 - acc: 0.5309 - val_loss: 0.6910 - val_acc: 0.5288\n",
      "Epoch 99/100\n",
      "1456/1456 [==============================] - 2s 1ms/step - loss: 0.6908 - acc: 0.5254 - val_loss: 0.6910 - val_acc: 0.5342\n",
      "Epoch 100/100\n",
      "1456/1456 [==============================] - 2s 1ms/step - loss: 0.6908 - acc: 0.5254 - val_loss: 0.6910 - val_acc: 0.5315\n"
     ]
    }
   ],
   "source": [
    "epochs = 100\n",
    "\n",
    "# initiate RMSprop optimizer\n",
    "opt = keras.optimizers.rmsprop(lr=0.0001, decay=1e-6)\n",
    "\n",
    "# Let's train the model using RMSprop\n",
    "cam_model.compile(loss='categorical_crossentropy',\n",
    "              optimizer=opt,\n",
    "              metrics=['accuracy'])\n",
    "\n",
    "history = cam_model.fit(x_train, y_train_cat,\n",
    "          batch_size=batch_size,\n",
    "          epochs=epochs,\n",
    "          validation_data=(x_test, y_test_cat),\n",
    "          shuffle=True, verbose=1)"
   ]
  },
  {
   "cell_type": "code",
   "execution_count": 18,
   "metadata": {
    "scrolled": true
   },
   "outputs": [
    {
     "name": "stdout",
     "output_type": "stream",
     "text": [
      "_________________________________________________________________\n",
      "Layer (type)                 Output Shape              Param #   \n",
      "=================================================================\n",
      "input_1 (InputLayer)         (None, 28, 28, 3)         0         \n",
      "_________________________________________________________________\n",
      "conv2d_1 (Conv2D)            (None, 28, 28, 32)        896       \n",
      "_________________________________________________________________\n",
      "conv2d_2 (Conv2D)            (None, 28, 28, 32)        9248      \n",
      "_________________________________________________________________\n",
      "max_pooling2d_1 (MaxPooling2 (None, 14, 14, 32)        0         \n",
      "_________________________________________________________________\n",
      "global_average_pooling2d_1 ( (None, 32)                0         \n",
      "_________________________________________________________________\n",
      "dense_3 (Dense)              (None, 2)                 66        \n",
      "=================================================================\n",
      "Total params: 10,210\n",
      "Trainable params: 66\n",
      "Non-trainable params: 10,144\n",
      "_________________________________________________________________\n"
     ]
    }
   ],
   "source": [
    "cam_model.summary()"
   ]
  },
  {
   "cell_type": "code",
   "execution_count": 19,
   "metadata": {},
   "outputs": [],
   "source": [
    "cam_model_static = Model(inputs=cam_model.input, outputs=[cam_model.output, cam_model.layers[-4].output])\n",
    "for layer in cam_model_static.layers:\n",
    "    layer.trainable = False\n",
    "cam_model_static.compile(loss='categorical_crossentropy', optimizer=opt, metrics=['accuracy'])"
   ]
  },
  {
   "cell_type": "code",
   "execution_count": null,
   "metadata": {},
   "outputs": [],
   "source": []
  },
  {
   "cell_type": "code",
   "execution_count": 20,
   "metadata": {},
   "outputs": [],
   "source": [
    "imgs = X\n",
    "class_weights = cam_model_static.layers[-1].get_weights()[0]\n",
    "[predictions, conv_outputs_batch] = cam_model_static.predict(imgs)\n"
   ]
  },
  {
   "cell_type": "code",
   "execution_count": 28,
   "metadata": {},
   "outputs": [
    {
     "data": {
      "image/png": "[encoded data removed]",
      "text/plain": [
       "<Figure size 1152x1152 with 8 Axes>"
      ]
     },
     "metadata": {},
     "output_type": "display_data"
    }
   ],
   "source": [
    "\n",
    "def get_cam(target, target_class=0):\n",
    "    conv_outputs = conv_outputs_batch[target, :, :, :]\n",
    "    #Create the class activation map.\n",
    "    cam = np.zeros(dtype = np.float32, shape = conv_outputs.shape[0:2])\n",
    "    for i, w in enumerate(class_weights[:, target_class]):\n",
    "        cam += w * conv_outputs[:, :, i]\n",
    "    return cam\n",
    "    \n",
    "    \n",
    "fig= plt.figure(figsize=(16, 16))\n",
    "columns = 2\n",
    "rows = 4\n",
    "offset = \n",
    "for i in range(1, 8 + 1, 2):\n",
    "    cam1 = get_cam(i, target_class=0)\n",
    "    fig.add_subplot(rows, columns, i)\n",
    "    plt.imshow(cam1, cmap='jet')\n",
    "    plt.title(f'Image {i} - class {0}')\n",
    "    cam2 = get_cam(i, target_class=1)\n",
    "    fig.add_subplot(rows, columns, i + 1)\n",
    "    plt.imshow(cam2, cmap='jet')\n",
    "    plt.title(f'Image {i} - class {1}')\n",
    "    \n",
    "plt.show()"
   ]
  },
  {
   "cell_type": "code",
   "execution_count": null,
   "metadata": {},
   "outputs": [],
   "source": []
  },
  {
   "cell_type": "code",
   "execution_count": null,
   "metadata": {},
   "outputs": [],
   "source": []
  }
 ],
 "metadata": {
  "anaconda-cloud": {},
  "kernelspec": {
   "display_name": "Python 3",
   "language": "python",
   "name": "python3"
  },
  "language_info": {
   "codemirror_mode": {
    "name": "ipython",
    "version": 3
   },
   "file_extension": ".py",
   "mimetype": "text/x-python",
   "name": "python",
   "nbconvert_exporter": "python",
   "pygments_lexer": "ipython3",
   "version": "3.7.4"
  }
 },
 "nbformat": 4,
 "nbformat_minor": 1
}
