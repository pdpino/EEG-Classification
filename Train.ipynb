{
 "cells": [
  {
   "cell_type": "code",
   "execution_count": 1,
   "metadata": {},
   "outputs": [
    {
     "name": "stderr",
     "output_type": "stream",
     "text": [
      "Using TensorFlow backend.\n",
      "/Users/Yoav/miniconda3/envs/infovis/lib/python3.7/site-packages/tensorflow/python/framework/dtypes.py:516: FutureWarning: Passing (type, 1) or '1type' as a synonym of type is deprecated; in a future version of numpy, it will be understood as (type, (1,)) / '(1,)type'.\n",
      "  _np_qint8 = np.dtype([(\"qint8\", np.int8, 1)])\n",
      "/Users/Yoav/miniconda3/envs/infovis/lib/python3.7/site-packages/tensorflow/python/framework/dtypes.py:517: FutureWarning: Passing (type, 1) or '1type' as a synonym of type is deprecated; in a future version of numpy, it will be understood as (type, (1,)) / '(1,)type'.\n",
      "  _np_quint8 = np.dtype([(\"quint8\", np.uint8, 1)])\n",
      "/Users/Yoav/miniconda3/envs/infovis/lib/python3.7/site-packages/tensorflow/python/framework/dtypes.py:518: FutureWarning: Passing (type, 1) or '1type' as a synonym of type is deprecated; in a future version of numpy, it will be understood as (type, (1,)) / '(1,)type'.\n",
      "  _np_qint16 = np.dtype([(\"qint16\", np.int16, 1)])\n",
      "/Users/Yoav/miniconda3/envs/infovis/lib/python3.7/site-packages/tensorflow/python/framework/dtypes.py:519: FutureWarning: Passing (type, 1) or '1type' as a synonym of type is deprecated; in a future version of numpy, it will be understood as (type, (1,)) / '(1,)type'.\n",
      "  _np_quint16 = np.dtype([(\"quint16\", np.uint16, 1)])\n",
      "/Users/Yoav/miniconda3/envs/infovis/lib/python3.7/site-packages/tensorflow/python/framework/dtypes.py:520: FutureWarning: Passing (type, 1) or '1type' as a synonym of type is deprecated; in a future version of numpy, it will be understood as (type, (1,)) / '(1,)type'.\n",
      "  _np_qint32 = np.dtype([(\"qint32\", np.int32, 1)])\n",
      "/Users/Yoav/miniconda3/envs/infovis/lib/python3.7/site-packages/tensorflow/python/framework/dtypes.py:525: FutureWarning: Passing (type, 1) or '1type' as a synonym of type is deprecated; in a future version of numpy, it will be understood as (type, (1,)) / '(1,)type'.\n",
      "  np_resource = np.dtype([(\"resource\", np.ubyte, 1)])\n",
      "/Users/Yoav/miniconda3/envs/infovis/lib/python3.7/site-packages/tensorboard/compat/tensorflow_stub/dtypes.py:541: FutureWarning: Passing (type, 1) or '1type' as a synonym of type is deprecated; in a future version of numpy, it will be understood as (type, (1,)) / '(1,)type'.\n",
      "  _np_qint8 = np.dtype([(\"qint8\", np.int8, 1)])\n",
      "/Users/Yoav/miniconda3/envs/infovis/lib/python3.7/site-packages/tensorboard/compat/tensorflow_stub/dtypes.py:542: FutureWarning: Passing (type, 1) or '1type' as a synonym of type is deprecated; in a future version of numpy, it will be understood as (type, (1,)) / '(1,)type'.\n",
      "  _np_quint8 = np.dtype([(\"quint8\", np.uint8, 1)])\n",
      "/Users/Yoav/miniconda3/envs/infovis/lib/python3.7/site-packages/tensorboard/compat/tensorflow_stub/dtypes.py:543: FutureWarning: Passing (type, 1) or '1type' as a synonym of type is deprecated; in a future version of numpy, it will be understood as (type, (1,)) / '(1,)type'.\n",
      "  _np_qint16 = np.dtype([(\"qint16\", np.int16, 1)])\n",
      "/Users/Yoav/miniconda3/envs/infovis/lib/python3.7/site-packages/tensorboard/compat/tensorflow_stub/dtypes.py:544: FutureWarning: Passing (type, 1) or '1type' as a synonym of type is deprecated; in a future version of numpy, it will be understood as (type, (1,)) / '(1,)type'.\n",
      "  _np_quint16 = np.dtype([(\"quint16\", np.uint16, 1)])\n",
      "/Users/Yoav/miniconda3/envs/infovis/lib/python3.7/site-packages/tensorboard/compat/tensorflow_stub/dtypes.py:545: FutureWarning: Passing (type, 1) or '1type' as a synonym of type is deprecated; in a future version of numpy, it will be understood as (type, (1,)) / '(1,)type'.\n",
      "  _np_qint32 = np.dtype([(\"qint32\", np.int32, 1)])\n",
      "/Users/Yoav/miniconda3/envs/infovis/lib/python3.7/site-packages/tensorboard/compat/tensorflow_stub/dtypes.py:550: FutureWarning: Passing (type, 1) or '1type' as a synonym of type is deprecated; in a future version of numpy, it will be understood as (type, (1,)) / '(1,)type'.\n",
      "  np_resource = np.dtype([(\"resource\", np.ubyte, 1)])\n"
     ]
    }
   ],
   "source": [
    "import pandas as pd\n",
    "import numpy as np\n",
    "from sklearn.model_selection import train_test_split\n",
    "import keras\n",
    "import matplotlib.pyplot as plt\n",
    "%matplotlib inline\n",
    "\n",
    "plt.style.use('ggplot')\n",
    "from IPython.core.display import display, HTML\n",
    "# display(HTML(\"<style>.container { width:100% !important; }</style>\"))\n",
    "plt.rcParams[\"figure.figsize\"] = (12,12)\n",
    "pd.options.display.max_columns = None\n",
    "pd.options.display.precision = 4"
   ]
  },
  {
   "cell_type": "markdown",
   "metadata": {},
   "source": [
    "## Brainwave Frequencies:\n",
    "Gamma, 30 to 50 Hz.  \n",
    "Beta, 14 to 30 Hz.  \n",
    "Alpha, 8 to 14 Hz.  \n",
    "Theta, 4 to 8 Hz.  \n",
    "Delta, 0.1 to 4 Hz.  "
   ]
  },
  {
   "cell_type": "markdown",
   "metadata": {},
   "source": [
    "## Changing Bin Size: \n",
    "https://stackoverflow.com/questions/25735153/plotting-a-fast-fourier-transform-in-python  \n",
    "(Search for 'bin')"
   ]
  },
  {
   "cell_type": "markdown",
   "metadata": {},
   "source": [
    "An EEG processing library:  \n",
    "https://github.com/pbashivan/EEGLearn"
   ]
  },
  {
   "cell_type": "code",
   "execution_count": 2,
   "metadata": {},
   "outputs": [],
   "source": [
    "%run utils.py"
   ]
  },
  {
   "cell_type": "code",
   "execution_count": 3,
   "metadata": {},
   "outputs": [],
   "source": [
    "%run models.py"
   ]
  },
  {
   "cell_type": "code",
   "execution_count": 4,
   "metadata": {},
   "outputs": [
    {
     "name": "stdout",
     "output_type": "stream",
     "text": [
      "Generating training data...\n",
      "CPU times: user 26.2 s, sys: 2.91 s, total: 29.1 sing 75/117Interpolating 1/112Interpolating 39/112Interpolating 77/112Interpolating 111/112Interpolating 1/111Interpolating 24/111Interpolating 40/111Interpolating 71/111Interpolating 111/111Interpolating 1/109Interpolating 22/109Interpolating 67/109Interpolating 108/109Interpolating 1/113Interpolating 57/113Interpolating 108/113Interpolating 1/104Interpolating 56/104Interpolating 82/104Interpolating 87/104Interpolating 1/101Interpolating 56/101Interpolating 98/101Interpolating 1/102Interpolating 56/102Interpolating 1/107Interpolating 51/107Interpolating 97/107Interpolating 1/113Interpolating 47/113Interpolating 99/113Interpolating 1/115Interpolating 56/115Interpolating 106/115Interpolating 1/139Interpolating 49/139Interpolating 95/139Interpolating 1/123Interpolating 57/123Interpolating 108/123Interpolating 1/118Interpolating 51/118Interpolating 102/118Interpolating 1/120Interpolating 58/120Interpolating 105/120Interpolating 1/117Interpolating 55/117Interpolating 108/117\n",
      "Wall time: 32.3 s\n"
     ]
    }
   ],
   "source": [
    "%%time\n",
    "\n",
    "image_size = 28\n",
    "frame_duration = 1.0\n",
    "overlap = 0.5\n",
    "X, y = make_data_pipeline(file_names,labels,image_size,frame_duration,overlap)"
   ]
  },
  {
   "cell_type": "code",
   "execution_count": 10,
   "metadata": {},
   "outputs": [
    {
     "data": {
      "text/plain": [
       "((1821, 28, 28, 3), (1821,))"
      ]
     },
     "execution_count": 10,
     "metadata": {},
     "output_type": "execute_result"
    }
   ],
   "source": [
    "X.shape, y.shape"
   ]
  },
  {
   "cell_type": "code",
   "execution_count": 11,
   "metadata": {},
   "outputs": [
    {
     "name": "stderr",
     "output_type": "stream",
     "text": [
      "Clipping input data to the valid range for imshow with RGB data ([0..1] for floats or [0..255] for integers).\n"
     ]
    },
    {
     "data": {
      "text/plain": [
       "<matplotlib.image.AxesImage at 0x1a387006d0>"
      ]
     },
     "execution_count": 11,
     "metadata": {},
     "output_type": "execute_result"
    },
    {
     "data": {
      "image/png": "[encoded data removed]",
      "text/plain": [
       "<Figure size 864x864 with 1 Axes>"
      ]
     },
     "metadata": {},
     "output_type": "display_data"
    }
   ],
   "source": [
    "plt.imshow(X[3])"
   ]
  },
  {
   "cell_type": "code",
   "execution_count": 12,
   "metadata": {},
   "outputs": [],
   "source": [
    "x_train, x_test, y_train, y_test = train_test_split(X, y, test_size=0.20,shuffle=True)"
   ]
  },
  {
   "cell_type": "code",
   "execution_count": 13,
   "metadata": {},
   "outputs": [
    {
     "data": {
      "text/plain": [
       "(1456,)"
      ]
     },
     "execution_count": 13,
     "metadata": {},
     "output_type": "execute_result"
    }
   ],
   "source": [
    "y_train.shape"
   ]
  },
  {
   "cell_type": "code",
   "execution_count": 14,
   "metadata": {},
   "outputs": [
    {
     "name": "stdout",
     "output_type": "stream",
     "text": [
      "x_train shape: (1456, 28, 28, 3)\n",
      "1456 train samples\n",
      "365 test samples\n"
     ]
    }
   ],
   "source": [
    "# input image dimensions\n",
    "img_rows, img_cols = 28, 28\n",
    "\n",
    "x_train = x_train.astype('float32')\n",
    "x_test = x_test.astype('float32')\n",
    "#x_train /= 255\n",
    "#x_test /= 255\n",
    "print('x_train shape:', x_train.shape)\n",
    "print(x_train.shape[0], 'train samples')\n",
    "print(x_test.shape[0], 'test samples')\n",
    "\n",
    "input_shape = (img_rows, img_cols, 3)"
   ]
  },
  {
   "cell_type": "markdown",
   "metadata": {},
   "source": [
    "### Train Original Model"
   ]
  },
  {
   "cell_type": "code",
   "execution_count": 15,
   "metadata": {},
   "outputs": [
    {
     "name": "stdout",
     "output_type": "stream",
     "text": [
      "WARNING:tensorflow:From /Users/Yoav/miniconda3/envs/infovis/lib/python3.7/site-packages/keras/optimizers.py:790: The name tf.train.Optimizer is deprecated. Please use tf.compat.v1.train.Optimizer instead.\n",
      "\n"
     ]
    }
   ],
   "source": [
    "batch_size = 32\n",
    "num_classes = 2\n",
    "epochs = 200\n",
    "\n",
    "# convert class vectors to binary class matrices\n",
    "y_train_cat = keras.utils.to_categorical(y_train, num_classes)\n",
    "y_test_cat = keras.utils.to_categorical(y_test, num_classes)\n",
    "\n",
    "\n",
    "model = get_func_model_1(input_shape, num_classes)\n",
    "# model = get_model_2(input_shape, num_classes)\n",
    "\n",
    "\n",
    "# initiate RMSprop optimizer\n",
    "opt = keras.optimizers.rmsprop(lr=0.0001, decay=1e-6)\n",
    "\n",
    "# Let's train the model using RMSprop\n",
    "model.compile(loss='categorical_crossentropy',\n",
    "              optimizer=opt,\n",
    "              metrics=['accuracy'])\n",
    "\n",
    "x_train = x_train.astype('float32')\n",
    "x_test = x_test.astype('float32')\n",
    "#x_train /= 255\n",
    "#x_test /= 255"
   ]
  },
  {
   "cell_type": "code",
   "execution_count": 17,
   "metadata": {},
   "outputs": [
    {
     "name": "stdout",
     "output_type": "stream",
     "text": [
      "WARNING:tensorflow:From /Users/Yoav/miniconda3/envs/infovis/lib/python3.7/site-packages/tensorflow/python/ops/math_grad.py:1250: add_dispatch_support.<locals>.wrapper (from tensorflow.python.ops.array_ops) is deprecated and will be removed in a future version.\n",
      "Instructions for updating:\n",
      "Use tf.where in 2.0, which has the same broadcast rule as np.where\n",
      "Train on 1456 samples, validate on 365 samples\n",
      "Epoch 1/200\n",
      "1456/1456 [==============================] - 4s 3ms/step - loss: 0.6947 - acc: 0.5268 - val_loss: 0.6820 - val_acc: 0.6000\n",
      "Epoch 2/200\n",
      "1456/1456 [==============================] - 2s 2ms/step - loss: 0.6867 - acc: 0.5611 - val_loss: 0.6740 - val_acc: 0.6219\n",
      "Epoch 3/200\n",
      "1456/1456 [==============================] - 2s 2ms/step - loss: 0.6760 - acc: 0.6010 - val_loss: 0.6685 - val_acc: 0.6137\n",
      "Epoch 4/200\n",
      "1456/1456 [==============================] - 2s 2ms/step - loss: 0.6662 - acc: 0.6113 - val_loss: 0.6675 - val_acc: 0.5945\n",
      "Epoch 5/200\n",
      "1456/1456 [==============================] - 2s 2ms/step - loss: 0.6591 - acc: 0.6319 - val_loss: 0.6575 - val_acc: 0.6137\n",
      "Epoch 6/200\n",
      "1456/1456 [==============================] - 2s 1ms/step - loss: 0.6512 - acc: 0.6174 - val_loss: 0.6546 - val_acc: 0.6466\n",
      "Epoch 7/200\n",
      "1456/1456 [==============================] - 3s 2ms/step - loss: 0.6437 - acc: 0.6346 - val_loss: 0.6461 - val_acc: 0.6411\n",
      "Epoch 8/200\n",
      "1456/1456 [==============================] - 2s 2ms/step - loss: 0.6370 - acc: 0.6504 - val_loss: 0.6401 - val_acc: 0.6466\n",
      "Epoch 9/200\n",
      "1456/1456 [==============================] - 2s 1ms/step - loss: 0.6289 - acc: 0.6573 - val_loss: 0.6797 - val_acc: 0.5452\n",
      "Epoch 10/200\n",
      "1456/1456 [==============================] - 2s 2ms/step - loss: 0.6250 - acc: 0.6552 - val_loss: 0.6350 - val_acc: 0.6548\n",
      "Epoch 11/200\n",
      "1456/1456 [==============================] - 2s 2ms/step - loss: 0.6164 - acc: 0.6683 - val_loss: 0.6295 - val_acc: 0.6384\n",
      "Epoch 12/200\n",
      "1456/1456 [==============================] - 3s 2ms/step - loss: 0.6120 - acc: 0.6799 - val_loss: 0.6397 - val_acc: 0.6356\n",
      "Epoch 13/200\n",
      "1456/1456 [==============================] - 3s 2ms/step - loss: 0.6055 - acc: 0.6813 - val_loss: 0.6207 - val_acc: 0.6630\n",
      "Epoch 14/200\n",
      "1456/1456 [==============================] - 2s 2ms/step - loss: 0.5981 - acc: 0.6951 - val_loss: 0.6221 - val_acc: 0.6575\n",
      "Epoch 15/200\n",
      "1456/1456 [==============================] - 3s 2ms/step - loss: 0.5947 - acc: 0.6916 - val_loss: 0.6134 - val_acc: 0.6603\n",
      "Epoch 16/200\n",
      "1456/1456 [==============================] - 3s 2ms/step - loss: 0.5840 - acc: 0.7026 - val_loss: 0.6238 - val_acc: 0.6548\n",
      "Epoch 17/200\n",
      "1456/1456 [==============================] - 3s 2ms/step - loss: 0.5826 - acc: 0.7012 - val_loss: 0.6177 - val_acc: 0.6493\n",
      "Epoch 18/200\n",
      "1456/1456 [==============================] - 4s 2ms/step - loss: 0.5746 - acc: 0.7170 - val_loss: 0.6281 - val_acc: 0.6438\n",
      "Epoch 19/200\n",
      "1456/1456 [==============================] - 2s 1ms/step - loss: 0.5656 - acc: 0.7198 - val_loss: 0.5974 - val_acc: 0.6630\n",
      "Epoch 20/200\n",
      "1456/1456 [==============================] - 2s 2ms/step - loss: 0.5625 - acc: 0.7266 - val_loss: 0.5944 - val_acc: 0.6849\n",
      "Epoch 21/200\n",
      "1456/1456 [==============================] - 2s 1ms/step - loss: 0.5546 - acc: 0.7404 - val_loss: 0.5966 - val_acc: 0.6822\n",
      "Epoch 22/200\n",
      "1456/1456 [==============================] - 2s 2ms/step - loss: 0.5476 - acc: 0.7438 - val_loss: 0.5903 - val_acc: 0.6904\n",
      "Epoch 23/200\n",
      "1456/1456 [==============================] - 2s 2ms/step - loss: 0.5427 - acc: 0.7541 - val_loss: 0.5859 - val_acc: 0.7068\n",
      "Epoch 24/200\n",
      "1456/1456 [==============================] - 2s 2ms/step - loss: 0.5354 - acc: 0.7452 - val_loss: 0.5829 - val_acc: 0.6959\n",
      "Epoch 25/200\n",
      "1456/1456 [==============================] - 3s 2ms/step - loss: 0.5319 - acc: 0.7514 - val_loss: 0.5868 - val_acc: 0.6904\n",
      "Epoch 26/200\n",
      "1456/1456 [==============================] - 3s 2ms/step - loss: 0.5261 - acc: 0.7548 - val_loss: 0.6090 - val_acc: 0.6712\n",
      "Epoch 27/200\n",
      "1456/1456 [==============================] - 3s 2ms/step - loss: 0.5158 - acc: 0.7644 - val_loss: 0.5966 - val_acc: 0.6740\n",
      "Epoch 28/200\n",
      "1456/1456 [==============================] - 3s 2ms/step - loss: 0.5119 - acc: 0.7617 - val_loss: 0.6599 - val_acc: 0.6164\n",
      "Epoch 29/200\n",
      "1456/1456 [==============================] - 3s 2ms/step - loss: 0.5102 - acc: 0.7658 - val_loss: 0.5644 - val_acc: 0.6932\n",
      "Epoch 30/200\n",
      "1456/1456 [==============================] - 3s 2ms/step - loss: 0.5011 - acc: 0.7775 - val_loss: 0.5630 - val_acc: 0.7342\n",
      "Epoch 31/200\n",
      "1456/1456 [==============================] - 3s 2ms/step - loss: 0.4953 - acc: 0.7679 - val_loss: 0.5650 - val_acc: 0.6959\n",
      "Epoch 32/200\n",
      "1456/1456 [==============================] - 3s 2ms/step - loss: 0.4936 - acc: 0.7788 - val_loss: 0.5866 - val_acc: 0.6904\n",
      "Epoch 33/200\n",
      "1456/1456 [==============================] - 3s 2ms/step - loss: 0.4859 - acc: 0.7967 - val_loss: 0.5584 - val_acc: 0.7151\n",
      "Epoch 34/200\n",
      "1456/1456 [==============================] - 3s 2ms/step - loss: 0.4838 - acc: 0.7802 - val_loss: 0.5560 - val_acc: 0.7068\n",
      "Epoch 35/200\n",
      "1456/1456 [==============================] - 3s 2ms/step - loss: 0.4706 - acc: 0.7995 - val_loss: 0.5494 - val_acc: 0.7370\n",
      "Epoch 36/200\n",
      "1456/1456 [==============================] - 3s 2ms/step - loss: 0.4689 - acc: 0.7843 - val_loss: 0.5412 - val_acc: 0.7425\n",
      "Epoch 37/200\n",
      "1456/1456 [==============================] - 2s 1ms/step - loss: 0.4601 - acc: 0.7946 - val_loss: 0.5502 - val_acc: 0.7452\n",
      "Epoch 38/200\n",
      "1456/1456 [==============================] - 2s 2ms/step - loss: 0.4573 - acc: 0.8029 - val_loss: 0.5475 - val_acc: 0.7233\n",
      "Epoch 39/200\n",
      "1456/1456 [==============================] - 2s 2ms/step - loss: 0.4566 - acc: 0.7981 - val_loss: 0.5532 - val_acc: 0.7178\n",
      "Epoch 40/200\n",
      "1456/1456 [==============================] - 2s 2ms/step - loss: 0.4505 - acc: 0.8070 - val_loss: 0.5424 - val_acc: 0.7562\n",
      "Epoch 41/200\n",
      "1456/1456 [==============================] - 2s 2ms/step - loss: 0.4484 - acc: 0.8091 - val_loss: 0.5450 - val_acc: 0.7425\n",
      "Epoch 42/200\n",
      "1456/1456 [==============================] - 2s 2ms/step - loss: 0.4385 - acc: 0.8276 - val_loss: 0.5380 - val_acc: 0.7452\n",
      "Epoch 43/200\n",
      "1456/1456 [==============================] - 2s 2ms/step - loss: 0.4379 - acc: 0.8214 - val_loss: 0.5490 - val_acc: 0.7205\n",
      "Epoch 44/200\n",
      "1456/1456 [==============================] - 2s 1ms/step - loss: 0.4297 - acc: 0.8132 - val_loss: 0.5295 - val_acc: 0.7699\n",
      "Epoch 45/200\n",
      "1456/1456 [==============================] - 2s 2ms/step - loss: 0.4234 - acc: 0.8262 - val_loss: 0.5391 - val_acc: 0.7342\n",
      "Epoch 46/200\n",
      "1456/1456 [==============================] - 2s 2ms/step - loss: 0.4177 - acc: 0.8290 - val_loss: 0.5419 - val_acc: 0.7288\n",
      "Epoch 47/200\n",
      "1456/1456 [==============================] - 2s 2ms/step - loss: 0.4194 - acc: 0.8152 - val_loss: 0.5635 - val_acc: 0.7068\n",
      "Epoch 48/200\n",
      "1456/1456 [==============================] - 2s 2ms/step - loss: 0.4080 - acc: 0.8304 - val_loss: 0.5391 - val_acc: 0.7233\n",
      "Epoch 49/200\n",
      "1456/1456 [==============================] - 3s 2ms/step - loss: 0.4074 - acc: 0.8365 - val_loss: 0.5424 - val_acc: 0.7479\n",
      "Epoch 50/200\n",
      "1456/1456 [==============================] - 2s 2ms/step - loss: 0.4053 - acc: 0.8310 - val_loss: 0.5198 - val_acc: 0.7726\n",
      "Epoch 51/200\n",
      "1456/1456 [==============================] - 3s 2ms/step - loss: 0.3986 - acc: 0.8407 - val_loss: 0.5273 - val_acc: 0.7699\n",
      "Epoch 52/200\n",
      "1456/1456 [==============================] - 2s 2ms/step - loss: 0.3937 - acc: 0.8420 - val_loss: 0.5416 - val_acc: 0.7425\n",
      "Epoch 53/200\n",
      "1456/1456 [==============================] - 2s 2ms/step - loss: 0.3903 - acc: 0.8448 - val_loss: 0.5608 - val_acc: 0.7178\n",
      "Epoch 54/200\n",
      "1456/1456 [==============================] - 2s 2ms/step - loss: 0.3907 - acc: 0.8386 - val_loss: 0.5388 - val_acc: 0.7260\n",
      "Epoch 55/200\n",
      "1456/1456 [==============================] - 3s 2ms/step - loss: 0.3870 - acc: 0.8420 - val_loss: 0.5254 - val_acc: 0.7562\n",
      "Epoch 56/200\n",
      "1456/1456 [==============================] - 2s 2ms/step - loss: 0.3752 - acc: 0.8468 - val_loss: 0.5318 - val_acc: 0.7260\n",
      "Epoch 57/200\n",
      "1456/1456 [==============================] - 2s 2ms/step - loss: 0.3766 - acc: 0.8537 - val_loss: 0.5373 - val_acc: 0.7616\n",
      "Epoch 58/200\n"
     ]
    },
    {
     "name": "stdout",
     "output_type": "stream",
     "text": [
      "1456/1456 [==============================] - 3s 2ms/step - loss: 0.3758 - acc: 0.8516 - val_loss: 0.5222 - val_acc: 0.7589\n",
      "Epoch 59/200\n",
      "1456/1456 [==============================] - 2s 1ms/step - loss: 0.3658 - acc: 0.8441 - val_loss: 0.5195 - val_acc: 0.7589\n",
      "Epoch 60/200\n",
      "1456/1456 [==============================] - 2s 2ms/step - loss: 0.3664 - acc: 0.8585 - val_loss: 0.5512 - val_acc: 0.7288\n",
      "Epoch 61/200\n",
      "1456/1456 [==============================] - 3s 2ms/step - loss: 0.3665 - acc: 0.8482 - val_loss: 0.5187 - val_acc: 0.7726\n",
      "Epoch 62/200\n",
      "1456/1456 [==============================] - 2s 1ms/step - loss: 0.3587 - acc: 0.8585 - val_loss: 0.5613 - val_acc: 0.7397\n",
      "Epoch 63/200\n",
      "1456/1456 [==============================] - 2s 1ms/step - loss: 0.3570 - acc: 0.8626 - val_loss: 0.5357 - val_acc: 0.7507\n",
      "Epoch 64/200\n",
      "1456/1456 [==============================] - 2s 1ms/step - loss: 0.3512 - acc: 0.8551 - val_loss: 0.5271 - val_acc: 0.7753\n",
      "Epoch 65/200\n",
      "1456/1456 [==============================] - 2s 2ms/step - loss: 0.3454 - acc: 0.8681 - val_loss: 0.5168 - val_acc: 0.7671\n",
      "Epoch 66/200\n",
      "1456/1456 [==============================] - 3s 2ms/step - loss: 0.3439 - acc: 0.8640 - val_loss: 0.5158 - val_acc: 0.7616\n",
      "Epoch 67/200\n",
      "1456/1456 [==============================] - 2s 1ms/step - loss: 0.3417 - acc: 0.8668 - val_loss: 0.5187 - val_acc: 0.7589\n",
      "Epoch 68/200\n",
      "1456/1456 [==============================] - 2s 2ms/step - loss: 0.3409 - acc: 0.8661 - val_loss: 0.5696 - val_acc: 0.7397\n",
      "Epoch 69/200\n",
      "1456/1456 [==============================] - 2s 2ms/step - loss: 0.3376 - acc: 0.8702 - val_loss: 0.5205 - val_acc: 0.7644\n",
      "Epoch 70/200\n",
      "1456/1456 [==============================] - 2s 1ms/step - loss: 0.3331 - acc: 0.8723 - val_loss: 0.5404 - val_acc: 0.7589\n",
      "Epoch 71/200\n",
      "1456/1456 [==============================] - 2s 1ms/step - loss: 0.3236 - acc: 0.8729 - val_loss: 0.5812 - val_acc: 0.7507\n",
      "Epoch 72/200\n",
      "1456/1456 [==============================] - 2s 1ms/step - loss: 0.3303 - acc: 0.8729 - val_loss: 0.5326 - val_acc: 0.7644\n",
      "Epoch 73/200\n",
      "1456/1456 [==============================] - 2s 1ms/step - loss: 0.3239 - acc: 0.8757 - val_loss: 0.5341 - val_acc: 0.7863\n",
      "Epoch 74/200\n",
      "1456/1456 [==============================] - 2s 1ms/step - loss: 0.3162 - acc: 0.8805 - val_loss: 0.5812 - val_acc: 0.7397\n",
      "Epoch 75/200\n",
      "1456/1456 [==============================] - 2s 2ms/step - loss: 0.3151 - acc: 0.8791 - val_loss: 0.5319 - val_acc: 0.7699\n",
      "Epoch 76/200\n",
      "1456/1456 [==============================] - 3s 2ms/step - loss: 0.3155 - acc: 0.8771 - val_loss: 0.5197 - val_acc: 0.7726\n",
      "Epoch 77/200\n",
      "1456/1456 [==============================] - 2s 1ms/step - loss: 0.3122 - acc: 0.8812 - val_loss: 0.5152 - val_acc: 0.7644\n",
      "Epoch 78/200\n",
      "1456/1456 [==============================] - 2s 1ms/step - loss: 0.3092 - acc: 0.8812 - val_loss: 0.5156 - val_acc: 0.7562\n",
      "Epoch 79/200\n",
      "1456/1456 [==============================] - 2s 1ms/step - loss: 0.3098 - acc: 0.8826 - val_loss: 0.5171 - val_acc: 0.7726\n",
      "Epoch 80/200\n",
      "1456/1456 [==============================] - 2s 2ms/step - loss: 0.3107 - acc: 0.8757 - val_loss: 0.5138 - val_acc: 0.7644 1s - loss: 0.3\n",
      "Epoch 81/200\n",
      "1456/1456 [==============================] - 2s 1ms/step - loss: 0.3009 - acc: 0.8853 - val_loss: 0.5569 - val_acc: 0.7589\n",
      "Epoch 82/200\n",
      "1456/1456 [==============================] - 2s 1ms/step - loss: 0.2946 - acc: 0.8853 - val_loss: 0.5467 - val_acc: 0.7589\n",
      "Epoch 83/200\n",
      "1456/1456 [==============================] - 2s 1ms/step - loss: 0.2994 - acc: 0.8771 - val_loss: 0.5661 - val_acc: 0.7370\n",
      "Epoch 84/200\n",
      "1456/1456 [==============================] - 2s 1ms/step - loss: 0.2930 - acc: 0.8901 - val_loss: 0.5326 - val_acc: 0.7699\n",
      "Epoch 85/200\n",
      "1456/1456 [==============================] - 2s 1ms/step - loss: 0.2948 - acc: 0.8867 - val_loss: 0.6216 - val_acc: 0.7288\n",
      "Epoch 86/200\n",
      "1456/1456 [==============================] - 2s 1ms/step - loss: 0.2886 - acc: 0.8935 - val_loss: 0.5382 - val_acc: 0.7589\n",
      "Epoch 87/200\n",
      "1456/1456 [==============================] - 2s 1ms/step - loss: 0.2874 - acc: 0.8922 - val_loss: 0.5639 - val_acc: 0.7479\n",
      "Epoch 88/200\n",
      "1456/1456 [==============================] - 2s 1ms/step - loss: 0.2838 - acc: 0.9032 - val_loss: 0.5439 - val_acc: 0.7671\n",
      "Epoch 89/200\n",
      "1456/1456 [==============================] - 2s 1ms/step - loss: 0.2808 - acc: 0.8984 - val_loss: 0.5352 - val_acc: 0.7644\n",
      "Epoch 90/200\n",
      "1456/1456 [==============================] - 2s 1ms/step - loss: 0.2735 - acc: 0.8956 - val_loss: 0.5293 - val_acc: 0.7863\n",
      "Epoch 91/200\n",
      "1456/1456 [==============================] - 2s 1ms/step - loss: 0.2799 - acc: 0.8908 - val_loss: 0.5588 - val_acc: 0.7671\n",
      "Epoch 92/200\n",
      "1456/1456 [==============================] - 2s 1ms/step - loss: 0.2702 - acc: 0.8963 - val_loss: 0.5463 - val_acc: 0.7726\n",
      "Epoch 93/200\n",
      "1456/1456 [==============================] - 2s 1ms/step - loss: 0.2726 - acc: 0.9004 - val_loss: 0.5328 - val_acc: 0.7644\n",
      "Epoch 94/200\n",
      "1456/1456 [==============================] - 2s 1ms/step - loss: 0.2624 - acc: 0.8963 - val_loss: 0.6016 - val_acc: 0.7479\n",
      "Epoch 95/200\n",
      "1456/1456 [==============================] - 2s 1ms/step - loss: 0.2622 - acc: 0.8990 - val_loss: 0.5357 - val_acc: 0.7589\n",
      "Epoch 96/200\n",
      "1456/1456 [==============================] - 2s 1ms/step - loss: 0.2594 - acc: 0.9093 - val_loss: 0.5327 - val_acc: 0.7753\n",
      "Epoch 97/200\n",
      "1456/1456 [==============================] - 2s 1ms/step - loss: 0.2663 - acc: 0.9004 - val_loss: 0.6051 - val_acc: 0.7507\n",
      "Epoch 98/200\n",
      "1456/1456 [==============================] - 2s 1ms/step - loss: 0.2568 - acc: 0.9121 - val_loss: 0.5496 - val_acc: 0.7836\n",
      "Epoch 99/200\n",
      "1456/1456 [==============================] - 2s 1ms/step - loss: 0.2530 - acc: 0.9087 - val_loss: 0.5366 - val_acc: 0.7726\n",
      "Epoch 100/200\n",
      "1456/1456 [==============================] - 2s 1ms/step - loss: 0.2544 - acc: 0.9107 - val_loss: 0.5405 - val_acc: 0.7781\n",
      "Epoch 101/200\n",
      "1456/1456 [==============================] - 2s 1ms/step - loss: 0.2466 - acc: 0.9114 - val_loss: 0.5493 - val_acc: 0.7726\n",
      "Epoch 102/200\n",
      "1456/1456 [==============================] - 2s 1ms/step - loss: 0.2466 - acc: 0.9100 - val_loss: 0.5416 - val_acc: 0.7753\n",
      "Epoch 103/200\n",
      "1456/1456 [==============================] - 2s 1ms/step - loss: 0.2458 - acc: 0.9135 - val_loss: 0.5825 - val_acc: 0.7753\n",
      "Epoch 104/200\n",
      "1456/1456 [==============================] - 2s 1ms/step - loss: 0.2404 - acc: 0.9162 - val_loss: 0.5692 - val_acc: 0.7699\n",
      "Epoch 105/200\n",
      "1456/1456 [==============================] - 2s 1ms/step - loss: 0.2512 - acc: 0.9025 - val_loss: 0.5527 - val_acc: 0.7863\n",
      "Epoch 106/200\n",
      "1456/1456 [==============================] - 2s 1ms/step - loss: 0.2359 - acc: 0.9224 - val_loss: 0.5368 - val_acc: 0.7863\n",
      "Epoch 107/200\n",
      "1456/1456 [==============================] - 2s 2ms/step - loss: 0.2385 - acc: 0.9107 - val_loss: 0.5991 - val_acc: 0.7616\n",
      "Epoch 108/200\n",
      "1456/1456 [==============================] - 2s 1ms/step - loss: 0.2338 - acc: 0.9162 - val_loss: 0.5592 - val_acc: 0.7589\n",
      "Epoch 109/200\n",
      "1456/1456 [==============================] - 2s 1ms/step - loss: 0.2319 - acc: 0.9265 - val_loss: 0.5562 - val_acc: 0.7781\n",
      "Epoch 110/200\n",
      "1456/1456 [==============================] - 2s 1ms/step - loss: 0.2321 - acc: 0.9162 - val_loss: 0.6322 - val_acc: 0.7589\n",
      "Epoch 111/200\n",
      "1456/1456 [==============================] - 2s 1ms/step - loss: 0.2253 - acc: 0.9210 - val_loss: 0.5637 - val_acc: 0.7836\n",
      "Epoch 112/200\n",
      "1456/1456 [==============================] - 2s 1ms/step - loss: 0.2245 - acc: 0.9231 - val_loss: 0.5942 - val_acc: 0.7699\n",
      "Epoch 113/200\n",
      "1456/1456 [==============================] - 2s 1ms/step - loss: 0.2230 - acc: 0.9217 - val_loss: 0.5607 - val_acc: 0.7808\n",
      "Epoch 114/200\n",
      "1456/1456 [==============================] - 2s 1ms/step - loss: 0.2310 - acc: 0.9128 - val_loss: 0.5537 - val_acc: 0.7699\n",
      "Epoch 115/200\n",
      "1456/1456 [==============================] - 2s 1ms/step - loss: 0.2200 - acc: 0.9272 - val_loss: 0.5677 - val_acc: 0.7644\n",
      "Epoch 116/200\n",
      "1456/1456 [==============================] - 2s 1ms/step - loss: 0.2123 - acc: 0.9258 - val_loss: 0.5526 - val_acc: 0.7781\n",
      "Epoch 117/200\n",
      "1456/1456 [==============================] - 2s 1ms/step - loss: 0.2224 - acc: 0.9231 - val_loss: 0.6927 - val_acc: 0.7370\n",
      "Epoch 118/200\n"
     ]
    },
    {
     "name": "stdout",
     "output_type": "stream",
     "text": [
      "1456/1456 [==============================] - 2s 1ms/step - loss: 0.2133 - acc: 0.9231 - val_loss: 0.5661 - val_acc: 0.7753\n",
      "Epoch 119/200\n",
      "1456/1456 [==============================] - 2s 1ms/step - loss: 0.2103 - acc: 0.9272 - val_loss: 0.5568 - val_acc: 0.7836\n",
      "Epoch 120/200\n",
      "1456/1456 [==============================] - 2s 1ms/step - loss: 0.2119 - acc: 0.9265 - val_loss: 0.5741 - val_acc: 0.7671\n",
      "Epoch 121/200\n",
      "1456/1456 [==============================] - 3s 2ms/step - loss: 0.2113 - acc: 0.9231 - val_loss: 0.5782 - val_acc: 0.7781\n",
      "Epoch 122/200\n",
      "1456/1456 [==============================] - 2s 2ms/step - loss: 0.2065 - acc: 0.9279 - val_loss: 0.5663 - val_acc: 0.7781\n",
      "Epoch 123/200\n",
      "1456/1456 [==============================] - 3s 2ms/step - loss: 0.1979 - acc: 0.9375 - val_loss: 0.6071 - val_acc: 0.7726\n",
      "Epoch 124/200\n",
      "1456/1456 [==============================] - 4s 3ms/step - loss: 0.2055 - acc: 0.9299 - val_loss: 0.5665 - val_acc: 0.7699\n",
      "Epoch 125/200\n",
      "1456/1456 [==============================] - 3s 2ms/step - loss: 0.1987 - acc: 0.9306 - val_loss: 0.5710 - val_acc: 0.7836\n",
      "Epoch 126/200\n",
      "1456/1456 [==============================] - 2s 1ms/step - loss: 0.2036 - acc: 0.9272 - val_loss: 0.6178 - val_acc: 0.7534\n",
      "Epoch 127/200\n",
      "1456/1456 [==============================] - 3s 2ms/step - loss: 0.2013 - acc: 0.9361 - val_loss: 0.5776 - val_acc: 0.7808\n",
      "Epoch 128/200\n",
      "1456/1456 [==============================] - 2s 1ms/step - loss: 0.1975 - acc: 0.9313 - val_loss: 0.5714 - val_acc: 0.7753\n",
      "Epoch 129/200\n",
      "1456/1456 [==============================] - 2s 1ms/step - loss: 0.1993 - acc: 0.9265 - val_loss: 0.5795 - val_acc: 0.7753\n",
      "Epoch 130/200\n",
      "1456/1456 [==============================] - 3s 2ms/step - loss: 0.1878 - acc: 0.9409 - val_loss: 0.5837 - val_acc: 0.7753\n",
      "Epoch 131/200\n",
      "1456/1456 [==============================] - 2s 1ms/step - loss: 0.1914 - acc: 0.9341 - val_loss: 0.5966 - val_acc: 0.7836\n",
      "Epoch 132/200\n",
      "1456/1456 [==============================] - 2s 1ms/step - loss: 0.1971 - acc: 0.9341 - val_loss: 0.5715 - val_acc: 0.7890\n",
      "Epoch 133/200\n",
      "1456/1456 [==============================] - 2s 1ms/step - loss: 0.1871 - acc: 0.9299 - val_loss: 0.6480 - val_acc: 0.7671\n",
      "Epoch 134/200\n",
      "1456/1456 [==============================] - 3s 2ms/step - loss: 0.1910 - acc: 0.9375 - val_loss: 0.6017 - val_acc: 0.7753\n",
      "Epoch 135/200\n",
      "1456/1456 [==============================] - 3s 2ms/step - loss: 0.1844 - acc: 0.9416 - val_loss: 0.5802 - val_acc: 0.7781\n",
      "Epoch 136/200\n",
      "1456/1456 [==============================] - 2s 1ms/step - loss: 0.1792 - acc: 0.9451 - val_loss: 0.5911 - val_acc: 0.7781\n",
      "Epoch 137/200\n",
      "1456/1456 [==============================] - 2s 1ms/step - loss: 0.1780 - acc: 0.9382 - val_loss: 0.5830 - val_acc: 0.7890\n",
      "Epoch 138/200\n",
      "1456/1456 [==============================] - 2s 1ms/step - loss: 0.1792 - acc: 0.9382 - val_loss: 0.5937 - val_acc: 0.7836\n",
      "Epoch 139/200\n",
      "1456/1456 [==============================] - 2s 1ms/step - loss: 0.1814 - acc: 0.9409 - val_loss: 0.5835 - val_acc: 0.7671\n",
      "Epoch 140/200\n",
      "1456/1456 [==============================] - 2s 1ms/step - loss: 0.1745 - acc: 0.9416 - val_loss: 0.5921 - val_acc: 0.7671\n",
      "Epoch 141/200\n",
      "1456/1456 [==============================] - 2s 1ms/step - loss: 0.1695 - acc: 0.9505 - val_loss: 0.5926 - val_acc: 0.7863\n",
      "Epoch 142/200\n",
      "1456/1456 [==============================] - 2s 1ms/step - loss: 0.1732 - acc: 0.9464 - val_loss: 0.5862 - val_acc: 0.7726\n",
      "Epoch 143/200\n",
      "1456/1456 [==============================] - 2s 1ms/step - loss: 0.1691 - acc: 0.9492 - val_loss: 0.5914 - val_acc: 0.7671\n",
      "Epoch 144/200\n",
      "1456/1456 [==============================] - 2s 1ms/step - loss: 0.1670 - acc: 0.9540 - val_loss: 0.6120 - val_acc: 0.7726\n",
      "Epoch 145/200\n",
      "1456/1456 [==============================] - 2s 1ms/step - loss: 0.1651 - acc: 0.9519 - val_loss: 0.6534 - val_acc: 0.7562\n",
      "Epoch 146/200\n",
      "1456/1456 [==============================] - 2s 1ms/step - loss: 0.1670 - acc: 0.9457 - val_loss: 0.5958 - val_acc: 0.7671\n",
      "Epoch 147/200\n",
      "1456/1456 [==============================] - 2s 1ms/step - loss: 0.1594 - acc: 0.9499 - val_loss: 0.6979 - val_acc: 0.7616\n",
      "Epoch 148/200\n",
      "1456/1456 [==============================] - 2s 1ms/step - loss: 0.1588 - acc: 0.9457 - val_loss: 0.6027 - val_acc: 0.7644\n",
      "Epoch 149/200\n",
      "1456/1456 [==============================] - 2s 2ms/step - loss: 0.1616 - acc: 0.9485 - val_loss: 0.6310 - val_acc: 0.7671\n",
      "Epoch 150/200\n",
      "1456/1456 [==============================] - 2s 1ms/step - loss: 0.1620 - acc: 0.9485 - val_loss: 0.6235 - val_acc: 0.7671\n",
      "Epoch 151/200\n",
      "1456/1456 [==============================] - 2s 1ms/step - loss: 0.1521 - acc: 0.9554 - val_loss: 0.7139 - val_acc: 0.7644\n",
      "Epoch 152/200\n",
      "1456/1456 [==============================] - 2s 1ms/step - loss: 0.1541 - acc: 0.9485 - val_loss: 0.6091 - val_acc: 0.7836\n",
      "Epoch 153/200\n",
      "1456/1456 [==============================] - 2s 1ms/step - loss: 0.1521 - acc: 0.9526 - val_loss: 0.7438 - val_acc: 0.7589\n",
      "Epoch 154/200\n",
      "1456/1456 [==============================] - 2s 1ms/step - loss: 0.1530 - acc: 0.9554 - val_loss: 0.6290 - val_acc: 0.7781\n",
      "Epoch 155/200\n",
      "1456/1456 [==============================] - 2s 1ms/step - loss: 0.1521 - acc: 0.9560 - val_loss: 0.6427 - val_acc: 0.7644\n",
      "Epoch 156/200\n",
      "1456/1456 [==============================] - 2s 1ms/step - loss: 0.1498 - acc: 0.9505 - val_loss: 0.6205 - val_acc: 0.7836\n",
      "Epoch 157/200\n",
      "1456/1456 [==============================] - 2s 2ms/step - loss: 0.1423 - acc: 0.9574 - val_loss: 0.6360 - val_acc: 0.7781\n",
      "Epoch 158/200\n",
      "1456/1456 [==============================] - 2s 1ms/step - loss: 0.1436 - acc: 0.9533 - val_loss: 0.6741 - val_acc: 0.7753\n",
      "Epoch 159/200\n",
      "1456/1456 [==============================] - 2s 1ms/step - loss: 0.1460 - acc: 0.9547 - val_loss: 0.6464 - val_acc: 0.7671\n",
      "Epoch 160/200\n",
      "1456/1456 [==============================] - 2s 1ms/step - loss: 0.1402 - acc: 0.9629 - val_loss: 0.6812 - val_acc: 0.7781\n",
      "Epoch 161/200\n",
      "1456/1456 [==============================] - 2s 1ms/step - loss: 0.1458 - acc: 0.9560 - val_loss: 0.6909 - val_acc: 0.7753\n",
      "Epoch 162/200\n",
      "1456/1456 [==============================] - 2s 1ms/step - loss: 0.1441 - acc: 0.9554 - val_loss: 0.7836 - val_acc: 0.7534\n",
      "Epoch 163/200\n",
      "1456/1456 [==============================] - 2s 1ms/step - loss: 0.1382 - acc: 0.9602 - val_loss: 0.6556 - val_acc: 0.7726\n",
      "Epoch 164/200\n",
      "1456/1456 [==============================] - 2s 1ms/step - loss: 0.1411 - acc: 0.9567 - val_loss: 0.6627 - val_acc: 0.7753\n",
      "Epoch 165/200\n",
      "1456/1456 [==============================] - 2s 1ms/step - loss: 0.1382 - acc: 0.9581 - val_loss: 0.6411 - val_acc: 0.7781\n",
      "Epoch 166/200\n",
      "1456/1456 [==============================] - 2s 1ms/step - loss: 0.1341 - acc: 0.9609 - val_loss: 0.6487 - val_acc: 0.7753\n",
      "Epoch 167/200\n",
      "1456/1456 [==============================] - 2s 1ms/step - loss: 0.1325 - acc: 0.9602 - val_loss: 0.6604 - val_acc: 0.7753\n",
      "Epoch 168/200\n",
      "1456/1456 [==============================] - 2s 1ms/step - loss: 0.1335 - acc: 0.9609 - val_loss: 0.6903 - val_acc: 0.7644\n",
      "Epoch 169/200\n",
      "1456/1456 [==============================] - 2s 1ms/step - loss: 0.1273 - acc: 0.9650 - val_loss: 0.6418 - val_acc: 0.7753\n",
      "Epoch 170/200\n",
      "1456/1456 [==============================] - 2s 1ms/step - loss: 0.1242 - acc: 0.9677 - val_loss: 0.6804 - val_acc: 0.7616\n",
      "Epoch 171/200\n",
      "1456/1456 [==============================] - 2s 1ms/step - loss: 0.1226 - acc: 0.9650 - val_loss: 0.6782 - val_acc: 0.7753\n",
      "Epoch 172/200\n",
      "1456/1456 [==============================] - 2s 1ms/step - loss: 0.1267 - acc: 0.9684 - val_loss: 0.7164 - val_acc: 0.7534\n",
      "Epoch 173/200\n",
      "1456/1456 [==============================] - 2s 1ms/step - loss: 0.1254 - acc: 0.9615 - val_loss: 0.7113 - val_acc: 0.7562\n",
      "Epoch 174/200\n",
      "1456/1456 [==============================] - 2s 1ms/step - loss: 0.1240 - acc: 0.9636 - val_loss: 0.7003 - val_acc: 0.7671\n",
      "Epoch 175/200\n",
      "1456/1456 [==============================] - 2s 1ms/step - loss: 0.1200 - acc: 0.9670 - val_loss: 0.6817 - val_acc: 0.7781\n",
      "Epoch 176/200\n",
      "1456/1456 [==============================] - 2s 1ms/step - loss: 0.1274 - acc: 0.9588 - val_loss: 0.6783 - val_acc: 0.7753\n",
      "Epoch 177/200\n",
      "1456/1456 [==============================] - 2s 1ms/step - loss: 0.1211 - acc: 0.9629 - val_loss: 0.6833 - val_acc: 0.7753\n"
     ]
    },
    {
     "name": "stdout",
     "output_type": "stream",
     "text": [
      "Epoch 178/200\n",
      "1456/1456 [==============================] - 2s 2ms/step - loss: 0.1236 - acc: 0.9636 - val_loss: 0.7079 - val_acc: 0.7808\n",
      "Epoch 179/200\n",
      "1456/1456 [==============================] - 2s 1ms/step - loss: 0.1159 - acc: 0.9677 - val_loss: 0.6734 - val_acc: 0.7808\n",
      "Epoch 180/200\n",
      "1456/1456 [==============================] - 2s 1ms/step - loss: 0.1173 - acc: 0.9691 - val_loss: 0.6689 - val_acc: 0.7945\n",
      "Epoch 181/200\n",
      "1456/1456 [==============================] - 2s 1ms/step - loss: 0.1150 - acc: 0.9670 - val_loss: 0.6713 - val_acc: 0.7781\n",
      "Epoch 182/200\n",
      "1456/1456 [==============================] - 2s 2ms/step - loss: 0.1128 - acc: 0.9670 - val_loss: 0.7181 - val_acc: 0.7452\n",
      "Epoch 183/200\n",
      "1456/1456 [==============================] - 2s 2ms/step - loss: 0.1151 - acc: 0.9663 - val_loss: 0.6952 - val_acc: 0.7781\n",
      "Epoch 184/200\n",
      "1456/1456 [==============================] - 2s 1ms/step - loss: 0.1094 - acc: 0.9718 - val_loss: 0.7044 - val_acc: 0.7753\n",
      "Epoch 185/200\n",
      "1456/1456 [==============================] - 2s 1ms/step - loss: 0.1144 - acc: 0.9732 - val_loss: 0.7576 - val_acc: 0.7671\n",
      "Epoch 186/200\n",
      "1456/1456 [==============================] - 2s 1ms/step - loss: 0.1087 - acc: 0.9718 - val_loss: 0.7848 - val_acc: 0.7562\n",
      "Epoch 187/200\n",
      "1456/1456 [==============================] - 2s 1ms/step - loss: 0.1107 - acc: 0.9725 - val_loss: 0.7282 - val_acc: 0.7699\n",
      "Epoch 188/200\n",
      "1456/1456 [==============================] - 2s 1ms/step - loss: 0.1068 - acc: 0.9718 - val_loss: 0.7075 - val_acc: 0.7781\n",
      "Epoch 189/200\n",
      "1456/1456 [==============================] - 2s 1ms/step - loss: 0.1021 - acc: 0.9753 - val_loss: 0.7255 - val_acc: 0.7699\n",
      "Epoch 190/200\n",
      "1456/1456 [==============================] - 2s 1ms/step - loss: 0.1044 - acc: 0.9753 - val_loss: 0.7127 - val_acc: 0.7836\n",
      "Epoch 191/200\n",
      "1456/1456 [==============================] - 2s 1ms/step - loss: 0.1073 - acc: 0.9698 - val_loss: 0.7114 - val_acc: 0.7644\n",
      "Epoch 192/200\n",
      "1456/1456 [==============================] - 2s 1ms/step - loss: 0.1056 - acc: 0.9712 - val_loss: 0.7314 - val_acc: 0.7671\n",
      "Epoch 193/200\n",
      "1456/1456 [==============================] - 2s 1ms/step - loss: 0.1075 - acc: 0.9718 - val_loss: 0.7181 - val_acc: 0.7808\n",
      "Epoch 194/200\n",
      "1456/1456 [==============================] - 2s 1ms/step - loss: 0.0992 - acc: 0.9753 - val_loss: 0.7156 - val_acc: 0.7836\n",
      "Epoch 195/200\n",
      "1456/1456 [==============================] - 2s 1ms/step - loss: 0.0990 - acc: 0.9739 - val_loss: 0.7166 - val_acc: 0.7753\n",
      "Epoch 196/200\n",
      "1456/1456 [==============================] - 3s 2ms/step - loss: 0.0978 - acc: 0.9718 - val_loss: 0.7436 - val_acc: 0.7507\n",
      "Epoch 197/200\n",
      "1456/1456 [==============================] - 2s 1ms/step - loss: 0.1008 - acc: 0.9663 - val_loss: 0.9517 - val_acc: 0.7507\n",
      "Epoch 198/200\n",
      "1456/1456 [==============================] - 2s 2ms/step - loss: 0.1009 - acc: 0.9725 - val_loss: 0.7011 - val_acc: 0.7945\n",
      "Epoch 199/200\n",
      "1456/1456 [==============================] - 2s 1ms/step - loss: 0.1022 - acc: 0.9705 - val_loss: 0.7563 - val_acc: 0.7507\n",
      "Epoch 200/200\n",
      "1456/1456 [==============================] - 2s 2ms/step - loss: 0.0937 - acc: 0.9787 - val_loss: 0.7240 - val_acc: 0.7699\n",
      "CPU times: user 10min 11s, sys: 16.2 s, total: 10min 28s\n",
      "Wall time: 7min 5s\n"
     ]
    }
   ],
   "source": [
    "%%time\n",
    "\n",
    "history = model.fit(x_train, y_train_cat,\n",
    "          batch_size=batch_size,\n",
    "          epochs=epochs,\n",
    "          validation_data=(x_test, y_test_cat),\n",
    "          shuffle=True, verbose=1)"
   ]
  },
  {
   "cell_type": "code",
   "execution_count": 22,
   "metadata": {},
   "outputs": [
    {
     "name": "stdout",
     "output_type": "stream",
     "text": [
      "_________________________________________________________________\n",
      "Layer (type)                 Output Shape              Param #   \n",
      "=================================================================\n",
      "input_1 (InputLayer)         (None, 28, 28, 3)         0         \n",
      "_________________________________________________________________\n",
      "conv2d_1 (Conv2D)            (None, 28, 28, 32)        896       \n",
      "_________________________________________________________________\n",
      "conv2d_2 (Conv2D)            (None, 28, 28, 32)        9248      \n",
      "_________________________________________________________________\n",
      "max_pooling2d_1 (MaxPooling2 (None, 14, 14, 32)        0         \n",
      "_________________________________________________________________\n",
      "flatten_1 (Flatten)          (None, 6272)              0         \n",
      "_________________________________________________________________\n",
      "dense_1 (Dense)              (None, 10)                62730     \n",
      "_________________________________________________________________\n",
      "dense_2 (Dense)              (None, 2)                 22        \n",
      "=================================================================\n",
      "Total params: 72,896\n",
      "Trainable params: 72,896\n",
      "Non-trainable params: 0\n",
      "_________________________________________________________________\n"
     ]
    }
   ],
   "source": [
    "model.summary()"
   ]
  },
  {
   "cell_type": "code",
   "execution_count": 13,
   "metadata": {},
   "outputs": [
    {
     "data": {
      "text/plain": [
       "[<keras.engine.input_layer.InputLayer at 0x7fad2afa77f0>,\n",
       " <keras.layers.convolutional.Conv2D at 0x7fad2afa7d30>,\n",
       " <keras.layers.convolutional.Conv2D at 0x7fad2afa7cc0>,\n",
       " <keras.layers.pooling.MaxPooling2D at 0x7fad2af9f860>,\n",
       " <keras.layers.core.Flatten at 0x7fad2af9ffd0>,\n",
       " <keras.layers.core.Dense at 0x7fad2af9f358>,\n",
       " <keras.layers.core.Dense at 0x7fad2b538940>]"
      ]
     },
     "execution_count": 13,
     "metadata": {},
     "output_type": "execute_result"
    }
   ],
   "source": [
    "model.layers"
   ]
  },
  {
   "cell_type": "code",
   "execution_count": 18,
   "metadata": {},
   "outputs": [],
   "source": [
    "model.save('models/model_2.h5')"
   ]
  },
  {
   "cell_type": "code",
   "execution_count": 19,
   "metadata": {},
   "outputs": [
    {
     "data": {
      "text/plain": [
       "(1821, 2)"
      ]
     },
     "execution_count": 19,
     "metadata": {},
     "output_type": "execute_result"
    }
   ],
   "source": [
    "predictions_base_model = model.predict(X)\n",
    "predictions_base_model.shape"
   ]
  },
  {
   "cell_type": "code",
   "execution_count": 20,
   "metadata": {},
   "outputs": [
    {
     "data": {
      "text/plain": [
       "array([[3.4503936e-04, 9.9965501e-01],\n",
       "       [2.1045016e-02, 9.7895491e-01],\n",
       "       [1.7873488e-03, 9.9821270e-01],\n",
       "       ...,\n",
       "       [8.9528030e-01, 1.0471968e-01],\n",
       "       [8.7062722e-01, 1.2937282e-01],\n",
       "       [6.5833932e-01, 3.4166068e-01]], dtype=float32)"
      ]
     },
     "execution_count": 20,
     "metadata": {},
     "output_type": "execute_result"
    }
   ],
   "source": [
    "predictions_base_model"
   ]
  },
  {
   "cell_type": "markdown",
   "metadata": {},
   "source": [
    "### CAM 2.0"
   ]
  },
  {
   "cell_type": "code",
   "execution_count": 5,
   "metadata": {},
   "outputs": [],
   "source": [
    "import tensorflow as tf\n",
    "import keras.backend as K\n",
    "from keras.layers.core import Lambda\n",
    "from keras.models import Sequential\n",
    "import numpy as np\n",
    "from keras.models import load_model\n",
    " \n"
   ]
  },
  {
   "cell_type": "code",
   "execution_count": 6,
   "metadata": {
    "collapsed": true
   },
   "outputs": [
    {
     "name": "stdout",
     "output_type": "stream",
     "text": [
      "WARNING:tensorflow:From /Users/Yoav/miniconda3/envs/infovis/lib/python3.7/site-packages/keras/backend/tensorflow_backend.py:517: The name tf.placeholder is deprecated. Please use tf.compat.v1.placeholder instead.\n",
      "\n",
      "WARNING:tensorflow:From /Users/Yoav/miniconda3/envs/infovis/lib/python3.7/site-packages/keras/backend/tensorflow_backend.py:4138: The name tf.random_uniform is deprecated. Please use tf.random.uniform instead.\n",
      "\n",
      "WARNING:tensorflow:From /Users/Yoav/miniconda3/envs/infovis/lib/python3.7/site-packages/keras/backend/tensorflow_backend.py:3976: The name tf.nn.max_pool is deprecated. Please use tf.nn.max_pool2d instead.\n",
      "\n",
      "WARNING:tensorflow:From /Users/Yoav/miniconda3/envs/infovis/lib/python3.7/site-packages/keras/backend/tensorflow_backend.py:174: The name tf.get_default_session is deprecated. Please use tf.compat.v1.get_default_session instead.\n",
      "\n",
      "WARNING:tensorflow:From /Users/Yoav/miniconda3/envs/infovis/lib/python3.7/site-packages/keras/backend/tensorflow_backend.py:181: The name tf.ConfigProto is deprecated. Please use tf.compat.v1.ConfigProto instead.\n",
      "\n",
      "WARNING:tensorflow:From /Users/Yoav/miniconda3/envs/infovis/lib/python3.7/site-packages/keras/backend/tensorflow_backend.py:186: The name tf.Session is deprecated. Please use tf.compat.v1.Session instead.\n",
      "\n",
      "WARNING:tensorflow:From /Users/Yoav/miniconda3/envs/infovis/lib/python3.7/site-packages/keras/optimizers.py:790: The name tf.train.Optimizer is deprecated. Please use tf.compat.v1.train.Optimizer instead.\n",
      "\n",
      "WARNING:tensorflow:From /Users/Yoav/miniconda3/envs/infovis/lib/python3.7/site-packages/tensorflow/python/ops/math_grad.py:1250: add_dispatch_support.<locals>.wrapper (from tensorflow.python.ops.array_ops) is deprecated and will be removed in a future version.\n",
      "Instructions for updating:\n",
      "Use tf.where in 2.0, which has the same broadcast rule as np.where\n"
     ]
    }
   ],
   "source": [
    "# load model\n",
    "model = load_model('models/model_2.h5')"
   ]
  },
  {
   "cell_type": "code",
   "execution_count": null,
   "metadata": {},
   "outputs": [],
   "source": []
  },
  {
   "cell_type": "code",
   "execution_count": 44,
   "metadata": {},
   "outputs": [],
   "source": [
    "def target_category_loss(x, category_index, nb_classes):\n",
    "    return tf.multiply(x, K.one_hot([category_index], nb_classes))\n",
    "\n",
    "def target_category_loss_output_shape(input_shape):\n",
    "    return input_shape\n",
    "\n",
    "def normalize(x):\n",
    "    # utility function to normalize a tensor by its L2 norm\n",
    "    return x / (K.sqrt(K.mean(K.square(x))) + 1e-5)\n",
    "\n",
    "def naive_cam(input_model, image, category_index, layer_name):\n",
    "    conv_output = [l for l in model.layers if l.name == layer_name][0].output \n",
    "    cam_extractor = K.function([model.input], [conv_output])\n",
    "    cam = cam_extractor([image[None]])\n",
    "    cam = cam[0][0]\n",
    "    cam = np.maximum(cam, 0)\n",
    "    cam = np.sum(cam, axis=2)\n",
    "    heatmap = cam / np.max(cam)\n",
    "    return cam, heatmap\n",
    "\n",
    "def grad_cam(input_model, image, category_index, layer_name):\n",
    "    nb_classes = 2\n",
    "    target_layer = lambda x: target_category_loss(x, category_index, nb_classes)\n",
    "    last = Lambda(target_layer, output_shape=target_category_loss_output_shape)(input_model.output)\n",
    "    model = Model(inputs=input_model.input, outputs=last)\n",
    "    loss = K.sum(model.layers[-1].output)\n",
    "    conv_output = [l for l in model.layers if l.name == layer_name][0].output \n",
    "    grads = normalize(K.gradients(loss, conv_output)[0])\n",
    "    \n",
    "    gradient_function = K.function([model.layers[0].input], [conv_output, grads])\n",
    "    \n",
    "    output, grads_val = gradient_function([image[None]])\n",
    "    output, grads_val = output[0, :], grads_val[0, :, :, :]\n",
    "\n",
    "    weights = np.mean(grads_val, axis = (0, 1))\n",
    "    cam = np.ones(output.shape[0 : 2], dtype = np.float32)\n",
    "\n",
    "    for i, w in enumerate(weights):\n",
    "        cam += w * output[:, :, i]\n",
    "\n",
    "    cam = np.maximum(cam, 0)\n",
    "    heatmap = cam / np.max(cam)\n",
    "\n",
    "    return cam, heatmap"
   ]
  },
  {
   "cell_type": "code",
   "execution_count": 38,
   "metadata": {},
   "outputs": [],
   "source": [
    "cam_n, heatmap_n = naive_cam(model, X[0], 0, 'conv2d_2')"
   ]
  },
  {
   "cell_type": "code",
   "execution_count": 40,
   "metadata": {},
   "outputs": [
    {
     "data": {
      "image/png": "[encoded data removed]",
      "text/plain": [
       "<Figure size 432x288 with 1 Axes>"
      ]
     },
     "metadata": {
      "needs_background": "light"
     },
     "output_type": "display_data"
    }
   ],
   "source": [
    "plt.imshow(heatmap_n, cmap='jet')\n",
    "plt.show()"
   ]
  },
  {
   "cell_type": "code",
   "execution_count": 41,
   "metadata": {},
   "outputs": [
    {
     "name": "stdout",
     "output_type": "stream",
     "text": [
      "(1, 28, 28, 32)\n"
     ]
    },
    {
     "data": {
      "image/png": "[encoded data removed]",
      "text/plain": [
       "<Figure size 432x288 with 1 Axes>"
      ]
     },
     "metadata": {
      "needs_background": "light"
     },
     "output_type": "display_data"
    }
   ],
   "source": [
    "predictions = model.predict(X)\n",
    "predicted_class = np.argmax(predictions[0])\n",
    "cam, heatmap = grad_cam(model, X[0], predicted_class, 'conv2d_2')\n",
    "plt.imshow(cam, cmap='jet')\n",
    "plt.show()"
   ]
  },
  {
   "cell_type": "markdown",
   "metadata": {},
   "source": [
    "## Visualize CAMs"
   ]
  },
  {
   "cell_type": "code",
   "execution_count": 51,
   "metadata": {},
   "outputs": [
    {
     "data": {
      "image/png": "[encoded data removed]",
      "text/plain": [
       "<Figure size 1152x1152 with 8 Axes>"
      ]
     },
     "metadata": {
      "needs_background": "light"
     },
     "output_type": "display_data"
    }
   ],
   "source": [
    "    \n",
    "fig= plt.figure(figsize=(16, 16))\n",
    "columns = 2\n",
    "rows = 4\n",
    "for i in range(1, columns * rows + 1, columns):\n",
    "    #cam0, heatmap0 = grad_cam(model, X[i], 0, 'conv2d_2')\n",
    "    #fig.add_subplot(rows, columns, i)\n",
    "    #plt.imshow(cam0, cmap='jet')\n",
    "    #plt.title(f'Image {i} - class {0}')\n",
    "    \n",
    "    cam_n, heatmap_n = naive_cam(model, X[i], 0, 'conv2d_2')\n",
    "    fig.add_subplot(rows, columns, i)\n",
    "    plt.imshow(cam_n, cmap='jet')\n",
    "    plt.title(f'Image {i} - Raw Activation')\n",
    "    \n",
    "    predicted_class = np.argmax(predictions[0])\n",
    "    \n",
    "    cam1, heatmap1 = grad_cam(model, X[i], predicted_class, 'conv2d_2')\n",
    "    fig.add_subplot(rows, columns, i + 1)\n",
    "    plt.imshow(cam1, cmap='jet')\n",
    "    plt.title(f'Image {i} - Predicted class {predicted_class}')\n",
    "    \n",
    "plt.show()"
   ]
  },
  {
   "cell_type": "code",
   "execution_count": null,
   "metadata": {},
   "outputs": [],
   "source": []
  },
  {
   "cell_type": "code",
   "execution_count": null,
   "metadata": {},
   "outputs": [],
   "source": []
  }
 ],
 "metadata": {
  "anaconda-cloud": {},
  "kernelspec": {
   "display_name": "Python 3",
   "language": "python",
   "name": "python3"
  },
  "language_info": {
   "codemirror_mode": {
    "name": "ipython",
    "version": 3
   },
   "file_extension": ".py",
   "mimetype": "text/x-python",
   "name": "python",
   "nbconvert_exporter": "python",
   "pygments_lexer": "ipython3",
   "version": "3.7.4"
  }
 },
 "nbformat": 4,
 "nbformat_minor": 1
}
