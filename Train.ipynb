{
 "cells": [
  {
   "cell_type": "code",
   "execution_count": 75,
   "metadata": {},
   "outputs": [],
   "source": [
    "import pandas as pd\n",
    "import numpy as np\n",
    "from sklearn.model_selection import train_test_split\n",
    "from sklearn.metrics import accuracy_score, recall_score, precision_score\n",
    "import keras\n",
    "import matplotlib.pyplot as plt\n",
    "%matplotlib inline\n",
    "\n",
    "plt.style.use('ggplot')\n",
    "from IPython.core.display import display, HTML\n",
    "# display(HTML(\"<style>.container { width:100% !important; }</style>\"))\n",
    "plt.rcParams[\"figure.figsize\"] = (12,12)\n",
    "pd.options.display.max_columns = None\n",
    "pd.options.display.precision = 4"
   ]
  },
  {
   "cell_type": "markdown",
   "metadata": {},
   "source": [
    "## Brainwave Frequencies:\n",
    "Gamma, 30 to 50 Hz.  \n",
    "Beta, 14 to 30 Hz.  \n",
    "Alpha, 8 to 14 Hz.  \n",
    "Theta, 4 to 8 Hz.  \n",
    "Delta, 0.1 to 4 Hz.  "
   ]
  },
  {
   "cell_type": "markdown",
   "metadata": {},
   "source": [
    "## Changing Bin Size: \n",
    "https://stackoverflow.com/questions/25735153/plotting-a-fast-fourier-transform-in-python  \n",
    "(Search for 'bin')"
   ]
  },
  {
   "cell_type": "markdown",
   "metadata": {},
   "source": [
    "An EEG processing library:  \n",
    "https://github.com/pbashivan/EEGLearn"
   ]
  },
  {
   "cell_type": "code",
   "execution_count": 67,
   "metadata": {},
   "outputs": [],
   "source": [
    "%run utils.py"
   ]
  },
  {
   "cell_type": "code",
   "execution_count": 68,
   "metadata": {},
   "outputs": [],
   "source": [
    "%run models.py"
   ]
  },
  {
   "cell_type": "code",
   "execution_count": 69,
   "metadata": {},
   "outputs": [
    {
     "name": "stdout",
     "output_type": "stream",
     "text": [
      "Generating training data...\n",
      "CPU times: user 23.4 s, sys: 3.14 s, total: 26.5 sing 66/117Interpolating 106/117Interpolating 1/112Interpolating 29/112Interpolating 96/112Interpolating 1/111Interpolating 52/111Interpolating 99/111Interpolating 1/109Interpolating 53/109Interpolating 100/109Interpolating 1/113Interpolating 24/113Interpolating 71/113Interpolating 1/104Interpolating 54/104Interpolating 91/104Interpolating 1/101Interpolating 41/101Interpolating 92/101Interpolating 1/102Interpolating 46/102Interpolating 59/102Interpolating 95/102Interpolating 1/107Interpolating 26/107Interpolating 69/107Interpolating 1/113Interpolating 50/113Interpolating 1/115Interpolating 58/115Interpolating 110/115Interpolating 1/139Interpolating 58/139Interpolating 108/139Interpolating 1/123Interpolating 42/123Interpolating 83/123Interpolating 1/118Interpolating 58/118Interpolating 103/118Interpolating 1/120Interpolating 58/120Interpolating 111/120Interpolating 1/117Interpolating 56/117Interpolating 108/117\n",
      "Wall time: 28.4 s\n"
     ]
    }
   ],
   "source": [
    "%%time\n",
    "\n",
    "image_size = 28\n",
    "frame_duration = 1.0\n",
    "overlap = 0.5\n",
    "X, y = make_data_pipeline(file_names,labels,image_size,frame_duration,overlap)"
   ]
  },
  {
   "cell_type": "code",
   "execution_count": 70,
   "metadata": {},
   "outputs": [
    {
     "data": {
      "text/plain": [
       "((1821, 28, 28, 3), (1821,))"
      ]
     },
     "execution_count": 70,
     "metadata": {},
     "output_type": "execute_result"
    }
   ],
   "source": [
    "X.shape, y.shape"
   ]
  },
  {
   "cell_type": "code",
   "execution_count": 71,
   "metadata": {},
   "outputs": [
    {
     "name": "stderr",
     "output_type": "stream",
     "text": [
      "Clipping input data to the valid range for imshow with RGB data ([0..1] for floats or [0..255] for integers).\n"
     ]
    },
    {
     "data": {
      "text/plain": [
       "<matplotlib.image.AxesImage at 0x1a768a0410>"
      ]
     },
     "execution_count": 71,
     "metadata": {},
     "output_type": "execute_result"
    },
    {
     "data": {
      "image/png": "[encoded data removed]",
      "text/plain": [
       "<Figure size 864x864 with 1 Axes>"
      ]
     },
     "metadata": {},
     "output_type": "display_data"
    }
   ],
   "source": [
    "plt.imshow(X[3])"
   ]
  },
  {
   "cell_type": "code",
   "execution_count": 72,
   "metadata": {},
   "outputs": [],
   "source": [
    "x_train, x_test, y_train, y_test = train_test_split(X, y, test_size=0.20,shuffle=True)"
   ]
  },
  {
   "cell_type": "code",
   "execution_count": 73,
   "metadata": {},
   "outputs": [
    {
     "data": {
      "text/plain": [
       "(1456,)"
      ]
     },
     "execution_count": 73,
     "metadata": {},
     "output_type": "execute_result"
    }
   ],
   "source": [
    "y_train.shape"
   ]
  },
  {
   "cell_type": "code",
   "execution_count": 74,
   "metadata": {},
   "outputs": [
    {
     "name": "stdout",
     "output_type": "stream",
     "text": [
      "x_train shape: (1456, 28, 28, 3)\n",
      "1456 train samples\n",
      "365 test samples\n"
     ]
    }
   ],
   "source": [
    "# input image dimensions\n",
    "img_rows, img_cols = 28, 28\n",
    "\n",
    "x_train = x_train.astype('float32')\n",
    "x_test = x_test.astype('float32')\n",
    "#x_train /= 255\n",
    "#x_test /= 255\n",
    "print('x_train shape:', x_train.shape)\n",
    "print(x_train.shape[0], 'train samples')\n",
    "print(x_test.shape[0], 'test samples')\n",
    "\n",
    "input_shape = (img_rows, img_cols, 3)"
   ]
  },
  {
   "cell_type": "markdown",
   "metadata": {},
   "source": [
    "### Train Original Model"
   ]
  },
  {
   "cell_type": "code",
   "execution_count": 81,
   "metadata": {},
   "outputs": [],
   "source": [
    "batch_size = 32\n",
    "num_classes = 2\n",
    "epochs = 200\n",
    "\n",
    "# convert class vectors to binary class matrices\n",
    "y_train_cat = keras.utils.to_categorical(y_train, num_classes)\n",
    "y_test_cat = keras.utils.to_categorical(y_test, num_classes)\n",
    "\n",
    "\n",
    "model = get_func_model_1(input_shape, num_classes)\n",
    "# model = get_model_2(input_shape, num_classes)\n",
    "\n",
    "\n",
    "# initiate RMSprop optimizer\n",
    "opt = keras.optimizers.rmsprop(lr=0.0001, decay=1e-6)\n",
    "\n",
    "# Let's train the model using RMSprop\n",
    "model.compile(loss='categorical_crossentropy',\n",
    "              optimizer=opt,\n",
    "              metrics=['accuracy'])\n",
    "\n",
    "x_train = x_train.astype('float32')\n",
    "x_test = x_test.astype('float32')\n",
    "#x_train /= 255\n",
    "#x_test /= 255"
   ]
  },
  {
   "cell_type": "code",
   "execution_count": 84,
   "metadata": {},
   "outputs": [],
   "source": [
    "class CamCallback(tf.keras.callbacks.Callback):\n",
    "    \n",
    "    def __init__(self):\n",
    "        super().__init__()\n",
    "\n",
    "    def on_epoch_end(self, epoch, logs):\n",
    "        cam_n, heatmap_n = naive_cam(self.model, X)\n",
    "        y_pred = self.model.predict(X)\n",
    "        y_pred = np.argmax(y_pred, axis=1)\n",
    "        accuracy = accuracy_score(y, y_pred)\n",
    "        precision = precision_score(y, y_pred)\n",
    "        recall = recall_score(y, y_pred)\n",
    "        loss = logs['loss']\n",
    "        epochs_data.append({\n",
    "            'accuracy': accuracy,\n",
    "            'precision': precision,\n",
    "            'recall': recall,\n",
    "            'loss': loss,\n",
    "            'attention': heatmap_n.tolist()\n",
    "        })\n",
    "        print(f'Accuracy: {accuracy}, Precision: {precision}, Recall: {recall}, Loss: {loss}')\n",
    "        \n",
    "        \n",
    "epochs_data = []\n"
   ]
  },
  {
   "cell_type": "code",
   "execution_count": 85,
   "metadata": {},
   "outputs": [
    {
     "name": "stdout",
     "output_type": "stream",
     "text": [
      "Train on 1456 samples, validate on 365 samples\n",
      "Epoch 1/200\n",
      "1456/1456 [==============================] - 2s 2ms/step - loss: 0.6894 - acc: 0.5467 - val_loss: 0.6869 - val_acc: 0.5425\n",
      "Accuracy: 0.5584843492586491, Precision: 0.6011787819253438, Recall: 0.33737596471885334, Loss: 0.6894383129182753\n",
      "Epoch 2/200\n",
      "1456/1456 [==============================] - 2s 1ms/step - loss: 0.6826 - acc: 0.5536 - val_loss: 0.6917 - val_acc: 0.5397\n",
      "Accuracy: 0.5683690280065898, Precision: 0.5630865484880083, Recall: 0.5953693495038589, Loss: 0.6825929624693734\n",
      "Epoch 3/200\n",
      "1456/1456 [==============================] - 2s 1ms/step - loss: 0.6777 - acc: 0.5666 - val_loss: 0.6900 - val_acc: 0.5479\n",
      "Accuracy: 0.5963756177924218, Precision: 0.6197771587743732, Recall: 0.4906284454244763, Loss: 0.6777151770644135\n",
      "Epoch 4/200\n",
      "1456/1456 [==============================] - 2s 1ms/step - loss: 0.6669 - acc: 0.6085 - val_loss: 0.6913 - val_acc: 0.5562\n",
      "Accuracy: 0.6188907193849533, Precision: 0.5996258185219832, Recall: 0.7067254685777288, Loss: 0.66685224037904\n",
      "Epoch 5/200\n",
      "1456/1456 [==============================] - 2s 1ms/step - loss: 0.6596 - acc: 0.6277 - val_loss: 0.6916 - val_acc: 0.5616\n",
      "Accuracy: 0.6084568918176826, Precision: 0.6763636363636364, Recall: 0.4101433296582139, Loss: 0.6596126949394142\n",
      "Epoch 6/200\n",
      "1456/1456 [==============================] - 2s 1ms/step - loss: 0.6511 - acc: 0.6305 - val_loss: 0.6897 - val_acc: 0.5562\n",
      "Accuracy: 0.629873695771554, Precision: 0.6264929424538545, Recall: 0.6361631753031973, Loss: 0.6511250773628989\n",
      "Epoch 7/200\n",
      "1456/1456 [==============================] - 2s 2ms/step - loss: 0.6465 - acc: 0.6353 - val_loss: 0.6971 - val_acc: 0.5507\n",
      "Accuracy: 0.6408566721581549, Precision: 0.6493506493506493, Recall: 0.6063947078280044, Loss: 0.6464647074322124\n",
      "Epoch 8/200\n",
      "1456/1456 [==============================] - 2s 2ms/step - loss: 0.6371 - acc: 0.6525 - val_loss: 0.6936 - val_acc: 0.5753\n",
      "Accuracy: 0.6556836902800659, Precision: 0.6279707495429616, Recall: 0.7574421168687983, Loss: 0.6370632759817354\n",
      "Epoch 9/200\n",
      "1456/1456 [==============================] - 2s 1ms/step - loss: 0.6322 - acc: 0.6710 - val_loss: 0.6972 - val_acc: 0.5753\n",
      "Accuracy: 0.6320702910488742, Precision: 0.5874538745387454, Recall: 0.8776185226019846, Loss: 0.6322343821053976\n",
      "Epoch 10/200\n",
      "1456/1456 [==============================] - 4s 2ms/step - loss: 0.6265 - acc: 0.6593 - val_loss: 0.6840 - val_acc: 0.5890\n",
      "Accuracy: 0.6666666666666666, Precision: 0.6442307692307693, Recall: 0.7386990077177509, Loss: 0.6265107904161725\n",
      "Epoch 11/200\n",
      "1456/1456 [==============================] - 2s 2ms/step - loss: 0.6238 - acc: 0.6710 - val_loss: 0.6812 - val_acc: 0.5890\n",
      "Accuracy: 0.6738056013179572, Precision: 0.6588832487309645, Recall: 0.7155457552370452, Loss: 0.6238300001228249\n",
      "Epoch 12/200\n",
      "1456/1456 [==============================] - 2s 1ms/step - loss: 0.6144 - acc: 0.6765 - val_loss: 0.6842 - val_acc: 0.5945\n",
      "Accuracy: 0.6749038989566173, Precision: 0.6377952755905512, Recall: 0.8037486218302095, Loss: 0.6144049757129544\n",
      "Epoch 13/200\n",
      "1456/1456 [==============================] - 2s 2ms/step - loss: 0.6142 - acc: 0.6758 - val_loss: 0.6756 - val_acc: 0.6000\n",
      "Accuracy: 0.6875343218012081, Precision: 0.6724489795918367, Recall: 0.7265711135611908, Loss: 0.6141599351233178\n",
      "Epoch 14/200\n",
      "1456/1456 [==============================] - 3s 2ms/step - loss: 0.6064 - acc: 0.6944 - val_loss: 0.6772 - val_acc: 0.5781\n",
      "Accuracy: 0.6831411312465678, Precision: 0.6833333333333333, Recall: 0.6780595369349504, Loss: 0.6063530759497003\n",
      "Epoch 15/200\n",
      "1456/1456 [==============================] - 3s 2ms/step - loss: 0.6034 - acc: 0.6868 - val_loss: 0.6754 - val_acc: 0.6192\n",
      "Accuracy: 0.6908292147171884, Precision: 0.6546762589928058, Recall: 0.802646085997795, Loss: 0.6033663481146425\n",
      "Epoch 16/200\n",
      "1456/1456 [==============================] - 2s 2ms/step - loss: 0.5981 - acc: 0.6944 - val_loss: 0.6755 - val_acc: 0.6082\n",
      "Accuracy: 0.6919275123558485, Precision: 0.648881239242685, Recall: 0.8313120176405733, Loss: 0.5980942236198173\n",
      "Epoch 17/200\n",
      "1456/1456 [==============================] - 2s 1ms/step - loss: 0.5926 - acc: 0.7019 - val_loss: 0.6808 - val_acc: 0.5945\n",
      "Accuracy: 0.6946732564524987, Precision: 0.6885069817400644, Recall: 0.7067254685777288, Loss: 0.5926232265902089\n",
      "Epoch 18/200\n",
      "1456/1456 [==============================] - 2s 1ms/step - loss: 0.5853 - acc: 0.7143 - val_loss: 0.6781 - val_acc: 0.6055\n",
      "Accuracy: 0.6957715540911587, Precision: 0.6795523906408952, Recall: 0.7364939360529217, Loss: 0.5852897861501672\n",
      "Epoch 19/200\n",
      "1456/1456 [==============================] - 2s 1ms/step - loss: 0.5813 - acc: 0.7150 - val_loss: 0.6683 - val_acc: 0.6082\n",
      "Accuracy: 0.6990664470071389, Precision: 0.6860103626943005, Recall: 0.7298787210584344, Loss: 0.5813320239821633\n",
      "Epoch 20/200\n",
      "1456/1456 [==============================] - 2s 1ms/step - loss: 0.5770 - acc: 0.7212 - val_loss: 0.6777 - val_acc: 0.6055\n",
      "Accuracy: 0.6996155958264689, Precision: 0.6691729323308271, Recall: 0.7850055126791621, Loss: 0.5769878835468502\n",
      "Epoch 21/200\n",
      "1456/1456 [==============================] - 2s 1ms/step - loss: 0.5738 - acc: 0.7129 - val_loss: 0.6789 - val_acc: 0.6137\n",
      "Accuracy: 0.7023613399231191, Precision: 0.7581329561527581, Recall: 0.5909592061742006, Loss: 0.5737532324843354\n",
      "Epoch 22/200\n",
      "1456/1456 [==============================] - 2s 1ms/step - loss: 0.5672 - acc: 0.7198 - val_loss: 0.6767 - val_acc: 0.6137\n",
      "Accuracy: 0.7073036792970895, Precision: 0.6847826086956522, Recall: 0.7640573318632855, Loss: 0.5672496806134234\n",
      "Epoch 23/200\n",
      "1456/1456 [==============================] - 3s 2ms/step - loss: 0.5620 - acc: 0.7280 - val_loss: 0.6718 - val_acc: 0.6219\n",
      "Accuracy: 0.7062053816584294, Precision: 0.6758034026465028, Recall: 0.7883131201764058, Loss: 0.5620443316606375\n",
      "Epoch 24/200\n",
      "1456/1456 [==============================] - 2s 1ms/step - loss: 0.5587 - acc: 0.7232 - val_loss: 0.6770 - val_acc: 0.6055\n",
      "Accuracy: 0.71334431630972, Precision: 0.7699859747545582, Recall: 0.6052921719955898, Loss: 0.5587086232153924\n",
      "Epoch 25/200\n",
      "1456/1456 [==============================] - 2s 2ms/step - loss: 0.5563 - acc: 0.7301 - val_loss: 0.6698 - val_acc: 0.6329\n",
      "Accuracy: 0.7193849533223503, Precision: 0.6976047904191617, Recall: 0.7706725468577729, Loss: 0.5562694321621905\n",
      "Epoch 26/200\n",
      "1456/1456 [==============================] - 2s 2ms/step - loss: 0.5494 - acc: 0.7328 - val_loss: 0.6570 - val_acc: 0.6356\n",
      "Accuracy: 0.7331136738056013, Precision: 0.7128412537917088, Recall: 0.7772877618522602, Loss: 0.549449541411557\n",
      "Epoch 27/200\n",
      "1456/1456 [==============================] - 2s 1ms/step - loss: 0.5455 - acc: 0.7376 - val_loss: 0.6722 - val_acc: 0.6548\n",
      "Accuracy: 0.7303679297089511, Precision: 0.7063492063492064, Recall: 0.7850055126791621, Loss: 0.545529360299582\n",
      "Epoch 28/200\n",
      "1456/1456 [==============================] - 3s 2ms/step - loss: 0.5394 - acc: 0.7363 - val_loss: 0.6993 - val_acc: 0.6055\n",
      "Accuracy: 0.6842394288852279, Precision: 0.6236959761549925, Recall: 0.9228224917309813, Loss: 0.5394388319371821\n",
      "Epoch 29/200\n",
      "1456/1456 [==============================] - 4s 3ms/step - loss: 0.5407 - acc: 0.7370 - val_loss: 0.6740 - val_acc: 0.6356\n",
      "Accuracy: 0.7265238879736409, Precision: 0.7084607543323139, Recall: 0.7662624035281147, Loss: 0.5406799270556524\n",
      "Epoch 30/200\n",
      "1456/1456 [==============================] - 3s 2ms/step - loss: 0.5337 - acc: 0.7424 - val_loss: 0.6601 - val_acc: 0.6466\n",
      "Accuracy: 0.7386051619989017, Precision: 0.7228541882109617, Recall: 0.7706725468577729, Loss: 0.5336851366273649\n",
      "Epoch 31/200\n",
      "1456/1456 [==============================] - 3s 2ms/step - loss: 0.5301 - acc: 0.7486 - val_loss: 0.6717 - val_acc: 0.6438\n",
      "Accuracy: 0.729818780889621, Precision: 0.6787252368647717, Recall: 0.8687982359426681, Loss: 0.5301007467966813\n",
      "Epoch 32/200\n",
      "1456/1456 [==============================] - 3s 2ms/step - loss: 0.5247 - acc: 0.7479 - val_loss: 0.6590 - val_acc: 0.6438\n",
      "Accuracy: 0.7347611202635914, Precision: 0.6856392294220666, Recall: 0.8632855567805954, Loss: 0.524725385419615\n",
      "Epoch 33/200\n",
      "1456/1456 [==============================] - 3s 2ms/step - loss: 0.5219 - acc: 0.7548 - val_loss: 0.6681 - val_acc: 0.6521\n",
      "Accuracy: 0.7336628226249313, Precision: 0.6818965517241379, Recall: 0.8721058434399118, Loss: 0.5218736810998602\n",
      "Epoch 34/200\n"
     ]
    },
    {
     "name": "stdout",
     "output_type": "stream",
     "text": [
      "1456/1456 [==============================] - 2s 1ms/step - loss: 0.5211 - acc: 0.7548 - val_loss: 0.6580 - val_acc: 0.6466\n",
      "Accuracy: 0.7446457990115322, Precision: 0.7012750455373407, Recall: 0.8489525909592062, Loss: 0.5210553859616374\n",
      "Epoch 35/200\n",
      "1456/1456 [==============================] - 2s 1ms/step - loss: 0.5124 - acc: 0.7617 - val_loss: 0.6587 - val_acc: 0.6575\n",
      "Accuracy: 0.7495881383855024, Precision: 0.7149666348903718, Recall: 0.8269018743109151, Loss: 0.512360760143825\n",
      "Epoch 36/200\n",
      "1456/1456 [==============================] - 2s 1ms/step - loss: 0.5073 - acc: 0.7569 - val_loss: 0.6851 - val_acc: 0.6274\n",
      "Accuracy: 0.729818780889621, Precision: 0.8139183055975794, Recall: 0.5931642778390298, Loss: 0.5072563932492182\n",
      "Epoch 37/200\n",
      "1456/1456 [==============================] - 2s 1ms/step - loss: 0.5032 - acc: 0.7768 - val_loss: 0.6609 - val_acc: 0.6685\n",
      "Accuracy: 0.7556287753981329, Precision: 0.7204198473282443, Recall: 0.8324145534729879, Loss: 0.5032031116904793\n",
      "Epoch 38/200\n",
      "1456/1456 [==============================] - 2s 1ms/step - loss: 0.5026 - acc: 0.7754 - val_loss: 0.6869 - val_acc: 0.6219\n",
      "Accuracy: 0.7199341021416804, Precision: 0.6584197924980048, Recall: 0.9095920617420066, Loss: 0.5026152933036888\n",
      "Epoch 39/200\n",
      "1456/1456 [==============================] - 2s 1ms/step - loss: 0.5018 - acc: 0.7658 - val_loss: 0.6562 - val_acc: 0.6548\n",
      "Accuracy: 0.7611202635914333, Precision: 0.7864077669902912, Recall: 0.7144432194046306, Loss: 0.5017959816115243\n",
      "Epoch 40/200\n",
      "1456/1456 [==============================] - 2s 1ms/step - loss: 0.4912 - acc: 0.7740 - val_loss: 0.6705 - val_acc: 0.6301\n",
      "Accuracy: 0.7314662273476112, Precision: 0.6750418760469011, Recall: 0.8886438809261301, Loss: 0.4912264098177899\n",
      "Epoch 41/200\n",
      "1456/1456 [==============================] - 2s 2ms/step - loss: 0.4947 - acc: 0.7706 - val_loss: 0.6768 - val_acc: 0.6630\n",
      "Accuracy: 0.7556287753981329, Precision: 0.8055555555555556, Recall: 0.6714443219404631, Loss: 0.4947158543618171\n",
      "Epoch 42/200\n",
      "1456/1456 [==============================] - 2s 1ms/step - loss: 0.4873 - acc: 0.7768 - val_loss: 0.6801 - val_acc: 0.6438\n",
      "Accuracy: 0.7517847336628226, Precision: 0.7997364953886693, Recall: 0.6692392502756339, Loss: 0.4872520664236048\n",
      "Epoch 43/200\n",
      "1456/1456 [==============================] - 2s 1ms/step - loss: 0.4786 - acc: 0.7891 - val_loss: 0.6872 - val_acc: 0.6521\n",
      "Accuracy: 0.742449203734212, Precision: 0.8239644970414202, Recall: 0.6141124586549063, Loss: 0.47855846894966375\n",
      "Epoch 44/200\n",
      "1456/1456 [==============================] - 2s 1ms/step - loss: 0.4781 - acc: 0.7891 - val_loss: 0.6853 - val_acc: 0.6712\n",
      "Accuracy: 0.7605711147721033, Precision: 0.8152610441767069, Recall: 0.6714443219404631, Loss: 0.4780940456049783\n",
      "Epoch 45/200\n",
      "1456/1456 [==============================] - 2s 1ms/step - loss: 0.4845 - acc: 0.7775 - val_loss: 0.6564 - val_acc: 0.6767\n",
      "Accuracy: 0.7797913234486545, Precision: 0.7774122807017544, Recall: 0.7816979051819184, Loss: 0.48454443439022526\n",
      "Epoch 46/200\n",
      "1456/1456 [==============================] - 2s 1ms/step - loss: 0.4745 - acc: 0.7837 - val_loss: 0.6567 - val_acc: 0.6603\n",
      "Accuracy: 0.7748489840746843, Precision: 0.7457962413452027, Recall: 0.8313120176405733, Loss: 0.47452220680949453\n",
      "Epoch 47/200\n",
      "1456/1456 [==============================] - 2s 1ms/step - loss: 0.4702 - acc: 0.7837 - val_loss: 0.6587 - val_acc: 0.6685\n",
      "Accuracy: 0.7633168588687534, Precision: 0.8090909090909091, Recall: 0.6868798235942668, Loss: 0.4701815801007407\n",
      "Epoch 48/200\n",
      "1456/1456 [==============================] - 2s 1ms/step - loss: 0.4665 - acc: 0.7885 - val_loss: 0.6544 - val_acc: 0.6767\n",
      "Accuracy: 0.7847336628226249, Precision: 0.7497575169738119, Recall: 0.8522601984564498, Loss: 0.4665162072076902\n",
      "Epoch 49/200\n",
      "1456/1456 [==============================] - 2s 1ms/step - loss: 0.4591 - acc: 0.8036 - val_loss: 0.6565 - val_acc: 0.6712\n",
      "Accuracy: 0.7748489840746843, Precision: 0.7983193277310925, Recall: 0.7331863285556781, Loss: 0.4590911812834687\n",
      "Epoch 50/200\n",
      "1456/1456 [==============================] - 2s 1ms/step - loss: 0.4569 - acc: 0.8022 - val_loss: 0.7718 - val_acc: 0.6247\n",
      "Accuracy: 0.6974190005491488, Precision: 0.8938053097345132, Recall: 0.4454244762954796, Loss: 0.4568594661387768\n",
      "Epoch 51/200\n",
      "1456/1456 [==============================] - 2s 1ms/step - loss: 0.4562 - acc: 0.8091 - val_loss: 0.6558 - val_acc: 0.6603\n",
      "Accuracy: 0.7616694124107634, Precision: 0.7005937234944869, Recall: 0.9106945975744212, Loss: 0.45620390936568544\n",
      "Epoch 52/200\n",
      "1456/1456 [==============================] - 2s 1ms/step - loss: 0.4555 - acc: 0.7946 - val_loss: 0.6618 - val_acc: 0.6603\n",
      "Accuracy: 0.7775947281713345, Precision: 0.8046116504854369, Recall: 0.7309812568908489, Loss: 0.4555411296231406\n",
      "Epoch 53/200\n",
      "1456/1456 [==============================] - 2s 2ms/step - loss: 0.4461 - acc: 0.7995 - val_loss: 0.6568 - val_acc: 0.6822\n",
      "Accuracy: 0.7841845140032949, Precision: 0.7392923649906891, Recall: 0.8754134509371555, Loss: 0.44608683311022246\n",
      "Epoch 54/200\n",
      "1456/1456 [==============================] - 4s 2ms/step - loss: 0.4444 - acc: 0.7953 - val_loss: 0.6502 - val_acc: 0.6740\n",
      "Accuracy: 0.7874794069192751, Precision: 0.8044496487119438, Recall: 0.7574421168687983, Loss: 0.4444295475771139\n",
      "Epoch 55/200\n",
      "1456/1456 [==============================] - 2s 1ms/step - loss: 0.4463 - acc: 0.7974 - val_loss: 0.6455 - val_acc: 0.6658\n",
      "Accuracy: 0.7726523887973641, Precision: 0.7167985927880387, Recall: 0.898566703417861, Loss: 0.44631664209313443\n",
      "Epoch 56/200\n",
      "1456/1456 [==============================] - 2s 2ms/step - loss: 0.4424 - acc: 0.8043 - val_loss: 0.6828 - val_acc: 0.6466\n",
      "Accuracy: 0.771554091158704, Precision: 0.8637037037037038, Recall: 0.6427783902976847, Loss: 0.4423985376462832\n",
      "Epoch 57/200\n",
      "1456/1456 [==============================] - 2s 1ms/step - loss: 0.4419 - acc: 0.8036 - val_loss: 0.7184 - val_acc: 0.6493\n",
      "Accuracy: 0.7506864360241625, Precision: 0.8793969849246231, Recall: 0.5788313120176406, Loss: 0.4418580718747862\n",
      "Epoch 58/200\n",
      "1456/1456 [==============================] - 2s 1ms/step - loss: 0.4351 - acc: 0.8098 - val_loss: 0.6517 - val_acc: 0.6685\n",
      "Accuracy: 0.7935200439319056, Precision: 0.8076477404403245, Recall: 0.7684674751929438, Loss: 0.43506903111279666\n",
      "Epoch 59/200\n",
      "1456/1456 [==============================] - 2s 1ms/step - loss: 0.4274 - acc: 0.8091 - val_loss: 0.6589 - val_acc: 0.6548\n",
      "Accuracy: 0.7753981328940143, Precision: 0.7219251336898396, Recall: 0.8930540242557883, Loss: 0.4273730129986019\n",
      "Epoch 60/200\n",
      "1456/1456 [==============================] - 2s 1ms/step - loss: 0.4367 - acc: 0.8043 - val_loss: 0.6524 - val_acc: 0.6603\n",
      "Accuracy: 0.7962657880285557, Precision: 0.8175355450236966, Recall: 0.7607497243660419, Loss: 0.4367080265349084\n",
      "Epoch 61/200\n",
      "1456/1456 [==============================] - 2s 2ms/step - loss: 0.4258 - acc: 0.8194 - val_loss: 0.6503 - val_acc: 0.6795\n",
      "Accuracy: 0.8034047226798462, Precision: 0.8087739032620922, Recall: 0.7927232635060639, Loss: 0.42581277037714865\n",
      "Epoch 62/200\n",
      "1456/1456 [==============================] - 2s 1ms/step - loss: 0.4204 - acc: 0.8159 - val_loss: 0.6498 - val_acc: 0.6849\n",
      "Accuracy: 0.8023064250411862, Precision: 0.8042269187986651, Recall: 0.7971334068357222, Loss: 0.4203803329677372\n",
      "Epoch 63/200\n",
      "1456/1456 [==============================] - 2s 1ms/step - loss: 0.4153 - acc: 0.8228 - val_loss: 0.6398 - val_acc: 0.6685\n",
      "Accuracy: 0.7918725974739155, Precision: 0.753358925143954, Recall: 0.8654906284454245, Loss: 0.41531548035013804\n",
      "Epoch 64/200\n",
      "1456/1456 [==============================] - 2s 1ms/step - loss: 0.4215 - acc: 0.8180 - val_loss: 0.6418 - val_acc: 0.6822\n",
      "Accuracy: 0.8088962108731467, Precision: 0.795142555438226, Recall: 0.8302094818081588, Loss: 0.42145054549961297\n",
      "Epoch 65/200\n",
      "1456/1456 [==============================] - 2s 1ms/step - loss: 0.4149 - acc: 0.8235 - val_loss: 0.6427 - val_acc: 0.6630\n",
      "Accuracy: 0.7929708951125755, Precision: 0.7417883211678832, Recall: 0.896361631753032, Loss: 0.41492457900728497\n",
      "Epoch 66/200\n",
      "1456/1456 [==============================] - 2s 1ms/step - loss: 0.4111 - acc: 0.8317 - val_loss: 0.6463 - val_acc: 0.6712\n",
      "Accuracy: 0.7913234486545854, Precision: 0.7371737173717372, Recall: 0.9029768467475193, Loss: 0.41109127559504666\n",
      "Epoch 67/200\n"
     ]
    },
    {
     "name": "stdout",
     "output_type": "stream",
     "text": [
      "1456/1456 [==============================] - 2s 1ms/step - loss: 0.4136 - acc: 0.8242 - val_loss: 0.6362 - val_acc: 0.6877\n",
      "Accuracy: 0.8176825919824272, Precision: 0.8176795580110497, Recall: 0.8158765159867696, Loss: 0.4135820053435944\n",
      "Epoch 68/200\n",
      "1456/1456 [==============================] - 4s 3ms/step - loss: 0.4049 - acc: 0.8262 - val_loss: 0.6473 - val_acc: 0.6904\n",
      "Accuracy: 0.8132894014277869, Precision: 0.7968586387434555, Recall: 0.8390297684674752, Loss: 0.4048833309949099\n",
      "Epoch 69/200\n",
      "1456/1456 [==============================] - 2s 1ms/step - loss: 0.4048 - acc: 0.8372 - val_loss: 0.6439 - val_acc: 0.6712\n",
      "Accuracy: 0.7902251510159253, Precision: 0.7354260089686099, Recall: 0.9040793825799338, Loss: 0.40476426809698673\n",
      "Epoch 70/200\n",
      "1456/1456 [==============================] - 3s 2ms/step - loss: 0.4012 - acc: 0.8283 - val_loss: 0.6422 - val_acc: 0.6849\n",
      "Accuracy: 0.8099945085118067, Precision: 0.7694524495677233, Recall: 0.8831312017640573, Loss: 0.40115221254118194\n",
      "Epoch 71/200\n",
      "1456/1456 [==============================] - 2s 1ms/step - loss: 0.3975 - acc: 0.8310 - val_loss: 0.6482 - val_acc: 0.6685\n",
      "Accuracy: 0.7962657880285557, Precision: 0.7414414414414414, Recall: 0.9073869900771775, Loss: 0.3975390104147104\n",
      "Epoch 72/200\n",
      "1456/1456 [==============================] - 2s 1ms/step - loss: 0.3955 - acc: 0.8462 - val_loss: 0.6357 - val_acc: 0.6740\n",
      "Accuracy: 0.8165842943437671, Precision: 0.790273556231003, Recall: 0.8599779492833517, Loss: 0.3955173331957597\n",
      "Epoch 73/200\n",
      "1456/1456 [==============================] - 2s 1ms/step - loss: 0.3945 - acc: 0.8310 - val_loss: 0.6599 - val_acc: 0.6685\n",
      "Accuracy: 0.8028555738605162, Precision: 0.7729083665338645, Recall: 0.8555678059536935, Loss: 0.3945258675695776\n",
      "Epoch 74/200\n",
      "1456/1456 [==============================] - 2s 1ms/step - loss: 0.3931 - acc: 0.8345 - val_loss: 0.7071 - val_acc: 0.6630\n",
      "Accuracy: 0.7759472817133443, Precision: 0.8820826952526799, Recall: 0.6350606394707828, Loss: 0.3930830873630859\n",
      "Epoch 75/200\n",
      "1456/1456 [==============================] - 2s 1ms/step - loss: 0.3858 - acc: 0.8434 - val_loss: 0.6722 - val_acc: 0.6685\n",
      "Accuracy: 0.7957166392092258, Precision: 0.7394807520143241, Recall: 0.9106945975744212, Loss: 0.3858269505448394\n",
      "Epoch 76/200\n",
      "1456/1456 [==============================] - 2s 1ms/step - loss: 0.3777 - acc: 0.8475 - val_loss: 0.6450 - val_acc: 0.6849\n",
      "Accuracy: 0.8204283360790774, Precision: 0.7810077519379846, Recall: 0.8886438809261301, Loss: 0.37765852828602214\n",
      "Epoch 77/200\n",
      "1456/1456 [==============================] - 2s 2ms/step - loss: 0.3865 - acc: 0.8338 - val_loss: 0.6660 - val_acc: 0.6603\n",
      "Accuracy: 0.8066996155958265, Precision: 0.8562259306803595, Recall: 0.7353914002205072, Loss: 0.3865046147461776\n",
      "Epoch 78/200\n",
      "1456/1456 [==============================] - 2s 1ms/step - loss: 0.3827 - acc: 0.8407 - val_loss: 0.6474 - val_acc: 0.6877\n",
      "Accuracy: 0.8220757825370676, Precision: 0.8425381903642774, Recall: 0.7905181918412348, Loss: 0.382697201692141\n",
      "Epoch 79/200\n",
      "1456/1456 [==============================] - 2s 1ms/step - loss: 0.3731 - acc: 0.8455 - val_loss: 0.6644 - val_acc: 0.6822\n",
      "Accuracy: 0.8193300384404174, Precision: 0.8189845474613686, Recall: 0.8180815876515987, Loss: 0.37313678009169443\n",
      "Epoch 80/200\n",
      "1456/1456 [==============================] - 2s 1ms/step - loss: 0.3755 - acc: 0.8413 - val_loss: 0.6477 - val_acc: 0.6849\n",
      "Accuracy: 0.8187808896210873, Precision: 0.7776708373435997, Recall: 0.8908489525909592, Loss: 0.3754553225014236\n",
      "Epoch 81/200\n",
      "1456/1456 [==============================] - 2s 1ms/step - loss: 0.3732 - acc: 0.8475 - val_loss: 0.6473 - val_acc: 0.6986\n",
      "Accuracy: 0.8341570565623284, Precision: 0.8214665249734325, Recall: 0.8522601984564498, Loss: 0.37321849773218346\n",
      "Epoch 82/200\n",
      "1456/1456 [==============================] - 2s 1ms/step - loss: 0.3734 - acc: 0.8482 - val_loss: 0.6517 - val_acc: 0.6740\n",
      "Accuracy: 0.8182317408017573, Precision: 0.7774566473988439, Recall: 0.8897464167585446, Loss: 0.3734428312752273\n",
      "Epoch 83/200\n",
      "1456/1456 [==============================] - 2s 1ms/step - loss: 0.3777 - acc: 0.8420 - val_loss: 0.6849 - val_acc: 0.6658\n",
      "Accuracy: 0.8012081274025261, Precision: 0.8821879382889201, Recall: 0.6934950385887542, Loss: 0.37773690020645057\n",
      "Epoch 84/200\n",
      "1456/1456 [==============================] - 2s 1ms/step - loss: 0.3623 - acc: 0.8441 - val_loss: 0.6553 - val_acc: 0.6822\n",
      "Accuracy: 0.8264689730917079, Precision: 0.823658269441402, Recall: 0.8291069459757442, Loss: 0.36232496388665925\n",
      "Epoch 85/200\n",
      "1456/1456 [==============================] - 2s 2ms/step - loss: 0.3610 - acc: 0.8510 - val_loss: 0.6574 - val_acc: 0.6932\n",
      "Accuracy: 0.8358045030203185, Precision: 0.8146997929606625, Recall: 0.8676957001102535, Loss: 0.360959183383774\n",
      "Epoch 86/200\n",
      "1456/1456 [==============================] - 2s 2ms/step - loss: 0.3578 - acc: 0.8462 - val_loss: 0.6774 - val_acc: 0.6685\n",
      "Accuracy: 0.8017572762218561, Precision: 0.7378048780487805, Recall: 0.9338478500551268, Loss: 0.3578367423225235\n",
      "Epoch 87/200\n",
      "1456/1456 [==============================] - 2s 1ms/step - loss: 0.3552 - acc: 0.8578 - val_loss: 0.6981 - val_acc: 0.6712\n",
      "Accuracy: 0.8132894014277869, Precision: 0.8805369127516779, Recall: 0.7232635060639471, Loss: 0.35521648807840034\n",
      "Epoch 88/200\n",
      "1456/1456 [==============================] - 2s 1ms/step - loss: 0.3596 - acc: 0.8551 - val_loss: 0.7099 - val_acc: 0.6630\n",
      "Accuracy: 0.800658978583196, Precision: 0.8953488372093024, Recall: 0.679162072767365, Loss: 0.3596405698047889\n",
      "Epoch 89/200\n",
      "1456/1456 [==============================] - 2s 1ms/step - loss: 0.3498 - acc: 0.8530 - val_loss: 0.6608 - val_acc: 0.6932\n",
      "Accuracy: 0.8215266337177375, Precision: 0.768450184501845, Recall: 0.918412348401323, Loss: 0.3497931413598113\n",
      "Epoch 90/200\n",
      "1456/1456 [==============================] - 2s 1ms/step - loss: 0.3505 - acc: 0.8523 - val_loss: 0.6497 - val_acc: 0.6849\n",
      "Accuracy: 0.8407468423942889, Precision: 0.8157625383828045, Recall: 0.8787210584343991, Loss: 0.350457978445095\n",
      "Epoch 91/200\n",
      "1456/1456 [==============================] - 2s 1ms/step - loss: 0.3448 - acc: 0.8626 - val_loss: 0.6710 - val_acc: 0.6795\n",
      "Accuracy: 0.8264689730917079, Precision: 0.8862745098039215, Recall: 0.7475192943770672, Loss: 0.34481721494224044\n",
      "Epoch 92/200\n",
      "1456/1456 [==============================] - 2s 1ms/step - loss: 0.3446 - acc: 0.8592 - val_loss: 0.6569 - val_acc: 0.6877\n",
      "Accuracy: 0.8467874794069192, Precision: 0.8427947598253275, Recall: 0.8511576626240352, Loss: 0.34463441699415776\n",
      "Epoch 93/200\n",
      "1456/1456 [==============================] - 3s 2ms/step - loss: 0.3420 - acc: 0.8640 - val_loss: 0.7858 - val_acc: 0.6658\n",
      "Accuracy: 0.7655134541460736, Precision: 0.925531914893617, Recall: 0.5755237045203969, Loss: 0.34201128486093585\n",
      "Epoch 94/200\n",
      "1456/1456 [==============================] - 2s 2ms/step - loss: 0.3362 - acc: 0.8558 - val_loss: 0.6619 - val_acc: 0.6959\n",
      "Accuracy: 0.842394288852279, Precision: 0.8734939759036144, Recall: 0.7993384785005513, Loss: 0.33616640345080867\n",
      "Epoch 95/200\n",
      "1456/1456 [==============================] - 2s 1ms/step - loss: 0.3385 - acc: 0.8592 - val_loss: 0.7134 - val_acc: 0.6603\n",
      "Accuracy: 0.8099945085118067, Precision: 0.8945147679324894, Recall: 0.701212789415656, Loss: 0.3384804529148144\n",
      "Epoch 96/200\n",
      "1456/1456 [==============================] - 2s 2ms/step - loss: 0.3345 - acc: 0.8640 - val_loss: 0.6573 - val_acc: 0.6959\n",
      "Accuracy: 0.8555738605161999, Precision: 0.8617977528089887, Recall: 0.8456449834619625, Loss: 0.3345168665215209\n",
      "Epoch 97/200\n",
      "1456/1456 [==============================] - 2s 1ms/step - loss: 0.3302 - acc: 0.8729 - val_loss: 0.6689 - val_acc: 0.6959\n",
      "Accuracy: 0.8456891817682592, Precision: 0.8854679802955665, Recall: 0.7927232635060639, Loss: 0.330207279422781\n",
      "Epoch 98/200\n",
      "1456/1456 [==============================] - 2s 1ms/step - loss: 0.3331 - acc: 0.8668 - val_loss: 0.6486 - val_acc: 0.6849\n",
      "Accuracy: 0.8445908841295992, Precision: 0.8183673469387756, Recall: 0.8842337375964718, Loss: 0.3330872776089134\n",
      "Epoch 99/200\n",
      "1456/1456 [==============================] - 2s 1ms/step - loss: 0.3279 - acc: 0.8777 - val_loss: 0.6814 - val_acc: 0.6877\n",
      "Accuracy: 0.8467874794069192, Precision: 0.8204081632653061, Recall: 0.886438809261301, Loss: 0.3279332718351385\n",
      "Epoch 100/200\n"
     ]
    },
    {
     "name": "stdout",
     "output_type": "stream",
     "text": [
      "1456/1456 [==============================] - 2s 1ms/step - loss: 0.3260 - acc: 0.8819 - val_loss: 0.6784 - val_acc: 0.6932\n",
      "Accuracy: 0.8336079077429983, Precision: 0.7785977859778598, Recall: 0.9305402425578831, Loss: 0.32601562993867056\n",
      "Epoch 101/200\n",
      "1456/1456 [==============================] - 2s 1ms/step - loss: 0.3261 - acc: 0.8668 - val_loss: 0.6711 - val_acc: 0.6795\n",
      "Accuracy: 0.8484349258649094, Precision: 0.8760429082240763, Recall: 0.8103638368246968, Loss: 0.32609827669112235\n",
      "Epoch 102/200\n",
      "1456/1456 [==============================] - 3s 2ms/step - loss: 0.3169 - acc: 0.8777 - val_loss: 0.6868 - val_acc: 0.6685\n",
      "Accuracy: 0.8358045030203185, Precision: 0.8680387409200968, Recall: 0.7905181918412348, Loss: 0.3169465657773909\n",
      "Epoch 103/200\n",
      "1456/1456 [==============================] - 2s 2ms/step - loss: 0.3245 - acc: 0.8805 - val_loss: 0.6917 - val_acc: 0.6822\n",
      "Accuracy: 0.8385502471169687, Precision: 0.8037661050545094, Recall: 0.8941565600882029, Loss: 0.3245068682091577\n",
      "Epoch 104/200\n",
      "1456/1456 [==============================] - 2s 1ms/step - loss: 0.3222 - acc: 0.8709 - val_loss: 0.7101 - val_acc: 0.6795\n",
      "Accuracy: 0.800109829763866, Precision: 0.7318531169940222, Recall: 0.9448732083792724, Loss: 0.32220718886826066\n",
      "Epoch 105/200\n",
      "1456/1456 [==============================] - 2s 1ms/step - loss: 0.3173 - acc: 0.8729 - val_loss: 0.6758 - val_acc: 0.6932\n",
      "Accuracy: 0.844041735310269, Precision: 0.7998075072184793, Recall: 0.9162072767364939, Loss: 0.3173317837191152\n",
      "Epoch 106/200\n",
      "1456/1456 [==============================] - 2s 2ms/step - loss: 0.3120 - acc: 0.8819 - val_loss: 0.6694 - val_acc: 0.6877\n",
      "Accuracy: 0.85722130697419, Precision: 0.8445154419595314, Recall: 0.8743109151047409, Loss: 0.3119883278569022\n",
      "Epoch 107/200\n",
      "1456/1456 [==============================] - 2s 2ms/step - loss: 0.3068 - acc: 0.8819 - val_loss: 0.6953 - val_acc: 0.6849\n",
      "Accuracy: 0.8445908841295992, Precision: 0.8851851851851852, Recall: 0.7905181918412348, Loss: 0.3067975486372853\n",
      "Epoch 108/200\n",
      "1456/1456 [==============================] - 2s 2ms/step - loss: 0.3102 - acc: 0.8716 - val_loss: 0.6926 - val_acc: 0.6877\n",
      "Accuracy: 0.8308621636463481, Precision: 0.7806935332708529, Recall: 0.918412348401323, Loss: 0.3102306284747281\n",
      "Epoch 109/200\n",
      "1456/1456 [==============================] - 2s 1ms/step - loss: 0.3080 - acc: 0.8750 - val_loss: 0.6753 - val_acc: 0.6822\n",
      "Accuracy: 0.8539264140582098, Precision: 0.8280450358239508, Recall: 0.8919514884233738, Loss: 0.30803788068530324\n",
      "Epoch 110/200\n",
      "1456/1456 [==============================] - 2s 1ms/step - loss: 0.3079 - acc: 0.8874 - val_loss: 0.8921 - val_acc: 0.6630\n",
      "Accuracy: 0.7534321801208127, Precision: 0.9420849420849421, Recall: 0.538037486218302, Loss: 0.3079203249333979\n",
      "Epoch 111/200\n",
      "1456/1456 [==============================] - 3s 2ms/step - loss: 0.3023 - acc: 0.8819 - val_loss: 0.6907 - val_acc: 0.6740\n",
      "Accuracy: 0.8506315211422295, Precision: 0.8867235079171741, Recall: 0.802646085997795, Loss: 0.3023484555574564\n",
      "Epoch 112/200\n",
      "1456/1456 [==============================] - 2s 1ms/step - loss: 0.2973 - acc: 0.8798 - val_loss: 0.7182 - val_acc: 0.6740\n",
      "Accuracy: 0.8132894014277869, Precision: 0.7446074201898188, Recall: 0.9514884233737596, Loss: 0.297342259314034\n",
      "Epoch 113/200\n",
      "1456/1456 [==============================] - 2s 1ms/step - loss: 0.2998 - acc: 0.8853 - val_loss: 0.7587 - val_acc: 0.6822\n",
      "Accuracy: 0.7841845140032949, Precision: 0.707258064516129, Recall: 0.9669239250275634, Loss: 0.29976593858593115\n",
      "Epoch 114/200\n",
      "1456/1456 [==============================] - 2s 1ms/step - loss: 0.2946 - acc: 0.8880 - val_loss: 0.7613 - val_acc: 0.6849\n",
      "Accuracy: 0.8034047226798462, Precision: 0.9255813953488372, Recall: 0.6582138919514884, Loss: 0.2945977406842368\n",
      "Epoch 115/200\n",
      "1456/1456 [==============================] - 3s 2ms/step - loss: 0.2975 - acc: 0.8750 - val_loss: 0.6756 - val_acc: 0.6904\n",
      "Accuracy: 0.8627127951674904, Precision: 0.8574537540805223, Recall: 0.8687982359426681, Loss: 0.29747203352687124\n",
      "Epoch 116/200\n",
      "1456/1456 [==============================] - 3s 2ms/step - loss: 0.2874 - acc: 0.8922 - val_loss: 0.6925 - val_acc: 0.6932\n",
      "Accuracy: 0.8660076880834706, Precision: 0.8805970149253731, Recall: 0.8456449834619625, Loss: 0.28743848826859025\n",
      "Epoch 117/200\n",
      "1456/1456 [==============================] - 2s 1ms/step - loss: 0.2892 - acc: 0.8846 - val_loss: 0.7062 - val_acc: 0.6849\n",
      "Accuracy: 0.85722130697419, Precision: 0.8359293873312564, Recall: 0.8875413450937155, Loss: 0.28920619304363543\n",
      "Epoch 118/200\n",
      "1456/1456 [==============================] - 2s 1ms/step - loss: 0.2840 - acc: 0.8956 - val_loss: 0.7064 - val_acc: 0.7014\n",
      "Accuracy: 0.8665568369028006, Precision: 0.8755656108597285, Recall: 0.8533627342888643, Loss: 0.2840114340677366\n",
      "Epoch 119/200\n",
      "1456/1456 [==============================] - 2s 1ms/step - loss: 0.2838 - acc: 0.8867 - val_loss: 0.7103 - val_acc: 0.6877\n",
      "Accuracy: 0.8616144975288303, Precision: 0.8884934756820878, Recall: 0.8257993384785005, Loss: 0.28380541781802754\n",
      "Epoch 120/200\n",
      "1456/1456 [==============================] - 2s 1ms/step - loss: 0.2843 - acc: 0.8949 - val_loss: 0.7934 - val_acc: 0.6877\n",
      "Accuracy: 0.8138385502471169, Precision: 0.9303030303030303, Recall: 0.6769570011025359, Loss: 0.28433985451420585\n",
      "Epoch 121/200\n",
      "1456/1456 [==============================] - 2s 1ms/step - loss: 0.2902 - acc: 0.8832 - val_loss: 0.7770 - val_acc: 0.6740\n",
      "Accuracy: 0.7918725974739155, Precision: 0.7185430463576159, Recall: 0.9570011025358324, Loss: 0.2901926544996408\n",
      "Epoch 122/200\n",
      "1456/1456 [==============================] - 2s 1ms/step - loss: 0.2827 - acc: 0.8942 - val_loss: 0.6813 - val_acc: 0.7041\n",
      "Accuracy: 0.871499176276771, Precision: 0.8726467331118494, Recall: 0.8687982359426681, Loss: 0.28274571961098977\n",
      "Epoch 123/200\n",
      "1456/1456 [==============================] - 3s 2ms/step - loss: 0.2738 - acc: 0.8990 - val_loss: 0.6958 - val_acc: 0.6877\n",
      "Accuracy: 0.8687534321801208, Precision: 0.8654266958424508, Recall: 0.8721058434399118, Loss: 0.27382408229859323\n",
      "Epoch 124/200\n",
      "1456/1456 [==============================] - 2s 1ms/step - loss: 0.2825 - acc: 0.8874 - val_loss: 0.6932 - val_acc: 0.6877\n",
      "Accuracy: 0.8747940691927513, Precision: 0.8631016042780749, Recall: 0.8897464167585446, Loss: 0.28249162615655543\n",
      "Epoch 125/200\n",
      "1456/1456 [==============================] - 2s 1ms/step - loss: 0.2707 - acc: 0.8984 - val_loss: 0.7090 - val_acc: 0.7041\n",
      "Accuracy: 0.8682042833607908, Precision: 0.9032648125755743, Recall: 0.8235942668136714, Loss: 0.2707068540237762\n",
      "Epoch 126/200\n",
      "1456/1456 [==============================] - 2s 1ms/step - loss: 0.2751 - acc: 0.8949 - val_loss: 0.7346 - val_acc: 0.6795\n",
      "Accuracy: 0.8385502471169687, Precision: 0.7830101569713758, Recall: 0.9349503858875413, Loss: 0.27505861664866355\n",
      "Epoch 127/200\n",
      "1456/1456 [==============================] - 2s 1ms/step - loss: 0.2711 - acc: 0.9066 - val_loss: 0.6947 - val_acc: 0.7041\n",
      "Accuracy: 0.8638110928061504, Precision: 0.8494167550371156, Recall: 0.8831312017640573, Loss: 0.2711375404845227\n",
      "Epoch 128/200\n",
      "1456/1456 [==============================] - 2s 1ms/step - loss: 0.2681 - acc: 0.9004 - val_loss: 0.6982 - val_acc: 0.6849\n",
      "Accuracy: 0.8605161998901703, Precision: 0.8160696999031946, Recall: 0.9294377067254685, Loss: 0.2681199577483502\n",
      "Epoch 129/200\n",
      "1456/1456 [==============================] - 2s 2ms/step - loss: 0.2605 - acc: 0.9107 - val_loss: 0.7101 - val_acc: 0.6740\n",
      "Accuracy: 0.8660076880834706, Precision: 0.8932384341637011, Recall: 0.8302094818081588, Loss: 0.2604539222442187\n",
      "Epoch 130/200\n",
      "1456/1456 [==============================] - 2s 1ms/step - loss: 0.2689 - acc: 0.9073 - val_loss: 0.6864 - val_acc: 0.6986\n",
      "Accuracy: 0.8780889621087314, Precision: 0.8601472134595163, Recall: 0.9018743109151047, Loss: 0.2689416176015204\n",
      "Epoch 131/200\n",
      "1456/1456 [==============================] - 2s 1ms/step - loss: 0.2616 - acc: 0.9059 - val_loss: 0.6982 - val_acc: 0.6932\n",
      "Accuracy: 0.8550247116968699, Precision: 0.8058991436726927, Recall: 0.9338478500551268, Loss: 0.26164018911319775\n",
      "Epoch 132/200\n",
      "1456/1456 [==============================] - 2s 1ms/step - loss: 0.2668 - acc: 0.9038 - val_loss: 0.8125 - val_acc: 0.6712\n",
      "Accuracy: 0.8072487644151565, Precision: 0.9357366771159875, Recall: 0.6582138919514884, Loss: 0.2668060368888981\n",
      "Epoch 133/200\n"
     ]
    },
    {
     "name": "stdout",
     "output_type": "stream",
     "text": [
      "1456/1456 [==============================] - 2s 1ms/step - loss: 0.2591 - acc: 0.9052 - val_loss: 0.7094 - val_acc: 0.6795\n",
      "Accuracy: 0.8725974739154311, Precision: 0.8511966701352758, Recall: 0.9018743109151047, Loss: 0.25914768629021695\n",
      "Epoch 134/200\n",
      "1456/1456 [==============================] - 2s 1ms/step - loss: 0.2584 - acc: 0.9128 - val_loss: 0.7964 - val_acc: 0.6877\n",
      "Accuracy: 0.8028555738605162, Precision: 0.7279534109816972, Recall: 0.9647188533627343, Loss: 0.2583527905600412\n",
      "Epoch 135/200\n",
      "1456/1456 [==============================] - 2s 1ms/step - loss: 0.2547 - acc: 0.9052 - val_loss: 0.7497 - val_acc: 0.6849\n",
      "Accuracy: 0.85612300933553, Precision: 0.8134110787172012, Recall: 0.9228224917309813, Loss: 0.25467484370692745\n",
      "Epoch 136/200\n",
      "1456/1456 [==============================] - 2s 2ms/step - loss: 0.2550 - acc: 0.9107 - val_loss: 0.7704 - val_acc: 0.6932\n",
      "Accuracy: 0.8544755628775398, Precision: 0.9268617021276596, Recall: 0.7684674751929438, Loss: 0.25496520265773104\n",
      "Epoch 137/200\n",
      "1456/1456 [==============================] - 2s 2ms/step - loss: 0.2571 - acc: 0.9032 - val_loss: 0.7555 - val_acc: 0.6877\n",
      "Accuracy: 0.85722130697419, Precision: 0.9142125480153649, Recall: 0.7872105843439912, Loss: 0.2570502335553641\n",
      "Epoch 138/200\n",
      "1456/1456 [==============================] - 2s 1ms/step - loss: 0.2467 - acc: 0.9066 - val_loss: 0.7288 - val_acc: 0.6795\n",
      "Accuracy: 0.8698517298187809, Precision: 0.9045893719806763, Recall: 0.8257993384785005, Loss: 0.2466898350106491\n",
      "Epoch 139/200\n",
      "1456/1456 [==============================] - 2s 1ms/step - loss: 0.2448 - acc: 0.9073 - val_loss: 0.8461 - val_acc: 0.6795\n",
      "Accuracy: 0.827567270730368, Precision: 0.9253945480631277, Recall: 0.7111356119073869, Loss: 0.24480826841605888\n",
      "Epoch 140/200\n",
      "1456/1456 [==============================] - 2s 1ms/step - loss: 0.2498 - acc: 0.9107 - val_loss: 0.7796 - val_acc: 0.7096\n",
      "Accuracy: 0.8671059857221307, Precision: 0.9246487867177522, Recall: 0.7982359426681367, Loss: 0.24976849686968458\n",
      "Epoch 141/200\n",
      "1456/1456 [==============================] - 2s 1ms/step - loss: 0.2504 - acc: 0.9155 - val_loss: 0.7776 - val_acc: 0.6877\n",
      "Accuracy: 0.8610653487095002, Precision: 0.9268929503916449, Recall: 0.782800441014333, Loss: 0.2503551025312025\n",
      "Epoch 142/200\n",
      "1456/1456 [==============================] - 2s 1ms/step - loss: 0.2410 - acc: 0.9093 - val_loss: 0.7612 - val_acc: 0.6795\n",
      "Accuracy: 0.8649093904448105, Precision: 0.8375893769152196, Recall: 0.9040793825799338, Loss: 0.240953056039391\n",
      "Epoch 143/200\n",
      "1456/1456 [==============================] - 2s 2ms/step - loss: 0.2404 - acc: 0.9128 - val_loss: 0.7531 - val_acc: 0.6795\n",
      "Accuracy: 0.8687534321801208, Precision: 0.8353413654618473, Recall: 0.9173098125689085, Loss: 0.24041495562254728\n",
      "Epoch 144/200\n",
      "1456/1456 [==============================] - 2s 1ms/step - loss: 0.2390 - acc: 0.9203 - val_loss: 0.7683 - val_acc: 0.6712\n",
      "Accuracy: 0.8539264140582098, Precision: 0.8061127029608405, Recall: 0.9305402425578831, Loss: 0.23895168631941407\n",
      "Epoch 145/200\n",
      "1456/1456 [==============================] - 2s 1ms/step - loss: 0.2461 - acc: 0.9018 - val_loss: 0.7466 - val_acc: 0.6849\n",
      "Accuracy: 0.870950027457441, Precision: 0.9019138755980861, Recall: 0.8313120176405733, Loss: 0.24606398321115053\n",
      "Epoch 146/200\n",
      "1456/1456 [==============================] - 2s 1ms/step - loss: 0.2349 - acc: 0.9176 - val_loss: 0.7339 - val_acc: 0.6932\n",
      "Accuracy: 0.8819330038440417, Precision: 0.8793859649122807, Recall: 0.8842337375964718, Loss: 0.23486524443705004\n",
      "Epoch 147/200\n",
      "1456/1456 [==============================] - 2s 1ms/step - loss: 0.2387 - acc: 0.9169 - val_loss: 0.7450 - val_acc: 0.6904\n",
      "Accuracy: 0.8533772652388797, Precision: 0.7957486136783734, Recall: 0.9492833517089305, Loss: 0.23871592243949136\n",
      "Epoch 148/200\n",
      "1456/1456 [==============================] - 2s 1ms/step - loss: 0.2304 - acc: 0.9251 - val_loss: 0.7688 - val_acc: 0.6877\n",
      "Accuracy: 0.8775398132894014, Precision: 0.9061757719714965, Recall: 0.8412348401323043, Loss: 0.23037048879560534\n",
      "Epoch 149/200\n",
      "1456/1456 [==============================] - 2s 1ms/step - loss: 0.2360 - acc: 0.9203 - val_loss: 0.8007 - val_acc: 0.6904\n",
      "Accuracy: 0.8528281164195497, Precision: 0.9335142469470827, Recall: 0.7585446527012127, Loss: 0.23603370900337511\n",
      "Epoch 150/200\n",
      "1456/1456 [==============================] - 2s 1ms/step - loss: 0.2293 - acc: 0.9272 - val_loss: 0.7582 - val_acc: 0.6849\n",
      "Accuracy: 0.8725974739154311, Precision: 0.8426395939086294, Recall: 0.9151047409040793, Loss: 0.2293149049465473\n",
      "Epoch 151/200\n",
      "1456/1456 [==============================] - 3s 2ms/step - loss: 0.2317 - acc: 0.9141 - val_loss: 0.7676 - val_acc: 0.6849\n",
      "Accuracy: 0.8555738605161999, Precision: 0.8003731343283582, Recall: 0.9459757442116868, Loss: 0.2316807827779225\n",
      "Epoch 152/200\n",
      "1456/1456 [==============================] - 2s 1ms/step - loss: 0.2342 - acc: 0.9093 - val_loss: 0.7473 - val_acc: 0.6904\n",
      "Accuracy: 0.8736957715540912, Precision: 0.8321884200196271, Recall: 0.9349503858875413, Loss: 0.23417152972011776\n",
      "Epoch 153/200\n",
      "1456/1456 [==============================] - 2s 1ms/step - loss: 0.2289 - acc: 0.9162 - val_loss: 0.7479 - val_acc: 0.6849\n",
      "Accuracy: 0.8758923668314114, Precision: 0.8367952522255193, Recall: 0.9327453142227122, Loss: 0.22886317771869702\n",
      "Epoch 154/200\n",
      "1456/1456 [==============================] - 2s 1ms/step - loss: 0.2191 - acc: 0.9183 - val_loss: 0.7895 - val_acc: 0.6986\n",
      "Accuracy: 0.8731466227347611, Precision: 0.9256926952141058, Recall: 0.8103638368246968, Loss: 0.21907221779718503\n",
      "Epoch 155/200\n",
      "1456/1456 [==============================] - 2s 1ms/step - loss: 0.2255 - acc: 0.9162 - val_loss: 0.7539 - val_acc: 0.6877\n",
      "Accuracy: 0.8896210873146623, Precision: 0.8661825726141079, Recall: 0.9206174200661521, Loss: 0.22550312012106508\n",
      "Epoch 156/200\n",
      "1456/1456 [==============================] - 2s 1ms/step - loss: 0.2264 - acc: 0.9203 - val_loss: 0.7636 - val_acc: 0.6904\n",
      "Accuracy: 0.8890719384953323, Precision: 0.8762006403415155, Recall: 0.9051819184123484, Loss: 0.22636118694976137\n",
      "Epoch 157/200\n",
      "1456/1456 [==============================] - 2s 1ms/step - loss: 0.2210 - acc: 0.9272 - val_loss: 0.7697 - val_acc: 0.6959\n",
      "Accuracy: 0.8660076880834706, Precision: 0.8118532455315146, Recall: 0.9514884233737596, Loss: 0.22097075313002199\n",
      "Epoch 158/200\n",
      "1456/1456 [==============================] - 2s 2ms/step - loss: 0.2189 - acc: 0.9224 - val_loss: 0.7940 - val_acc: 0.6959\n",
      "Accuracy: 0.8456891817682592, Precision: 0.7835144927536232, Recall: 0.9536934950385888, Loss: 0.21893831399770883\n",
      "Epoch 159/200\n",
      "1456/1456 [==============================] - 2s 2ms/step - loss: 0.2216 - acc: 0.9224 - val_loss: 0.7508 - val_acc: 0.6877\n",
      "Accuracy: 0.8940142778693025, Precision: 0.8814102564102564, Recall: 0.9095920617420066, Loss: 0.22161211990393126\n",
      "Epoch 160/200\n",
      "1456/1456 [==============================] - 3s 2ms/step - loss: 0.2224 - acc: 0.9203 - val_loss: 0.7700 - val_acc: 0.6877\n",
      "Accuracy: 0.885777045579352, Precision: 0.8861878453038674, Recall: 0.8842337375964718, Loss: 0.22239680277122245\n",
      "Epoch 161/200\n",
      "1456/1456 [==============================] - 2s 2ms/step - loss: 0.2094 - acc: 0.9272 - val_loss: 0.7627 - val_acc: 0.6822\n",
      "Accuracy: 0.8885227896760022, Precision: 0.8809523809523809, Recall: 0.8974641675854466, Loss: 0.20938202853386217\n",
      "Epoch 162/200\n",
      "1456/1456 [==============================] - 2s 1ms/step - loss: 0.2117 - acc: 0.9162 - val_loss: 0.7625 - val_acc: 0.6959\n",
      "Accuracy: 0.8819330038440417, Precision: 0.8405511811023622, Recall: 0.9415656008820287, Loss: 0.21171921851870779\n",
      "Epoch 163/200\n",
      "1456/1456 [==============================] - 2s 2ms/step - loss: 0.2122 - acc: 0.9334 - val_loss: 0.8273 - val_acc: 0.7014\n",
      "Accuracy: 0.8643602416254805, Precision: 0.9483695652173914, Recall: 0.7695700110253583, Loss: 0.2121973768040374\n",
      "Epoch 164/200\n",
      "1456/1456 [==============================] - 3s 2ms/step - loss: 0.2091 - acc: 0.9265 - val_loss: 0.7888 - val_acc: 0.6932\n",
      "Accuracy: 0.8973091707852828, Precision: 0.9081632653061225, Recall: 0.8831312017640573, Loss: 0.20905025483487727\n",
      "Epoch 165/200\n",
      "1456/1456 [==============================] - 2s 1ms/step - loss: 0.2093 - acc: 0.9279 - val_loss: 0.7730 - val_acc: 0.6877\n",
      "Accuracy: 0.8835804503020318, Precision: 0.8527918781725888, Recall: 0.9261300992282249, Loss: 0.20925651900060885\n",
      "Epoch 166/200\n"
     ]
    },
    {
     "name": "stdout",
     "output_type": "stream",
     "text": [
      "1456/1456 [==============================] - 2s 1ms/step - loss: 0.2074 - acc: 0.9306 - val_loss: 0.8039 - val_acc: 0.6904\n",
      "Accuracy: 0.8704008786381109, Precision: 0.8198284080076264, Recall: 0.948180815876516, Loss: 0.20740025646083957\n",
      "Epoch 167/200\n",
      "1456/1456 [==============================] - 2s 1ms/step - loss: 0.2149 - acc: 0.9210 - val_loss: 0.7535 - val_acc: 0.6877\n",
      "Accuracy: 0.8956617243272927, Precision: 0.8826040554962646, Recall: 0.9117971334068358, Loss: 0.2149482678908568\n",
      "Epoch 168/200\n",
      "1456/1456 [==============================] - 2s 2ms/step - loss: 0.2022 - acc: 0.9341 - val_loss: 0.9195 - val_acc: 0.6822\n",
      "Accuracy: 0.8308621636463481, Precision: 0.9558599695585996, Recall: 0.6923925027563396, Loss: 0.20219557822405637\n",
      "Epoch 169/200\n",
      "1456/1456 [==============================] - 3s 2ms/step - loss: 0.2051 - acc: 0.9348 - val_loss: 0.7863 - val_acc: 0.6822\n",
      "Accuracy: 0.8907193849533224, Precision: 0.890728476821192, Recall: 0.8897464167585446, Loss: 0.20512822172143957\n",
      "Epoch 170/200\n",
      "1456/1456 [==============================] - 2s 1ms/step - loss: 0.2012 - acc: 0.9224 - val_loss: 0.8085 - val_acc: 0.6767\n",
      "Accuracy: 0.8704008786381109, Precision: 0.8279569892473119, Recall: 0.9338478500551268, Loss: 0.20116732777147503\n",
      "Epoch 171/200\n",
      "1456/1456 [==============================] - 2s 1ms/step - loss: 0.2043 - acc: 0.9299 - val_loss: 0.7863 - val_acc: 0.6877\n",
      "Accuracy: 0.8929159802306426, Precision: 0.8700623700623701, Recall: 0.9228224917309813, Loss: 0.20425814210058568\n",
      "Epoch 172/200\n",
      "1456/1456 [==============================] - 2s 1ms/step - loss: 0.2053 - acc: 0.9334 - val_loss: 0.8959 - val_acc: 0.6849\n",
      "Accuracy: 0.8550247116968699, Precision: 0.9496503496503497, Recall: 0.7486218302094818, Loss: 0.2052933041538511\n",
      "Epoch 173/200\n",
      "1456/1456 [==============================] - 2s 1ms/step - loss: 0.1987 - acc: 0.9313 - val_loss: 0.8771 - val_acc: 0.6932\n",
      "Accuracy: 0.8264689730917079, Precision: 0.7545219638242894, Recall: 0.9658213891951488, Loss: 0.1987096144930347\n",
      "Epoch 174/200\n",
      "1456/1456 [==============================] - 2s 1ms/step - loss: 0.1975 - acc: 0.9354 - val_loss: 0.9294 - val_acc: 0.6630\n",
      "Accuracy: 0.841845140032949, Precision: 0.9427753934191703, Recall: 0.7265711135611908, Loss: 0.19745981464019188\n",
      "Epoch 175/200\n",
      "1456/1456 [==============================] - 3s 2ms/step - loss: 0.1985 - acc: 0.9258 - val_loss: 0.8066 - val_acc: 0.6986\n",
      "Accuracy: 0.8967600219659527, Precision: 0.9274673008323424, Recall: 0.8599779492833517, Loss: 0.19848653281128015\n",
      "Epoch 176/200\n",
      "1456/1456 [==============================] - 2s 1ms/step - loss: 0.1881 - acc: 0.9423 - val_loss: 0.8101 - val_acc: 0.6877\n",
      "Accuracy: 0.8989566172432729, Precision: 0.9012208657047724, Recall: 0.8952590959206174, Loss: 0.18812617839692714\n",
      "Epoch 177/200\n",
      "1456/1456 [==============================] - 3s 2ms/step - loss: 0.1905 - acc: 0.9341 - val_loss: 0.8115 - val_acc: 0.6877\n",
      "Accuracy: 0.8973091707852828, Precision: 0.9035874439461884, Recall: 0.8886438809261301, Loss: 0.19045409118081189\n",
      "Epoch 178/200\n",
      "1456/1456 [==============================] - 2s 2ms/step - loss: 0.1931 - acc: 0.9272 - val_loss: 0.8471 - val_acc: 0.6986\n",
      "Accuracy: 0.886326194398682, Precision: 0.9375, Recall: 0.8269018743109151, Loss: 0.19309905679016323\n",
      "Epoch 179/200\n",
      "1456/1456 [==============================] - 2s 1ms/step - loss: 0.1883 - acc: 0.9361 - val_loss: 0.8312 - val_acc: 0.6932\n",
      "Accuracy: 0.8742449203734212, Precision: 0.8210227272727273, Recall: 0.9558985667034179, Loss: 0.1882888512624489\n",
      "Epoch 180/200\n",
      "1456/1456 [==============================] - 2s 2ms/step - loss: 0.1873 - acc: 0.9375 - val_loss: 0.8409 - val_acc: 0.6822\n",
      "Accuracy: 0.8594179022515102, Precision: 0.803921568627451, Recall: 0.9492833517089305, Loss: 0.1872873271887119\n",
      "Epoch 181/200\n",
      "1456/1456 [==============================] - 2s 2ms/step - loss: 0.1889 - acc: 0.9375 - val_loss: 0.8019 - val_acc: 0.6767\n",
      "Accuracy: 0.8945634266886326, Precision: 0.8864864864864865, Recall: 0.9040793825799338, Loss: 0.1888773487164424\n",
      "Epoch 182/200\n",
      "1456/1456 [==============================] - 2s 1ms/step - loss: 0.1849 - acc: 0.9437 - val_loss: 0.9334 - val_acc: 0.6932\n",
      "Accuracy: 0.8110928061504667, Precision: 0.7343880099916736, Recall: 0.9724366041896362, Loss: 0.18487279297231318\n",
      "Epoch 183/200\n",
      "1456/1456 [==============================] - 2s 1ms/step - loss: 0.1886 - acc: 0.9389 - val_loss: 0.8600 - val_acc: 0.6986\n",
      "Accuracy: 0.8841295991213619, Precision: 0.9296296296296296, Recall: 0.8302094818081588, Loss: 0.18857800600292918\n",
      "Epoch 184/200\n",
      "1456/1456 [==============================] - 2s 1ms/step - loss: 0.1838 - acc: 0.9375 - val_loss: 0.9388 - val_acc: 0.6877\n",
      "Accuracy: 0.8116419549697969, Precision: 0.7346089850249584, Recall: 0.9735391400220507, Loss: 0.18384475924156524\n",
      "Epoch 185/200\n",
      "1456/1456 [==============================] - 4s 2ms/step - loss: 0.1936 - acc: 0.9299 - val_loss: 0.8490 - val_acc: 0.6986\n",
      "Accuracy: 0.8945634266886326, Precision: 0.9419035846724351, Recall: 0.8401323042998897, Loss: 0.19356194138526917\n",
      "Epoch 186/200\n",
      "1456/1456 [==============================] - 2s 2ms/step - loss: 0.1779 - acc: 0.9402 - val_loss: 0.8287 - val_acc: 0.6822\n",
      "Accuracy: 0.9033498077979132, Precision: 0.9196326061997704, Recall: 0.8831312017640573, Loss: 0.17789023148489522\n",
      "Epoch 187/200\n",
      "1456/1456 [==============================] - 2s 1ms/step - loss: 0.1802 - acc: 0.9457 - val_loss: 0.8285 - val_acc: 0.6932\n",
      "Accuracy: 0.9022515101592532, Precision: 0.9213872832369943, Recall: 0.8787210584343991, Loss: 0.18016443246013517\n",
      "Epoch 188/200\n",
      "1456/1456 [==============================] - 2s 1ms/step - loss: 0.1763 - acc: 0.9444 - val_loss: 0.8425 - val_acc: 0.6822\n",
      "Accuracy: 0.8918176825919825, Precision: 0.856425702811245, Recall: 0.9404630650496141, Loss: 0.17628468376594586\n",
      "Epoch 189/200\n",
      "1456/1456 [==============================] - 2s 1ms/step - loss: 0.1841 - acc: 0.9423 - val_loss: 0.9325 - val_acc: 0.6904\n",
      "Accuracy: 0.8627127951674904, Precision: 0.951856946354883, Recall: 0.762954796030871, Loss: 0.18410123262431596\n",
      "Epoch 190/200\n",
      "1456/1456 [==============================] - 2s 1ms/step - loss: 0.1701 - acc: 0.9437 - val_loss: 0.9156 - val_acc: 0.6959\n",
      "Accuracy: 0.8451400329489291, Precision: 0.7777777777777778, Recall: 0.9647188533627343, Loss: 0.1701363988302566\n",
      "Epoch 191/200\n",
      "1456/1456 [==============================] - 2s 1ms/step - loss: 0.1776 - acc: 0.9423 - val_loss: 0.8317 - val_acc: 0.6904\n",
      "Accuracy: 0.9028006589785832, Precision: 0.8802083333333334, Recall: 0.9316427783902976, Loss: 0.17763152276421643\n",
      "Epoch 192/200\n",
      "1456/1456 [==============================] - 2s 1ms/step - loss: 0.1802 - acc: 0.9409 - val_loss: 0.8602 - val_acc: 0.6795\n",
      "Accuracy: 0.8934651290499726, Precision: 0.8634046890927625, Recall: 0.9338478500551268, Loss: 0.18021699278564243\n",
      "Epoch 193/200\n",
      "1456/1456 [==============================] - 2s 1ms/step - loss: 0.1722 - acc: 0.9492 - val_loss: 0.8333 - val_acc: 0.6904\n",
      "Accuracy: 0.9077429983525536, Precision: 0.9156355455568054, Recall: 0.8974641675854466, Loss: 0.17217723042755337\n",
      "Epoch 194/200\n",
      "1456/1456 [==============================] - 2s 1ms/step - loss: 0.1697 - acc: 0.9437 - val_loss: 0.8821 - val_acc: 0.6877\n",
      "Accuracy: 0.8973091707852828, Precision: 0.9285714285714286, Recall: 0.8599779492833517, Loss: 0.16974549568616426\n",
      "Epoch 195/200\n",
      "1456/1456 [==============================] - 2s 2ms/step - loss: 0.1684 - acc: 0.9437 - val_loss: 0.8647 - val_acc: 0.6795\n",
      "Accuracy: 0.8813838550247117, Precision: 0.8465396188565697, Recall: 0.9305402425578831, Loss: 0.16837574001196975\n",
      "Epoch 196/200\n",
      "1456/1456 [==============================] - 2s 1ms/step - loss: 0.1759 - acc: 0.9402 - val_loss: 0.8713 - val_acc: 0.6932\n",
      "Accuracy: 0.8923668314113125, Precision: 0.9405204460966543, Recall: 0.836824696802646, Loss: 0.1759164777103361\n",
      "Epoch 197/200\n",
      "1456/1456 [==============================] - 2s 1ms/step - loss: 0.1618 - acc: 0.9485 - val_loss: 0.8933 - val_acc: 0.6822\n",
      "Accuracy: 0.8676551345414607, Precision: 0.8123827392120075, Recall: 0.9547960308710033, Loss: 0.16178023577718945\n",
      "Epoch 198/200\n",
      "1456/1456 [==============================] - 2s 1ms/step - loss: 0.1719 - acc: 0.9409 - val_loss: 0.8745 - val_acc: 0.6986\n",
      "Accuracy: 0.8693025809994509, Precision: 0.8117427772600186, Recall: 0.960308710033076, Loss: 0.17193055136518165\n",
      "Epoch 199/200\n"
     ]
    },
    {
     "name": "stdout",
     "output_type": "stream",
     "text": [
      "1456/1456 [==============================] - 2s 1ms/step - loss: 0.1651 - acc: 0.9478 - val_loss: 0.8622 - val_acc: 0.7041\n",
      "Accuracy: 0.8802855573860516, Precision: 0.8302972195589645, Recall: 0.9547960308710033, Loss: 0.16506276631748285\n",
      "Epoch 200/200\n",
      "1456/1456 [==============================] - 2s 2ms/step - loss: 0.1689 - acc: 0.9451 - val_loss: 0.8728 - val_acc: 0.6932\n",
      "Accuracy: 0.9088412959912137, Precision: 0.9234285714285714, Recall: 0.8908489525909592, Loss: 0.16890989194859515\n",
      "CPU times: user 16min 43s, sys: 55.3 s, total: 17min 38s\n",
      "Wall time: 14min 43s\n"
     ]
    }
   ],
   "source": [
    "%%time\n",
    "\n",
    "history =   model.fit(x_train, y_train_cat,\n",
    "            batch_size=batch_size,\n",
    "            epochs=epochs,\n",
    "            validation_data=(x_test, y_test_cat),\n",
    "            shuffle=True,\n",
    "            verbose=1,\n",
    "            callbacks=[CamCallback()])"
   ]
  },
  {
   "cell_type": "code",
   "execution_count": 88,
   "metadata": {},
   "outputs": [],
   "source": [
    "import json\n",
    "with open('../proyecto-insideout/data/data-by-epoch.json', 'w') as file:\n",
    "    json.dump(epochs_data, file)"
   ]
  },
  {
   "cell_type": "code",
   "execution_count": 65,
   "metadata": {},
   "outputs": [
    {
     "data": {
      "image/png": "[encoded data removed]",
      "text/plain": [
       "<Figure size 864x864 with 1 Axes>"
      ]
     },
     "metadata": {},
     "output_type": "display_data"
    },
    {
     "data": {
      "image/png": "[encoded data removed]",
      "text/plain": [
       "<Figure size 864x864 with 1 Axes>"
      ]
     },
     "metadata": {},
     "output_type": "display_data"
    }
   ],
   "source": [
    "plt.imshow(epochs_heatmaps[0])\n",
    "plt.show()\n",
    "plt.imshow(epochs_heatmaps[199])\n",
    "plt.show()"
   ]
  },
  {
   "cell_type": "code",
   "execution_count": 22,
   "metadata": {},
   "outputs": [
    {
     "name": "stdout",
     "output_type": "stream",
     "text": [
      "_________________________________________________________________\n",
      "Layer (type)                 Output Shape              Param #   \n",
      "=================================================================\n",
      "input_1 (InputLayer)         (None, 28, 28, 3)         0         \n",
      "_________________________________________________________________\n",
      "conv2d_1 (Conv2D)            (None, 28, 28, 32)        896       \n",
      "_________________________________________________________________\n",
      "conv2d_2 (Conv2D)            (None, 28, 28, 32)        9248      \n",
      "_________________________________________________________________\n",
      "max_pooling2d_1 (MaxPooling2 (None, 14, 14, 32)        0         \n",
      "_________________________________________________________________\n",
      "flatten_1 (Flatten)          (None, 6272)              0         \n",
      "_________________________________________________________________\n",
      "dense_1 (Dense)              (None, 10)                62730     \n",
      "_________________________________________________________________\n",
      "dense_2 (Dense)              (None, 2)                 22        \n",
      "=================================================================\n",
      "Total params: 72,896\n",
      "Trainable params: 72,896\n",
      "Non-trainable params: 0\n",
      "_________________________________________________________________\n"
     ]
    }
   ],
   "source": [
    "model.summary()"
   ]
  },
  {
   "cell_type": "code",
   "execution_count": 13,
   "metadata": {},
   "outputs": [
    {
     "data": {
      "text/plain": [
       "[<keras.engine.input_layer.InputLayer at 0x7fad2afa77f0>,\n",
       " <keras.layers.convolutional.Conv2D at 0x7fad2afa7d30>,\n",
       " <keras.layers.convolutional.Conv2D at 0x7fad2afa7cc0>,\n",
       " <keras.layers.pooling.MaxPooling2D at 0x7fad2af9f860>,\n",
       " <keras.layers.core.Flatten at 0x7fad2af9ffd0>,\n",
       " <keras.layers.core.Dense at 0x7fad2af9f358>,\n",
       " <keras.layers.core.Dense at 0x7fad2b538940>]"
      ]
     },
     "execution_count": 13,
     "metadata": {},
     "output_type": "execute_result"
    }
   ],
   "source": [
    "model.layers"
   ]
  },
  {
   "cell_type": "code",
   "execution_count": 18,
   "metadata": {},
   "outputs": [],
   "source": [
    "model.save('models/model_2.h5')"
   ]
  },
  {
   "cell_type": "code",
   "execution_count": 19,
   "metadata": {},
   "outputs": [
    {
     "data": {
      "text/plain": [
       "(1821, 2)"
      ]
     },
     "execution_count": 19,
     "metadata": {},
     "output_type": "execute_result"
    }
   ],
   "source": [
    "predictions_base_model = model.predict(X)\n",
    "predictions_base_model.shape"
   ]
  },
  {
   "cell_type": "code",
   "execution_count": 20,
   "metadata": {},
   "outputs": [
    {
     "data": {
      "text/plain": [
       "array([[3.4503936e-04, 9.9965501e-01],\n",
       "       [2.1045016e-02, 9.7895491e-01],\n",
       "       [1.7873488e-03, 9.9821270e-01],\n",
       "       ...,\n",
       "       [8.9528030e-01, 1.0471968e-01],\n",
       "       [8.7062722e-01, 1.2937282e-01],\n",
       "       [6.5833932e-01, 3.4166068e-01]], dtype=float32)"
      ]
     },
     "execution_count": 20,
     "metadata": {},
     "output_type": "execute_result"
    }
   ],
   "source": [
    "predictions_base_model"
   ]
  },
  {
   "cell_type": "markdown",
   "metadata": {},
   "source": [
    "### CAM 2.0"
   ]
  },
  {
   "cell_type": "code",
   "execution_count": 9,
   "metadata": {},
   "outputs": [],
   "source": [
    "import tensorflow as tf\n",
    "import keras.backend as K\n",
    "from keras.layers.core import Lambda\n",
    "from keras.models import Sequential\n",
    "import numpy as np\n",
    "from keras.models import load_model\n",
    " \n"
   ]
  },
  {
   "cell_type": "code",
   "execution_count": 11,
   "metadata": {},
   "outputs": [],
   "source": [
    "# load model\n",
    "model = load_model('models/model_2.h5')"
   ]
  },
  {
   "cell_type": "code",
   "execution_count": null,
   "metadata": {},
   "outputs": [],
   "source": []
  },
  {
   "cell_type": "code",
   "execution_count": 76,
   "metadata": {},
   "outputs": [],
   "source": [
    "def target_category_loss(x, category_index, nb_classes):\n",
    "    return tf.multiply(x, K.one_hot([category_index], nb_classes))\n",
    "\n",
    "def target_category_loss_output_shape(input_shape):\n",
    "    return input_shape\n",
    "\n",
    "def normalize(x):\n",
    "    # utility function to normalize a tensor by its L2 norm\n",
    "    return x / (K.sqrt(K.mean(K.square(x))) + 1e-5)\n",
    "\n",
    "def naive_cam(input_model, images):\n",
    "    conv_output = model.layers[2].output \n",
    "    cam_extractor = K.function([model.input], [conv_output])\n",
    "    cam = cam_extractor([images])\n",
    "    cam = cam[0]\n",
    "    cam = np.maximum(cam, 0)\n",
    "    cam = np.mean(cam, axis=3)\n",
    "    cam = np.mean(cam, axis=0)\n",
    "    heatmap = cam / np.max(cam)\n",
    "    return cam, heatmap\n",
    "\n",
    "def grad_cam(input_model, image, category_index, layer_name):\n",
    "    nb_classes = 2\n",
    "    target_layer = lambda x: target_category_loss(x, category_index, nb_classes)\n",
    "    last = Lambda(target_layer, output_shape=target_category_loss_output_shape)(input_model.output)\n",
    "    model = Model(inputs=input_model.input, outputs=last)\n",
    "    loss = K.sum(model.layers[-1].output)\n",
    "    conv_output = model.layers[2].output  \n",
    "    grads = normalize(K.gradients(loss, conv_output)[0])\n",
    "    \n",
    "    gradient_function = K.function([model.layers[0].input], [conv_output, grads])\n",
    "    \n",
    "    output, grads_val = gradient_function([image[None]])\n",
    "    output, grads_val = output[0, :], grads_val[0, :, :, :]\n",
    "\n",
    "    weights = np.mean(grads_val, axis = (0, 1))\n",
    "    cam = np.ones(output.shape[0 : 2], dtype = np.float32)\n",
    "\n",
    "    for i, w in enumerate(weights):\n",
    "        cam += w * output[:, :, i]\n",
    "\n",
    "    cam = np.maximum(cam, 0)\n",
    "    heatmap = cam / np.max(cam)\n",
    "\n",
    "    return cam, heatmap"
   ]
  },
  {
   "cell_type": "code",
   "execution_count": 30,
   "metadata": {},
   "outputs": [
    {
     "name": "stdout",
     "output_type": "stream",
     "text": [
      "(1821, 28, 28)\n",
      "(28, 28)\n"
     ]
    }
   ],
   "source": [
    "cam_n, heatmap_n = naive_cam(model, X, 'conv2d_2')"
   ]
  },
  {
   "cell_type": "code",
   "execution_count": 31,
   "metadata": {},
   "outputs": [
    {
     "data": {
      "image/png": "[encoded data removed]",
      "text/plain": [
       "<Figure size 432x288 with 1 Axes>"
      ]
     },
     "metadata": {
      "needs_background": "light"
     },
     "output_type": "display_data"
    }
   ],
   "source": [
    "plt.imshow(heatmap_n, cmap='jet')\n",
    "plt.show()"
   ]
  },
  {
   "cell_type": "code",
   "execution_count": 41,
   "metadata": {},
   "outputs": [
    {
     "name": "stdout",
     "output_type": "stream",
     "text": [
      "(1, 28, 28, 32)\n"
     ]
    },
    {
     "data": {
      "image/png": "[encoded data removed]",
      "text/plain": [
       "<Figure size 432x288 with 1 Axes>"
      ]
     },
     "metadata": {
      "needs_background": "light"
     },
     "output_type": "display_data"
    }
   ],
   "source": [
    "predictions = model.predict(X)\n",
    "predicted_class = np.argmax(predictions[0])\n",
    "cam, heatmap = grad_cam(model, X[0], predicted_class, 'conv2d_2')\n",
    "plt.imshow(cam, cmap='jet')\n",
    "plt.show()"
   ]
  },
  {
   "cell_type": "markdown",
   "metadata": {},
   "source": [
    "## Visualize CAMs"
   ]
  },
  {
   "cell_type": "code",
   "execution_count": 51,
   "metadata": {},
   "outputs": [
    {
     "data": {
      "image/png": "[encoded data removed]",
      "text/plain": [
       "<Figure size 1152x1152 with 8 Axes>"
      ]
     },
     "metadata": {
      "needs_background": "light"
     },
     "output_type": "display_data"
    }
   ],
   "source": [
    "    \n",
    "fig= plt.figure(figsize=(16, 16))\n",
    "columns = 2\n",
    "rows = 4\n",
    "for i in range(1, columns * rows + 1, columns):\n",
    "    #cam0, heatmap0 = grad_cam(model, X[i], 0, 'conv2d_2')\n",
    "    #fig.add_subplot(rows, columns, i)\n",
    "    #plt.imshow(cam0, cmap='jet')\n",
    "    #plt.title(f'Image {i} - class {0}')\n",
    "    \n",
    "    cam_n, heatmap_n = naive_cam(model, X[i], 0, 'conv2d_2')\n",
    "    fig.add_subplot(rows, columns, i)\n",
    "    plt.imshow(cam_n, cmap='jet')\n",
    "    plt.title(f'Image {i} - Raw Activation')\n",
    "    \n",
    "    predicted_class = np.argmax(predictions[0])\n",
    "    \n",
    "    cam1, heatmap1 = grad_cam(model, X[i], predicted_class, 'conv2d_2')\n",
    "    fig.add_subplot(rows, columns, i + 1)\n",
    "    plt.imshow(cam1, cmap='jet')\n",
    "    plt.title(f'Image {i} - Predicted class {predicted_class}')\n",
    "    \n",
    "plt.show()"
   ]
  },
  {
   "cell_type": "code",
   "execution_count": null,
   "metadata": {},
   "outputs": [],
   "source": []
  },
  {
   "cell_type": "code",
   "execution_count": null,
   "metadata": {},
   "outputs": [],
   "source": []
  }
 ],
 "metadata": {
  "anaconda-cloud": {},
  "kernelspec": {
   "display_name": "Python 3",
   "language": "python",
   "name": "python3"
  },
  "language_info": {
   "codemirror_mode": {
    "name": "ipython",
    "version": 3
   },
   "file_extension": ".py",
   "mimetype": "text/x-python",
   "name": "python",
   "nbconvert_exporter": "python",
   "pygments_lexer": "ipython3",
   "version": "3.7.4"
  }
 },
 "nbformat": 4,
 "nbformat_minor": 1
}
