{
 "cells": [
  {
   "cell_type": "code",
   "execution_count": 76,
   "metadata": {},
   "outputs": [],
   "source": [
    "import json\n",
    "import numpy as np\n",
    "import matplotlib.pyplot as plt\n",
    "from sklearn.preprocessing import MinMaxScaler\n"
   ]
  },
  {
   "cell_type": "code",
   "execution_count": 75,
   "metadata": {},
   "outputs": [],
   "source": [
    "with open('cam_data.json', 'r') as file:\n",
    "    cam_data = json.load(file)\n",
    "\n",
    "    "
   ]
  },
  {
   "cell_type": "code",
   "execution_count": 76,
   "metadata": {},
   "outputs": [],
   "source": [
    "scaler = MinMaxScaler()\n",
    "cam0 = np.array(list(map(lambda x: scaler.fit_transform(x['0']), cam_data)))\n",
    "cam1 = np.array(list(map(lambda x: scaler.fit_transform(x['1']), cam_data)))"
   ]
  },
  {
   "cell_type": "code",
   "execution_count": null,
   "metadata": {},
   "outputs": [],
   "source": []
  },
  {
   "cell_type": "code",
   "execution_count": 77,
   "metadata": {},
   "outputs": [],
   "source": [
    "cam0_avg = cam0.mean(axis=0).flatten().tolist()\n",
    "cam0_max = cam0.max(axis=0).flatten().tolist()\n",
    "cam1_avg = cam1.mean(axis=0).flatten().tolist()\n",
    "cam1_max = cam1.max(axis=0).flatten().tolist()"
   ]
  },
  {
   "cell_type": "code",
   "execution_count": 78,
   "metadata": {},
   "outputs": [],
   "source": [
    "with open('cam_agregated.json', 'w') as file:\n",
    "    json.dump([\n",
    "        {'avg': cam0_avg, 'max': cam0_max},\n",
    "        {'avg': cam1_avg, 'max': cam1_max},\n",
    "    ], file)"
   ]
  },
  {
   "cell_type": "markdown",
   "metadata": {},
   "source": [
    "### Run predictions"
   ]
  },
  {
   "cell_type": "code",
   "execution_count": 113,
   "metadata": {},
   "outputs": [],
   "source": [
    "from keras.models import load_model, Model\n",
    "import keras.backend as K\n",
    "from keras.layers.core import Lambda\n",
    "import tensorflow as tf"
   ]
  },
  {
   "cell_type": "code",
   "execution_count": 114,
   "metadata": {},
   "outputs": [
    {
     "name": "stdout",
     "output_type": "stream",
     "text": [
      "_________________________________________________________________\n",
      "Layer (type)                 Output Shape              Param #   \n",
      "=================================================================\n",
      "input_1 (InputLayer)         (None, 28, 28, 3)         0         \n",
      "_________________________________________________________________\n",
      "conv2d_1 (Conv2D)            (None, 28, 28, 32)        896       \n",
      "_________________________________________________________________\n",
      "conv2d_2 (Conv2D)            (None, 28, 28, 32)        9248      \n",
      "_________________________________________________________________\n",
      "max_pooling2d_1 (MaxPooling2 (None, 14, 14, 32)        0         \n",
      "_________________________________________________________________\n",
      "flatten_1 (Flatten)          (None, 6272)              0         \n",
      "_________________________________________________________________\n",
      "dense_1 (Dense)              (None, 10)                62730     \n",
      "_________________________________________________________________\n",
      "dense_2 (Dense)              (None, 2)                 22        \n",
      "=================================================================\n",
      "Total params: 72,896\n",
      "Trainable params: 72,896\n",
      "Non-trainable params: 0\n",
      "_________________________________________________________________\n"
     ]
    }
   ],
   "source": [
    "model = load_model('models/model_2.h5')\n",
    "model.summary()"
   ]
  },
  {
   "cell_type": "code",
   "execution_count": 116,
   "metadata": {},
   "outputs": [],
   "source": [
    "%run utils.py"
   ]
  },
  {
   "cell_type": "code",
   "execution_count": 8,
   "metadata": {},
   "outputs": [
    {
     "name": "stdout",
     "output_type": "stream",
     "text": [
      "Generating training data...\n",
      "Interpolating 117/117nterpolating 53/117Interpolating 99/117Interpolating 1/112Interpolating 52/112Interpolating 100/112Interpolating 1/111Interpolating 49/111Interpolating 94/111Interpolating 1/109Interpolating 50/109Interpolating 91/109Interpolating 1/113Interpolating 63/113Interpolating 107/113Interpolating 1/104Interpolating 54/104Interpolating 99/104Interpolating 1/101Interpolating 51/101Interpolating 95/101Interpolating 1/102Interpolating 53/102Interpolating 96/102Interpolating 1/107Interpolating 53/107Interpolating 99/107Interpolating 1/113Interpolating 53/113Interpolating 99/113Interpolating 1/115Interpolating 53/115Interpolating 100/115Interpolating 1/139Interpolating 52/139Interpolating 98/139Interpolating 1/123Interpolating 42/123Interpolating 81/123Interpolating 102/123Interpolating 117/123Interpolating 1/118Interpolating 23/118Interpolating 44/118Interpolating 54/118Interpolating 81/118Interpolating 101/118Interpolating 115/118Interpolating 1/120Interpolating 47/120Interpolating 89/120Interpolating 1/117Interpolating 47/117Interpolating 94/117"
     ]
    }
   ],
   "source": [
    "image_size = 28\n",
    "frame_duration = 1.0\n",
    "overlap = 0.5\n",
    "X, y = make_data_pipeline(file_names,labels,image_size,frame_duration,overlap)"
   ]
  },
  {
   "cell_type": "code",
   "execution_count": 117,
   "metadata": {},
   "outputs": [],
   "source": [
    "predictions = model.predict(X)\n",
    "predictions = np.argmax(predictions, axis=1)"
   ]
  },
  {
   "cell_type": "code",
   "execution_count": 118,
   "metadata": {},
   "outputs": [
    {
     "data": {
      "text/plain": [
       "((1821,), (1821,))"
      ]
     },
     "execution_count": 118,
     "metadata": {},
     "output_type": "execute_result"
    }
   ],
   "source": [
    "predictions.shape, y.shape"
   ]
  },
  {
   "cell_type": "code",
   "execution_count": 119,
   "metadata": {},
   "outputs": [],
   "source": [
    "tp = X[(predictions == y) & (y == 1)]\n",
    "tn = X[(predictions == y) & (y == 0)]\n",
    "fp = X[(predictions != y) & (y == 0)]\n",
    "fn = X[(predictions != y) & (y == 1)]"
   ]
  },
  {
   "cell_type": "code",
   "execution_count": 120,
   "metadata": {},
   "outputs": [
    {
     "data": {
      "text/plain": [
       "(871, 848, 66, 36)"
      ]
     },
     "execution_count": 120,
     "metadata": {},
     "output_type": "execute_result"
    }
   ],
   "source": [
    "tp.shape[0], tn.shape[0], fp.shape[0], fn.shape[0],"
   ]
  },
  {
   "cell_type": "code",
   "execution_count": 121,
   "metadata": {},
   "outputs": [],
   "source": [
    "def target_category_loss(x, category_index, nb_classes):\n",
    "    return tf.multiply(x, K.one_hot([category_index], nb_classes))\n",
    "\n",
    "def target_category_loss_output_shape(input_shape):\n",
    "    return input_shape\n",
    "\n",
    "def normalize(x):\n",
    "    # utility function to normalize a tensor by its L2 norm\n",
    "    return x / (K.sqrt(K.mean(K.square(x))) + 1e-5)\n",
    "\n",
    "def naive_cam(input_model, images):\n",
    "    conv_output = model.layers[2].output \n",
    "    cam_extractor = K.function([model.input], [conv_output])\n",
    "    cam = cam_extractor([images])\n",
    "    cam = cam[0]\n",
    "    cam = np.maximum(cam, 0)\n",
    "    cam = np.mean(cam, axis=3)\n",
    "    cam = np.mean(cam, axis=0)\n",
    "    heatmap = cam / np.max(cam)\n",
    "    return cam, heatmap\n",
    "\n",
    "def grad_cam(input_model, images, category_index):\n",
    "    nb_classes = 2\n",
    "    target_layer = lambda x: target_category_loss(x, category_index, nb_classes)\n",
    "    last = Lambda(target_layer, output_shape=target_category_loss_output_shape)(input_model.output)\n",
    "    model = Model(inputs=input_model.input, outputs=last)\n",
    "    loss = K.sum(model.layers[-1].output)\n",
    "    conv_output = model.layers[2].output\n",
    "    grads = normalize(K.gradients(loss, conv_output)[0])\n",
    "    \n",
    "    gradient_function = K.function([model.layers[0].input], [conv_output, grads])\n",
    "    \n",
    "    output, grads_val = gradient_function([images])\n",
    "    output, grads_val = output[0, :], grads_val[0, :, :, :]\n",
    "\n",
    "    weights = np.mean(grads_val, axis = (0, 1))\n",
    "    cam = np.ones(output.shape[0 : 2], dtype = np.float32)\n",
    "\n",
    "    for i, w in enumerate(weights):\n",
    "        cam += w * output[:, :, i]\n",
    "\n",
    "    cam = np.maximum(cam, 0)\n",
    "    heatmap = cam / np.max(cam)\n",
    "    scaler = MinMaxScaler()\n",
    "    \n",
    "\n",
    "    return cam, heatmap\n"
   ]
  },
  {
   "cell_type": "code",
   "execution_count": 134,
   "metadata": {},
   "outputs": [],
   "source": [
    "tp_cam, tp_heat = naive_cam(model, tp)\n",
    "tn_cam, tn_heat = naive_cam(model, tn)\n",
    "fp_cam, fp_heat = naive_cam(model, fp)\n",
    "fn_cam, fn_heat = naive_cam(model, fn)"
   ]
  },
  {
   "cell_type": "code",
   "execution_count": 135,
   "metadata": {},
   "outputs": [
    {
     "data": {
      "text/plain": [
       "array([[0.04378912, 0.05170663, 0.05170663, 0.05170663, 0.05170663,\n",
       "        0.05170663, 0.05170663, 0.06695658, 0.12156811, 0.17940971,\n",
       "        0.25927743, 0.32844135, 0.3436549 , 0.34585285, 0.36080226,\n",
       "        0.3656646 , 0.3401665 , 0.26426873, 0.16343482, 0.08352603,\n",
       "        0.05937237, 0.05170663, 0.05170663, 0.05170663, 0.05170663,\n",
       "        0.05170663, 0.05170663, 0.0423391 ],\n",
       "       [0.04471947, 0.04822186, 0.04822186, 0.04822186, 0.04822186,\n",
       "        0.04822186, 0.06924836, 0.11730471, 0.16455495, 0.2444062 ,\n",
       "        0.3330559 , 0.3831733 , 0.41298681, 0.43018454, 0.43995667,\n",
       "        0.44895318, 0.4426713 , 0.38199386, 0.27919126, 0.15666077,\n",
       "        0.08234721, 0.05902914, 0.04822186, 0.04822186, 0.04822186,\n",
       "        0.04822186, 0.04822186, 0.0361186 ],\n",
       "       [0.04471947, 0.04822186, 0.04822186, 0.04822186, 0.04822186,\n",
       "        0.07421067, 0.13214591, 0.19972694, 0.26930156, 0.34289938,\n",
       "        0.37877202, 0.40929198, 0.41663772, 0.42461982, 0.42924532,\n",
       "        0.44105956, 0.43666932, 0.42389125, 0.36165878, 0.27083987,\n",
       "        0.15835062, 0.09054553, 0.06159475, 0.04822186, 0.04822186,\n",
       "        0.04822186, 0.04822186, 0.0361186 ],\n",
       "       [0.04471947, 0.04822186, 0.04822186, 0.04822186, 0.04822186,\n",
       "        0.11323544, 0.23479787, 0.3090369 , 0.38912326, 0.42804915,\n",
       "        0.43564555, 0.4132121 , 0.39594567, 0.38221776, 0.38158578,\n",
       "        0.39070857, 0.4062477 , 0.41266456, 0.41492   , 0.3592084 ,\n",
       "        0.26618916, 0.12711073, 0.07650534, 0.04822186, 0.04822186,\n",
       "        0.04822186, 0.04822186, 0.0361186 ],\n",
       "       [0.04471947, 0.04822186, 0.04822186, 0.04822186, 0.07535359,\n",
       "        0.19935928, 0.32298428, 0.4143895 , 0.47795194, 0.4969043 ,\n",
       "        0.4534489 , 0.41369626, 0.38319272, 0.36828184, 0.36498448,\n",
       "        0.36977515, 0.38292414, 0.4055172 , 0.4227834 , 0.4120226 ,\n",
       "        0.35810542, 0.21612519, 0.10567549, 0.0621349 , 0.04822186,\n",
       "        0.04822186, 0.04822186, 0.0361186 ],\n",
       "       [0.04471947, 0.04822186, 0.04822186, 0.07600602, 0.14717582,\n",
       "        0.2879474 , 0.3866461 , 0.48711213, 0.5332055 , 0.51260126,\n",
       "        0.45518547, 0.4100508 , 0.38404343, 0.3711306 , 0.36723658,\n",
       "        0.36869648, 0.37559378, 0.39212123, 0.4222207 , 0.43465856,\n",
       "        0.40256542, 0.317098  , 0.18245313, 0.09963024, 0.06295389,\n",
       "        0.04822186, 0.04822186, 0.0361186 ],\n",
       "       [0.04471947, 0.04822186, 0.04822186, 0.11691339, 0.2665229 ,\n",
       "        0.37173572, 0.48790818, 0.5494831 , 0.54820365, 0.5124487 ,\n",
       "        0.4538363 , 0.4160992 , 0.3966451 , 0.3891657 , 0.3875449 ,\n",
       "        0.38741446, 0.38829982, 0.39400467, 0.41283494, 0.43567953,\n",
       "        0.4426259 , 0.39334434, 0.29525337, 0.14218932, 0.07982651,\n",
       "        0.04822186, 0.04822186, 0.0361186 ],\n",
       "       [0.04471947, 0.04822186, 0.07065083, 0.20551343, 0.34445184,\n",
       "        0.4483158 , 0.54129106, 0.58155966, 0.54977965, 0.5023032 ,\n",
       "        0.4584145 , 0.4321335 , 0.42202643, 0.4219745 , 0.42500803,\n",
       "        0.42594883, 0.42307758, 0.4185876 , 0.42036718, 0.4372561 ,\n",
       "        0.45944124, 0.44213408, 0.38375193, 0.22738796, 0.11080439,\n",
       "        0.0603956 , 0.04822186, 0.0361186 ],\n",
       "       [0.04471947, 0.04822186, 0.10584479, 0.27416888, 0.3717996 ,\n",
       "        0.4836453 , 0.56628525, 0.5770271 , 0.53930736, 0.49550688,\n",
       "        0.46479365, 0.45349446, 0.45526975, 0.46497557, 0.4748783 ,\n",
       "        0.4801267 , 0.47759283, 0.46666846, 0.45234913, 0.4484759 ,\n",
       "        0.4662559 , 0.4670686 , 0.41535375, 0.30560198, 0.1502532 ,\n",
       "        0.07489312, 0.04822186, 0.0361186 ],\n",
       "       [0.04471947, 0.06437917, 0.17836303, 0.30739775, 0.41081342,\n",
       "        0.5026943 , 0.5635033 , 0.570409  , 0.5404459 , 0.5005649 ,\n",
       "        0.47312906, 0.47273704, 0.48924005, 0.50997484, 0.5286509 ,\n",
       "        0.5406109 , 0.5421209 , 0.53051037, 0.5062302 , 0.4798666 ,\n",
       "        0.47025102, 0.4718572 , 0.4331293 , 0.36453384, 0.2178433 ,\n",
       "        0.1016283 , 0.05760837, 0.0361186 ],\n",
       "       [0.05969511, 0.11681306, 0.23421828, 0.32344878, 0.42171255,\n",
       "        0.52004963, 0.5805721 , 0.59238315, 0.5731013 , 0.5281632 ,\n",
       "        0.49024656, 0.48914957, 0.51626146, 0.5496317 , 0.578546  ,\n",
       "        0.59910405, 0.6072866 , 0.5991498 , 0.5726272 , 0.5317703 ,\n",
       "        0.4937716 , 0.47504276, 0.4469726 , 0.38857827, 0.28308842,\n",
       "        0.15556768, 0.08626175, 0.04839261],\n",
       "       [0.09126657, 0.19091873, 0.28594336, 0.36464217, 0.45063186,\n",
       "        0.547816  , 0.62252396, 0.65036714, 0.63511795, 0.5804466 ,\n",
       "        0.52399737, 0.50666994, 0.5335286 , 0.578092  , 0.6188394 ,\n",
       "        0.6492907 , 0.6659553 , 0.664784  , 0.6410743 , 0.5955424 ,\n",
       "        0.53833985, 0.49122784, 0.45799854, 0.41642168, 0.34616387,\n",
       "        0.23954868, 0.12651327, 0.06266098],\n",
       "       [0.15608452, 0.25493133, 0.33141926, 0.4064091 , 0.5047133 ,\n",
       "        0.607025  , 0.6922461 , 0.7343262 , 0.7177948 , 0.6523283 ,\n",
       "        0.5760324 , 0.53233516, 0.5441017 , 0.59189236, 0.6450463 ,\n",
       "        0.68695146, 0.7134877 , 0.7209302 , 0.7041624 , 0.6603751 ,\n",
       "        0.59607524, 0.52615714, 0.4714643 , 0.44060072, 0.38977665,\n",
       "        0.32586896, 0.19374128, 0.09611839],\n",
       "       [0.21139075, 0.30846018, 0.3818883 , 0.46366856, 0.57085925,\n",
       "        0.68231684, 0.7795933 , 0.8263583 , 0.8073795 , 0.734038  ,\n",
       "        0.64121187, 0.5700315 , 0.55438554, 0.59218246, 0.65302384,\n",
       "        0.7077891 , 0.7458921 , 0.76333183, 0.75571865, 0.71860087,\n",
       "        0.65544873, 0.5759986 , 0.5009206 , 0.45698306, 0.42371517,\n",
       "        0.36257696, 0.26733708, 0.1395484 ],\n",
       "       [0.2628151 , 0.3762739 , 0.4421759 , 0.53317577, 0.6452774 ,\n",
       "        0.7644634 , 0.86592364, 0.9102415 , 0.8882139 , 0.8114978 ,\n",
       "        0.70924026, 0.6173127 , 0.5706131 , 0.5854701 , 0.6420119 ,\n",
       "        0.7075883 , 0.7590443 , 0.78828996, 0.7913709 , 0.7640232 ,\n",
       "        0.7077679 , 0.62899804, 0.542519  , 0.47905827, 0.452412  ,\n",
       "        0.39688778, 0.34355363, 0.2050672 ],\n",
       "       [0.2945274 , 0.42656687, 0.5053905 , 0.6067956 , 0.71294576,\n",
       "        0.83461785, 0.9326538 , 0.9717958 , 0.9475067 , 0.87147826,\n",
       "        0.7668517 , 0.66450924, 0.5930355 , 0.5781203 , 0.6175789 ,\n",
       "        0.6851254 , 0.748589  , 0.7920584 , 0.8072262 , 0.79164684,\n",
       "        0.74622273, 0.67408186, 0.5867186 , 0.51032925, 0.47864562,\n",
       "        0.4338496 , 0.37284264, 0.25113073],\n",
       "       [0.297257  , 0.43325672, 0.5410364 , 0.647961  , 0.75602835,\n",
       "        0.8745991 , 0.9655002 , 1.        , 0.9752373 , 0.9028969 ,\n",
       "        0.8028127 , 0.6989569 , 0.61439556, 0.573565  , 0.5884252 ,\n",
       "        0.64458644, 0.71387136, 0.7702341 , 0.80000335, 0.79783106,\n",
       "        0.7650876 , 0.7021319 , 0.61968565, 0.5403609 , 0.496627  ,\n",
       "        0.44490623, 0.37546176, 0.2671432 ],\n",
       "       [0.2653339 , 0.40681812, 0.5458414 , 0.6597093 , 0.7629947 ,\n",
       "        0.8723875 , 0.9559663 , 0.9869277 , 0.96384054, 0.89856887,\n",
       "        0.8080855 , 0.7102704 , 0.62318546, 0.5669181 , 0.5585392 ,\n",
       "        0.59616506, 0.66011626, 0.7234247 , 0.7666317 , 0.77954113,\n",
       "        0.75934   , 0.7060636 , 0.6298267 , 0.55629385, 0.49727306,\n",
       "        0.4313319 , 0.35300282, 0.2423964 ],\n",
       "       [0.21529566, 0.37110105, 0.52116656, 0.6378852 , 0.73624915,\n",
       "        0.8274973 , 0.89997494, 0.9251827 , 0.90372145, 0.8470084 ,\n",
       "        0.7688501 , 0.68231064, 0.6011992 , 0.54191345, 0.5216283 ,\n",
       "        0.54421127, 0.59800285, 0.66070837, 0.71024716, 0.73541564,\n",
       "        0.7263752 , 0.68044645, 0.6138814 , 0.5568158 , 0.48631397,\n",
       "        0.409031  , 0.29291645, 0.18801513],\n",
       "       [0.19349563, 0.32729524, 0.4927595 , 0.60006785, 0.68019634,\n",
       "        0.74807006, 0.79983336, 0.8121081 , 0.7883971 , 0.7390777 ,\n",
       "        0.67495966, 0.60427123, 0.5396957 , 0.4948835 , 0.48257464,\n",
       "        0.5059742 , 0.5532121 , 0.6074582 , 0.65189725, 0.6763156 ,\n",
       "        0.6659486 , 0.6288883 , 0.57905334, 0.5415507 , 0.47535348,\n",
       "        0.3846252 , 0.2732003 , 0.1373615 ],\n",
       "       [0.14992553, 0.29832897, 0.4441551 , 0.56143993, 0.6210009 ,\n",
       "        0.64854103, 0.66543   , 0.6594142 , 0.63389367, 0.6005879 ,\n",
       "        0.56320447, 0.52800834, 0.5018054 , 0.49043864, 0.497694  ,\n",
       "        0.5236987 , 0.55294144, 0.5802561 , 0.60524184, 0.61675805,\n",
       "        0.5970027 , 0.5683936 , 0.54259855, 0.5145331 , 0.45539442,\n",
       "        0.36844137, 0.25133562, 0.11209758],\n",
       "       [0.10447588, 0.22777057, 0.37004158, 0.49965706, 0.5683658 ,\n",
       "        0.55145013, 0.53287655, 0.51657224, 0.5157814 , 0.52739906,\n",
       "        0.5457549 , 0.56207824, 0.5742376 , 0.579598  , 0.5832896 ,\n",
       "        0.58643115, 0.5952354 , 0.5982481 , 0.5890856 , 0.5712446 ,\n",
       "        0.5395862 , 0.51820725, 0.51480645, 0.47439006, 0.41560638,\n",
       "        0.30882734, 0.20204757, 0.07694233],\n",
       "       [0.06199959, 0.17629716, 0.29732433, 0.41351226, 0.49470752,\n",
       "        0.5054528 , 0.4583776 , 0.45820406, 0.5077816 , 0.5784745 ,\n",
       "        0.63922554, 0.67655104, 0.6837024 , 0.66459   , 0.6504175 ,\n",
       "        0.64613444, 0.6461374 , 0.63472545, 0.5995617 , 0.5536402 ,\n",
       "        0.5135238 , 0.49192822, 0.4779295 , 0.42773473, 0.3596501 ,\n",
       "        0.25725773, 0.14049624, 0.05423866],\n",
       "       [0.04471947, 0.10705815, 0.19475032, 0.31679636, 0.40439215,\n",
       "        0.4856347 , 0.47006688, 0.49335444, 0.57128304, 0.66230285,\n",
       "        0.72945553, 0.75965863, 0.7478546 , 0.7002144 , 0.6569853 ,\n",
       "        0.6393392 , 0.6443734 , 0.64692116, 0.6172947 , 0.5667756 ,\n",
       "        0.5226044 , 0.48567206, 0.44049644, 0.373005  , 0.27114826,\n",
       "        0.18330067, 0.08470888, 0.0361186 ],\n",
       "       [0.04471947, 0.06531797, 0.12491877, 0.20803133, 0.32257462,\n",
       "        0.43293604, 0.51480263, 0.5498015 , 0.62949085, 0.7125478 ,\n",
       "        0.77891874, 0.81463623, 0.811422  , 0.77307886, 0.71437085,\n",
       "        0.6679583 , 0.65077645, 0.65139806, 0.63991666, 0.6106909 ,\n",
       "        0.565481  , 0.4952287 , 0.4150605 , 0.2902869 , 0.18953772,\n",
       "        0.10268105, 0.06416559, 0.0361186 ],\n",
       "       [0.04471947, 0.04822186, 0.06173996, 0.1367227 , 0.24461915,\n",
       "        0.36207873, 0.5080095 , 0.61850446, 0.6868364 , 0.7579171 ,\n",
       "        0.7970079 , 0.8207423 , 0.82722604, 0.82027775, 0.79405844,\n",
       "        0.74833024, 0.70911777, 0.6939004 , 0.6905199 , 0.6774393 ,\n",
       "        0.60642797, 0.51444876, 0.40283844, 0.2365579 , 0.12042868,\n",
       "        0.05999676, 0.04822186, 0.0361186 ],\n",
       "       [0.04471947, 0.04822186, 0.04822186, 0.08656051, 0.17111039,\n",
       "        0.3029174 , 0.44122833, 0.5903909 , 0.6655189 , 0.708902  ,\n",
       "        0.7251321 , 0.7313045 , 0.73059094, 0.72874206, 0.72714025,\n",
       "        0.7221975 , 0.7093052 , 0.69076014, 0.68822   , 0.6607145 ,\n",
       "        0.605375  , 0.5075235 , 0.3370573 , 0.18694565, 0.08339716,\n",
       "        0.04822186, 0.04822186, 0.0361186 ],\n",
       "       [0.03887356, 0.04628371, 0.04628371, 0.05638253, 0.11068461,\n",
       "        0.20644383, 0.32828876, 0.43740338, 0.51200235, 0.53844595,\n",
       "        0.5370347 , 0.53337514, 0.5285464 , 0.5263376 , 0.5277945 ,\n",
       "        0.53043514, 0.53529465, 0.53974456, 0.5407225 , 0.52487886,\n",
       "        0.47739068, 0.374428  , 0.24540745, 0.11642081, 0.0588299 ,\n",
       "        0.04628371, 0.04628371, 0.0344263 ]], dtype=float32)"
      ]
     },
     "execution_count": 135,
     "metadata": {},
     "output_type": "execute_result"
    }
   ],
   "source": [
    "tp_heat"
   ]
  },
  {
   "cell_type": "code",
   "execution_count": 136,
   "metadata": {},
   "outputs": [
    {
     "data": {
      "image/png": "[encoded data removed]",
      "text/plain": [
       "<Figure size 576x576 with 4 Axes>"
      ]
     },
     "metadata": {
      "needs_background": "light"
     },
     "output_type": "display_data"
    }
   ],
   "source": [
    "fig= plt.figure(figsize=(8, 8))\n",
    "rows = 2\n",
    "cols = 2\n",
    "\n",
    "fig.add_subplot(rows, cols, 1)\n",
    "plt.imshow(tp_heat, cmap='jet')\n",
    "plt.title('TP')\n",
    "\n",
    "fig.add_subplot(rows, cols, 2)\n",
    "plt.imshow(tn_heat, cmap='jet')\n",
    "plt.title('TN')\n",
    "\n",
    "fig.add_subplot(rows, cols, 3)\n",
    "plt.imshow(fp_heat, cmap='jet')\n",
    "plt.title('FP')\n",
    "\n",
    "fig.add_subplot(rows, cols, 4)\n",
    "plt.imshow(fn_heat, cmap='jet')\n",
    "plt.title('FN')\n",
    "plt.show()"
   ]
  },
  {
   "cell_type": "code",
   "execution_count": 126,
   "metadata": {},
   "outputs": [],
   "source": [
    "tp_cam, tp_heat = grad_cam(model, tp, 1)\n",
    "tn_cam, tn_heat = grad_cam(model, tn, 0)\n",
    "fp_cam, fp_heat = grad_cam(model, fp, 1)\n",
    "fn_cam, fn_heat = grad_cam(model, fn, 0)"
   ]
  },
  {
   "cell_type": "code",
   "execution_count": 129,
   "metadata": {},
   "outputs": [
    {
     "data": {
      "text/plain": [
       "array([[0.9985829 , 0.9985706 , 0.9985706 , 0.9985706 , 0.9985706 ,\n",
       "        0.9985706 , 0.9985706 , 0.99859816, 0.99861246, 0.99869907,\n",
       "        0.9989173 , 0.9992089 , 0.9992581 , 0.9991707 , 0.99893653,\n",
       "        0.9986955 , 0.9987047 , 0.99879026, 0.9987313 , 0.998648  ,\n",
       "        0.9986449 , 0.9985706 , 0.9985706 , 0.9985706 , 0.9985706 ,\n",
       "        0.9985706 , 0.9985706 , 0.9986151 ],\n",
       "       [0.99860334, 0.99856204, 0.99856204, 0.99856204, 0.99856204,\n",
       "        0.99856204, 0.99858415, 0.99855614, 0.9986174 , 0.9985028 ,\n",
       "        0.9987844 , 0.9992329 , 0.9992887 , 0.99918395, 0.99903893,\n",
       "        0.99902046, 0.9988217 , 0.9988074 , 0.9988626 , 0.9987381 ,\n",
       "        0.998677  , 0.9986486 , 0.99856204, 0.99856204, 0.99856204,\n",
       "        0.99856204, 0.99856204, 0.9985964 ],\n",
       "       [0.99860334, 0.99856204, 0.99856204, 0.99856204, 0.99856204,\n",
       "        0.9985851 , 0.9985627 , 0.9986046 , 0.99847096, 0.9985616 ,\n",
       "        0.99880284, 0.99893963, 0.99895155, 0.9988901 , 0.9988674 ,\n",
       "        0.9989437 , 0.9989217 , 0.9988626 , 0.99893594, 0.9989519 ,\n",
       "        0.99878585, 0.99871415, 0.998656  , 0.99856204, 0.99856204,\n",
       "        0.99856204, 0.99856204, 0.9985964 ],\n",
       "       [0.99860334, 0.99856204, 0.99856204, 0.99856204, 0.99856204,\n",
       "        0.998581  , 0.9985429 , 0.9983633 , 0.99849063, 0.9985192 ,\n",
       "        0.9985619 , 0.99862814, 0.99866337, 0.99871117, 0.9987532 ,\n",
       "        0.9988483 , 0.9988939 , 0.99894977, 0.99896705, 0.99900526,\n",
       "        0.9990251 , 0.99872607, 0.9986826 , 0.99856204, 0.99856204,\n",
       "        0.99856204, 0.99856204, 0.9985964 ],\n",
       "       [0.99860334, 0.99856204, 0.99856204, 0.99856204, 0.9985799 ,\n",
       "        0.998511  , 0.9983421 , 0.9982973 , 0.9984004 , 0.998456  ,\n",
       "        0.9985142 , 0.9985513 , 0.9985846 , 0.9986335 , 0.99870396,\n",
       "        0.9988    , 0.9988406 , 0.9988999 , 0.9989769 , 0.9990561 ,\n",
       "        0.99912715, 0.9988749 , 0.998745  , 0.9986486 , 0.99856204,\n",
       "        0.99856204, 0.99856204, 0.9985964 ],\n",
       "       [0.99860334, 0.99856204, 0.99856204, 0.9985828 , 0.9985479 ,\n",
       "        0.9983632 , 0.998216  , 0.9983577 , 0.99846125, 0.9985821 ,\n",
       "        0.998599  , 0.99860704, 0.9986214 , 0.9986593 , 0.9986843 ,\n",
       "        0.99873334, 0.99876225, 0.9988187 , 0.9988832 , 0.99897915,\n",
       "        0.9991162 , 0.99906474, 0.99881154, 0.9987107 , 0.9986461 ,\n",
       "        0.99856204, 0.99856204, 0.9985964 ],\n",
       "       [0.99860334, 0.99856204, 0.99856204, 0.9985814 , 0.99845886,\n",
       "        0.9981019 , 0.9982782 , 0.99845755, 0.9985414 , 0.9986787 ,\n",
       "        0.9986857 , 0.9986701 , 0.9986329 , 0.99860996, 0.9986293 ,\n",
       "        0.998653  , 0.9987239 , 0.998762  , 0.99880546, 0.9988638 ,\n",
       "        0.9989893 , 0.9990718 , 0.99901414, 0.99872977, 0.99867165,\n",
       "        0.99856204, 0.99856204, 0.9985964 ],\n",
       "       [0.99860334, 0.99856204, 0.9985848 , 0.99851   , 0.9982315 ,\n",
       "        0.9982485 , 0.998417  , 0.99852234, 0.9984681 , 0.99851435,\n",
       "        0.99857324, 0.99860597, 0.9985781 , 0.99857914, 0.99860924,\n",
       "        0.99864095, 0.9986874 , 0.99874634, 0.9987498 , 0.9987975 ,\n",
       "        0.99884415, 0.9989443 , 0.9990517 , 0.9988426 , 0.99875087,\n",
       "        0.9986253 , 0.99856204, 0.9985964 ],\n",
       "       [0.99860334, 0.99856204, 0.9985909 , 0.99841744, 0.99823964,\n",
       "        0.99836826, 0.9985307 , 0.99854755, 0.9984004 , 0.9983197 ,\n",
       "        0.9984345 , 0.99853194, 0.9985471 , 0.99855715, 0.99857914,\n",
       "        0.99861777, 0.9986665 , 0.9987558 , 0.9988187 , 0.9987769 ,\n",
       "        0.99876034, 0.9987886 , 0.9988883 , 0.9989149 , 0.99870855,\n",
       "        0.99864155, 0.99856204, 0.9985964 ],\n",
       "       [0.99860334, 0.9985864 , 0.998535  , 0.9983134 , 0.99836314,\n",
       "        0.99861044, 0.9985766 , 0.99848187, 0.9984641 , 0.99827886,\n",
       "        0.9982146 , 0.9983831 , 0.9984855 , 0.99852264, 0.9985263 ,\n",
       "        0.99856156, 0.9986171 , 0.9986937 , 0.9988006 , 0.99885976,\n",
       "        0.99879795, 0.9986867 , 0.9987656 , 0.99885666, 0.9987638 ,\n",
       "        0.998685  , 0.9985953 , 0.9985964 ],\n",
       "       [0.99863064, 0.99860394, 0.99840707, 0.9983103 , 0.9985203 ,\n",
       "        0.99862605, 0.998573  , 0.9985387 , 0.9986623 , 0.9985375 ,\n",
       "        0.9981673 , 0.9981658 , 0.9983582 , 0.9984517 , 0.99847364,\n",
       "        0.9984883 , 0.9985452 , 0.99861556, 0.99872285, 0.998842  ,\n",
       "        0.99887216, 0.9987505 , 0.9986519 , 0.9987344 , 0.9987355 ,\n",
       "        0.99862725, 0.99862367, 0.99858963],\n",
       "       [0.9986411 , 0.9985535 , 0.99843645, 0.99857634, 0.9986185 ,\n",
       "        0.99862397, 0.9987036 , 0.99888206, 0.99893594, 0.9989124 ,\n",
       "        0.99848884, 0.99809325, 0.9981938 , 0.9983319 , 0.9984064 ,\n",
       "        0.99842286, 0.998453  , 0.9985302 , 0.9986234 , 0.9987521 ,\n",
       "        0.9988675 , 0.9988531 , 0.9986605 , 0.99857295, 0.99870455,\n",
       "        0.99869895, 0.99861145, 0.99863213],\n",
       "       [0.9985851 , 0.9984604 , 0.9986407 , 0.9986807 , 0.9987643 ,\n",
       "        0.9987456 , 0.99895513, 0.99929774, 0.9992668 , 0.9991363 ,\n",
       "        0.99895835, 0.99833906, 0.99811596, 0.9981926 , 0.9983015 ,\n",
       "        0.99835557, 0.9983733 , 0.99842924, 0.9985202 , 0.9986352 ,\n",
       "        0.99876153, 0.99884033, 0.99874955, 0.99861246, 0.99869895,\n",
       "        0.9987831 , 0.9985953 , 0.99866277],\n",
       "       [0.9985406 , 0.998638  , 0.9987836 , 0.99881166, 0.99880487,\n",
       "        0.9989673 , 0.9993331 , 0.9995769 , 0.9995543 , 0.9993659 ,\n",
       "        0.9991855 , 0.9987287 , 0.99816567, 0.99811816, 0.998173  ,\n",
       "        0.99826247, 0.9983015 , 0.9983317 , 0.99841887, 0.9985134 ,\n",
       "        0.99863267, 0.9987029 , 0.99870014, 0.99866605, 0.9986591 ,\n",
       "        0.9987157 , 0.9986617 , 0.9986355 ],\n",
       "       [0.9985194 , 0.9989656 , 0.99878407, 0.99883085, 0.99899405,\n",
       "        0.99922216, 0.9996734 , 0.99977225, 0.9997475 , 0.9995631 ,\n",
       "        0.99933475, 0.99916524, 0.9984513 , 0.9980908 , 0.9980951 ,\n",
       "        0.9981416 , 0.9982144 , 0.99824697, 0.99830645, 0.9983958 ,\n",
       "        0.99849224, 0.9985682 , 0.9985715 , 0.99858505, 0.99867475,\n",
       "        0.99858725, 0.9985182 , 0.9987121 ],\n",
       "       [0.9985649 , 0.9989943 , 0.9988433 , 0.99893403, 0.9991788 ,\n",
       "        0.9995298 , 0.9998112 , 0.99992037, 0.9998907 , 0.99971604,\n",
       "        0.99948263, 0.9992238 , 0.9988372 , 0.99822885, 0.9980666 ,\n",
       "        0.9980584 , 0.99810326, 0.9981632 , 0.99821043, 0.99829346,\n",
       "        0.99836814, 0.99845004, 0.9984705 , 0.9984801 , 0.99864346,\n",
       "        0.9985314 , 0.9985135 , 0.9987874 ],\n",
       "       [0.9986695 , 0.9989568 , 0.998885  , 0.9990694 , 0.9994171 ,\n",
       "        0.99974585, 0.9998932 , 1.        , 0.99996763, 0.9998064 ,\n",
       "        0.9995762 , 0.9993173 , 0.99914145, 0.9985053 , 0.9980731 ,\n",
       "        0.9980396 , 0.9980158 , 0.9980596 , 0.9981191 , 0.9981858 ,\n",
       "        0.99825835, 0.99833995, 0.99839354, 0.99844515, 0.99864286,\n",
       "        0.99841714, 0.9984422 , 0.9987077 ],\n",
       "       [0.99876213, 0.9988373 , 0.9989794 , 0.99913204, 0.9995425 ,\n",
       "        0.9997985 , 0.99990976, 0.99997985, 0.9999623 , 0.9998324 ,\n",
       "        0.9996155 , 0.9993752 , 0.9991537 , 0.9987745 , 0.9982316 ,\n",
       "        0.9980575 , 0.99802345, 0.99799603, 0.9980197 , 0.99809545,\n",
       "        0.99813914, 0.9981881 , 0.99827456, 0.99841464, 0.9986622 ,\n",
       "        0.9984674 , 0.99849105, 0.99883765],\n",
       "       [0.9988125 , 0.9987139 , 0.99901325, 0.9991762 , 0.9994689 ,\n",
       "        0.999727  , 0.999849  , 0.99989057, 0.9998686 , 0.9997601 ,\n",
       "        0.99956846, 0.9993425 , 0.9991361 , 0.9988964 , 0.9983189 ,\n",
       "        0.9980521 , 0.99803776, 0.9980167 , 0.9980058 , 0.9980325 ,\n",
       "        0.99806315, 0.9980798 , 0.99819034, 0.9983735 , 0.99853736,\n",
       "        0.9983199 , 0.9986967 , 0.9989325 ],\n",
       "       [0.9987239 , 0.99859756, 0.9990195 , 0.99903035, 0.9992631 ,\n",
       "        0.9995174 , 0.9996763 , 0.99972296, 0.9997036 , 0.999585  ,\n",
       "        0.99940985, 0.9991805 , 0.9989395 , 0.998706  , 0.9982662 ,\n",
       "        0.99818933, 0.9981992 , 0.99818456, 0.99814427, 0.9980772 ,\n",
       "        0.9979977 , 0.9979982 , 0.9981187 , 0.99839634, 0.9985017 ,\n",
       "        0.99847895, 0.9986732 , 0.9988362 ],\n",
       "       [0.9985748 , 0.998665  , 0.99888676, 0.9988918 , 0.9989714 ,\n",
       "        0.9992549 , 0.9994219 , 0.9994516 , 0.99937344, 0.99920213,\n",
       "        0.99897903, 0.9987357 , 0.99871236, 0.9987004 , 0.9985754 ,\n",
       "        0.9986415 , 0.99866074, 0.99859905, 0.99837524, 0.9981864 ,\n",
       "        0.9980302 , 0.99797285, 0.9981386 , 0.9985723 , 0.99853927,\n",
       "        0.9985682 , 0.99883324, 0.99880654],\n",
       "       [0.99866843, 0.9987538 , 0.99851835, 0.99891955, 0.9988421 ,\n",
       "        0.99894226, 0.9990448 , 0.9990195 , 0.9988508 , 0.99867463,\n",
       "        0.9986265 , 0.9988002 , 0.99887013, 0.9989321 , 0.9990764 ,\n",
       "        0.9991556 , 0.9990024 , 0.998722  , 0.9983793 , 0.99815595,\n",
       "        0.9980336 , 0.99801016, 0.9982682 , 0.9986605 , 0.998572  ,\n",
       "        0.99868894, 0.99891573, 0.9987664 ],\n",
       "       [0.9986845 , 0.9985711 , 0.99863696, 0.998767  , 0.99864537,\n",
       "        0.9987843 , 0.99872893, 0.9986531 , 0.99856216, 0.9984913 ,\n",
       "        0.9986443 , 0.99881166, 0.9990243 , 0.9991806 , 0.99914867,\n",
       "        0.99894166, 0.99870443, 0.99859923, 0.99841934, 0.9981695 ,\n",
       "        0.9980384 , 0.9981105 , 0.9985339 , 0.99871105, 0.99862844,\n",
       "        0.99883157, 0.9988174 , 0.9987089 ],\n",
       "       [0.99860334, 0.99862844, 0.99867547, 0.99849623, 0.99867356,\n",
       "        0.9986009 , 0.9986844 , 0.99855936, 0.99849385, 0.99850076,\n",
       "        0.9985722 , 0.99885964, 0.9990943 , 0.9991089 , 0.9990811 ,\n",
       "        0.9988281 , 0.9986782 , 0.9986663 , 0.9986087 , 0.9983423 ,\n",
       "        0.998159  , 0.9982287 , 0.99856895, 0.9988212 , 0.9988249 ,\n",
       "        0.99885845, 0.9987695 , 0.9985964 ],\n",
       "       [0.99860334, 0.9986443 , 0.9986298 , 0.9985789 , 0.9984415 ,\n",
       "        0.9986404 , 0.99850005, 0.99841005, 0.9984983 , 0.99846005,\n",
       "        0.9984033 , 0.99837464, 0.99855417, 0.9987583 , 0.99901986,\n",
       "        0.9989443 , 0.9988193 , 0.9988889 , 0.9987705 , 0.9984796 ,\n",
       "        0.9982858 , 0.99826354, 0.99861467, 0.99889237, 0.9988839 ,\n",
       "        0.9988038 , 0.99870193, 0.9985964 ],\n",
       "       [0.99860334, 0.99856204, 0.9986167 , 0.9986169 , 0.9985543 ,\n",
       "        0.9986775 , 0.99900204, 0.99888974, 0.9988355 , 0.9988032 ,\n",
       "        0.99861   , 0.9984435 , 0.9981221 , 0.99812335, 0.9983367 ,\n",
       "        0.9985049 , 0.9985633 , 0.9986041 , 0.9985729 , 0.99860364,\n",
       "        0.99839795, 0.99842334, 0.99871033, 0.99891084, 0.9988318 ,\n",
       "        0.9986622 , 0.99856204, 0.9985964 ],\n",
       "       [0.99860334, 0.99856204, 0.99856204, 0.99858636, 0.9986109 ,\n",
       "        0.9986105 , 0.9989499 , 0.99930847, 0.99938595, 0.9993714 ,\n",
       "        0.9992483 , 0.999165  , 0.9990542 , 0.9987031 , 0.998324  ,\n",
       "        0.998187  , 0.99825686, 0.99838096, 0.9983878 , 0.99844855,\n",
       "        0.99850076, 0.9985519 , 0.9987817 , 0.9988415 , 0.99874145,\n",
       "        0.99856204, 0.99856204, 0.9985964 ],\n",
       "       [0.99861526, 0.99861276, 0.99861276, 0.99861556, 0.998638  ,\n",
       "        0.9987449 , 0.9989562 , 0.99929225, 0.99947524, 0.99949735,\n",
       "        0.9994193 , 0.9993362 , 0.9992235 , 0.9991606 , 0.9989845 ,\n",
       "        0.99877596, 0.9985534 , 0.99842435, 0.9984064 , 0.9984958 ,\n",
       "        0.99868524, 0.99872214, 0.9988132 , 0.9987714 , 0.9986762 ,\n",
       "        0.99861276, 0.99861276, 0.99864024]], dtype=float32)"
      ]
     },
     "execution_count": 129,
     "metadata": {},
     "output_type": "execute_result"
    }
   ],
   "source": [
    "tp_heat"
   ]
  },
  {
   "cell_type": "code",
   "execution_count": 130,
   "metadata": {},
   "outputs": [],
   "source": [
    "scaler = MinMaxScaler()\n",
    "tp_heat = scaler.fit_transform(tp_heat)\n",
    "tn_heat = scaler.fit_transform(tn_heat)\n",
    "fp_heat = scaler.fit_transform(fp_heat)\n",
    "fn_heat = scaler.fit_transform(fn_heat)"
   ]
  },
  {
   "cell_type": "code",
   "execution_count": 131,
   "metadata": {
    "scrolled": true
   },
   "outputs": [
    {
     "data": {
      "image/png": "[encoded data removed]",
      "text/plain": [
       "<Figure size 576x576 with 4 Axes>"
      ]
     },
     "metadata": {
      "needs_background": "light"
     },
     "output_type": "display_data"
    }
   ],
   "source": [
    "from matplotlib.colors import Normalize\n",
    "\n",
    "fig= plt.figure(figsize=(8, 8))\n",
    "rows = 2\n",
    "cols = 2\n",
    "\n",
    "fig.add_subplot(rows, cols, 1)\n",
    "plt.imshow(tp_heat, cmap='jet')\n",
    "plt.title('TP')\n",
    "\n",
    "fig.add_subplot(rows, cols, 2)\n",
    "plt.imshow(tn_heat, cmap='jet')\n",
    "plt.title('TN')\n",
    "\n",
    "fig.add_subplot(rows, cols, 3)\n",
    "plt.imshow(fp_heat, cmap='jet')\n",
    "plt.title('FP')\n",
    "\n",
    "fig.add_subplot(rows, cols, 4)\n",
    "plt.imshow(fn_heat, cmap='jet')\n",
    "plt.title('FN')\n",
    "plt.show()"
   ]
  },
  {
   "cell_type": "code",
   "execution_count": 75,
   "metadata": {},
   "outputs": [
    {
     "data": {
      "text/plain": [
       "0.99797285"
      ]
     },
     "execution_count": 75,
     "metadata": {},
     "output_type": "execute_result"
    }
   ],
   "source": []
  },
  {
   "cell_type": "code",
   "execution_count": 137,
   "metadata": {},
   "outputs": [],
   "source": [
    "tp_heat = tp_heat.flatten().tolist()\n",
    "tn_heat = tn_heat.flatten().tolist()\n",
    "fp_heat = fp_heat.flatten().tolist()\n",
    "fn_heat = fn_heat.flatten().tolist()"
   ]
  },
  {
   "cell_type": "code",
   "execution_count": 138,
   "metadata": {},
   "outputs": [],
   "source": [
    "with open('../proyecto-insideout/data/cam_confusion.json', 'w') as file:\n",
    "    json.dump({\n",
    "        'truePositive': tp_heat,\n",
    "        'trueNegative': tn_heat,\n",
    "        'falsePositive': fp_heat,\n",
    "        'falseNegative': fn_heat,\n",
    "    }, file)"
   ]
  },
  {
   "cell_type": "code",
   "execution_count": 105,
   "metadata": {},
   "outputs": [
    {
     "data": {
      "text/plain": [
       "784"
      ]
     },
     "execution_count": 105,
     "metadata": {},
     "output_type": "execute_result"
    }
   ],
   "source": []
  },
  {
   "cell_type": "code",
   "execution_count": null,
   "metadata": {},
   "outputs": [],
   "source": []
  }
 ],
 "metadata": {
  "kernelspec": {
   "display_name": "Python 3",
   "language": "python",
   "name": "python3"
  },
  "language_info": {
   "codemirror_mode": {
    "name": "ipython",
    "version": 3
   },
   "file_extension": ".py",
   "mimetype": "text/x-python",
   "name": "python",
   "nbconvert_exporter": "python",
   "pygments_lexer": "ipython3",
   "version": "3.7.4"
  }
 },
 "nbformat": 4,
 "nbformat_minor": 2
}
