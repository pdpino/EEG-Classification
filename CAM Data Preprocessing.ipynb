{
 "cells": [
  {
   "cell_type": "code",
   "execution_count": 74,
   "metadata": {},
   "outputs": [],
   "source": [
    "import json\n",
    "import numpy as np\n",
    "from sklearn.preprocessing import MinMaxScaler\n"
   ]
  },
  {
   "cell_type": "code",
   "execution_count": 75,
   "metadata": {},
   "outputs": [],
   "source": [
    "with open('cam_data.json', 'r') as file:\n",
    "    cam_data = json.load(file)\n",
    "\n",
    "    "
   ]
  },
  {
   "cell_type": "code",
   "execution_count": 76,
   "metadata": {},
   "outputs": [],
   "source": [
    "scaler = MinMaxScaler()\n",
    "cam0 = np.array(list(map(lambda x: scaler.fit_transform(x['0']), cam_data)))\n",
    "cam1 = np.array(list(map(lambda x: scaler.fit_transform(x['1']), cam_data)))"
   ]
  },
  {
   "cell_type": "code",
   "execution_count": null,
   "metadata": {},
   "outputs": [],
   "source": []
  },
  {
   "cell_type": "code",
   "execution_count": 77,
   "metadata": {},
   "outputs": [],
   "source": [
    "cam0_avg = cam0.mean(axis=0).flatten().tolist()\n",
    "cam0_max = cam0.max(axis=0).flatten().tolist()\n",
    "cam1_avg = cam1.mean(axis=0).flatten().tolist()\n",
    "cam1_max = cam1.max(axis=0).flatten().tolist()"
   ]
  },
  {
   "cell_type": "code",
   "execution_count": 78,
   "metadata": {},
   "outputs": [],
   "source": [
    "with open('cam_agregated.json', 'w') as file:\n",
    "    json.dump([\n",
    "        {'avg': cam0_avg, 'max': cam0_max},\n",
    "        {'avg': cam1_avg, 'max': cam1_max},\n",
    "    ], file)"
   ]
  },
  {
   "cell_type": "markdown",
   "metadata": {},
   "source": [
    "### Run predictions"
   ]
  },
  {
   "cell_type": "code",
   "execution_count": 3,
   "metadata": {},
   "outputs": [],
   "source": [
    "from keras.models import load_model"
   ]
  },
  {
   "cell_type": "code",
   "execution_count": 5,
   "metadata": {},
   "outputs": [
    {
     "name": "stdout",
     "output_type": "stream",
     "text": [
      "_________________________________________________________________\n",
      "Layer (type)                 Output Shape              Param #   \n",
      "=================================================================\n",
      "input_1 (InputLayer)         (None, 28, 28, 3)         0         \n",
      "_________________________________________________________________\n",
      "conv2d_1 (Conv2D)            (None, 28, 28, 32)        896       \n",
      "_________________________________________________________________\n",
      "conv2d_2 (Conv2D)            (None, 28, 28, 32)        9248      \n",
      "_________________________________________________________________\n",
      "max_pooling2d_1 (MaxPooling2 (None, 14, 14, 32)        0         \n",
      "_________________________________________________________________\n",
      "flatten_1 (Flatten)          (None, 6272)              0         \n",
      "_________________________________________________________________\n",
      "dense_1 (Dense)              (None, 10)                62730     \n",
      "_________________________________________________________________\n",
      "dense_2 (Dense)              (None, 2)                 22        \n",
      "=================================================================\n",
      "Total params: 72,896\n",
      "Trainable params: 72,896\n",
      "Non-trainable params: 0\n",
      "_________________________________________________________________\n"
     ]
    }
   ],
   "source": [
    "model = load_model('models/model_2.h5')\n",
    "model.summary()"
   ]
  },
  {
   "cell_type": "code",
   "execution_count": 7,
   "metadata": {},
   "outputs": [],
   "source": [
    "%run utils.py"
   ]
  },
  {
   "cell_type": "code",
   "execution_count": 8,
   "metadata": {},
   "outputs": [
    {
     "name": "stdout",
     "output_type": "stream",
     "text": [
      "Generating training data...\n",
      "Interpolating 117/117nterpolating 53/117Interpolating 99/117Interpolating 1/112Interpolating 52/112Interpolating 100/112Interpolating 1/111Interpolating 49/111Interpolating 94/111Interpolating 1/109Interpolating 50/109Interpolating 91/109Interpolating 1/113Interpolating 63/113Interpolating 107/113Interpolating 1/104Interpolating 54/104Interpolating 99/104Interpolating 1/101Interpolating 51/101Interpolating 95/101Interpolating 1/102Interpolating 53/102Interpolating 96/102Interpolating 1/107Interpolating 53/107Interpolating 99/107Interpolating 1/113Interpolating 53/113Interpolating 99/113Interpolating 1/115Interpolating 53/115Interpolating 100/115Interpolating 1/139Interpolating 52/139Interpolating 98/139Interpolating 1/123Interpolating 42/123Interpolating 81/123Interpolating 102/123Interpolating 117/123Interpolating 1/118Interpolating 23/118Interpolating 44/118Interpolating 54/118Interpolating 81/118Interpolating 101/118Interpolating 115/118Interpolating 1/120Interpolating 47/120Interpolating 89/120Interpolating 1/117Interpolating 47/117Interpolating 94/117"
     ]
    }
   ],
   "source": [
    "image_size = 28\n",
    "frame_duration = 1.0\n",
    "overlap = 0.5\n",
    "X, y = make_data_pipeline(file_names,labels,image_size,frame_duration,overlap)"
   ]
  },
  {
   "cell_type": "code",
   "execution_count": null,
   "metadata": {},
   "outputs": [],
   "source": []
  }
 ],
 "metadata": {
  "kernelspec": {
   "display_name": "Python 3",
   "language": "python",
   "name": "python3"
  },
  "language_info": {
   "codemirror_mode": {
    "name": "ipython",
    "version": 3
   },
   "file_extension": ".py",
   "mimetype": "text/x-python",
   "name": "python",
   "nbconvert_exporter": "python",
   "pygments_lexer": "ipython3",
   "version": "3.7.4"
  }
 },
 "nbformat": 4,
 "nbformat_minor": 2
}
