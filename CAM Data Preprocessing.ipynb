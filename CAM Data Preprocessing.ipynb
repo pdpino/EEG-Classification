{
 "cells": [
  {
   "cell_type": "code",
   "execution_count": 1,
   "metadata": {},
   "outputs": [],
   "source": [
    "import json\n",
    "import numpy as np\n",
    "import matplotlib.pyplot as plt\n",
    "from sklearn.preprocessing import MinMaxScaler\n",
    "from keras.models import load_model, Model\n",
    "import keras.backend as K\n",
    "from keras.layers.core import Lambda\n",
    "import tensorflow as tf"
   ]
  },
  {
   "cell_type": "markdown",
   "metadata": {},
   "source": [
    "### Run predictions"
   ]
  },
  {
   "cell_type": "code",
   "execution_count": 29,
   "metadata": {},
   "outputs": [
    {
     "name": "stdout",
     "output_type": "stream",
     "text": [
      "_________________________________________________________________\n",
      "Layer (type)                 Output Shape              Param #   \n",
      "=================================================================\n",
      "input_4 (InputLayer)         (None, 28, 28, 3)         0         \n",
      "_________________________________________________________________\n",
      "conv2d_13 (Conv2D)           (None, 28, 28, 32)        896       \n",
      "_________________________________________________________________\n",
      "conv2d_14 (Conv2D)           (None, 28, 28, 32)        9248      \n",
      "_________________________________________________________________\n",
      "max_pooling2d_10 (MaxPooling (None, 14, 14, 32)        0         \n",
      "_________________________________________________________________\n",
      "conv2d_15 (Conv2D)           (None, 14, 14, 32)        9248      \n",
      "_________________________________________________________________\n",
      "max_pooling2d_11 (MaxPooling (None, 7, 7, 32)          0         \n",
      "_________________________________________________________________\n",
      "conv2d_16 (Conv2D)           (None, 7, 7, 32)          9248      \n",
      "_________________________________________________________________\n",
      "max_pooling2d_12 (MaxPooling (None, 3, 3, 32)          0         \n",
      "_________________________________________________________________\n",
      "flatten_4 (Flatten)          (None, 288)               0         \n",
      "_________________________________________________________________\n",
      "dense_7 (Dense)              (None, 10)                2890      \n",
      "_________________________________________________________________\n",
      "dense_8 (Dense)              (None, 2)                 22        \n",
      "=================================================================\n",
      "Total params: 31,552\n",
      "Trainable params: 31,552\n",
      "Non-trainable params: 0\n",
      "_________________________________________________________________\n"
     ]
    }
   ],
   "source": [
    "model = load_model('models/model_big_1.h5')\n",
    "model.summary()"
   ]
  },
  {
   "cell_type": "code",
   "execution_count": 33,
   "metadata": {},
   "outputs": [],
   "source": [
    "%run utils.py\n",
    "%run cam.py"
   ]
  },
  {
   "cell_type": "code",
   "execution_count": 23,
   "metadata": {},
   "outputs": [
    {
     "name": "stdout",
     "output_type": "stream",
     "text": [
      "Generating training data...\n",
      "Processing session:  data/ML101_KS.csv . ( 1  of  16 )\n",
      "Processing session:  data/ML101_US.csv . ( 2  of  16 )104/117\n",
      "Processing session:  data/ML102_KS.csv . ( 3  of  16 )108/112\n",
      "Processing session:  data/ML102_US.csv . ( 4  of  16 )107/111\n",
      "Processing session:  data/ML103_KS.csv . ( 5  of  16 )106/109\n",
      "Processing session:  data/ML103_US.csv . ( 6  of  16 )89/113\n",
      "Processing session:  data/ML104_KS.csv . ( 7  of  16 )\n",
      "Interpolating 101/101nterpolating 55/101Processing session:  data/ML104_US.csv . ( 8  of  16 )\n",
      "Interpolating 102/102nterpolating 58/102Processing session:  data/ML105_KS.csv . ( 9  of  16 )\n",
      "Processing session:  data/ML105_US.csv . ( 10  of  16 )07/107\n",
      "Processing session:  data/ML106_KS.csv . ( 11  of  16 )\n",
      "Processing session:  data/ML106_US.csv . ( 12  of  16 )08/115\n",
      "Processing session:  data/ML107_KS.csv . ( 13  of  16 )3/139Interpolating 136/139\n",
      "Processing session:  data/ML107_US.csv . ( 14  of  16 )3/123Interpolating 122/123\n",
      "Processing session:  data/ML108_KS.csv . ( 15  of  16 )5/118\n",
      "Processing session:  data/ML108_US.csv . ( 16  of  16 )13/120\n",
      "Interpolating 117/117nterpolating 59/117Interpolating 109/117"
     ]
    }
   ],
   "source": [
    "image_size = 28\n",
    "frame_duration = 1.0\n",
    "overlap = 0.5\n",
    "X, y = make_data_pipeline(file_names,labels,image_size,frame_duration,overlap)"
   ]
  },
  {
   "cell_type": "code",
   "execution_count": 24,
   "metadata": {},
   "outputs": [],
   "source": [
    "predictions = model.predict(X)\n",
    "predictions = np.argmax(predictions, axis=1)"
   ]
  },
  {
   "cell_type": "code",
   "execution_count": 25,
   "metadata": {},
   "outputs": [
    {
     "data": {
      "text/plain": [
       "((1821,), (1821,))"
      ]
     },
     "execution_count": 25,
     "metadata": {},
     "output_type": "execute_result"
    }
   ],
   "source": [
    "predictions.shape, y.shape"
   ]
  },
  {
   "cell_type": "code",
   "execution_count": 26,
   "metadata": {},
   "outputs": [],
   "source": [
    "tp = X[(predictions == y) & (y == 1)]\n",
    "tn = X[(predictions == y) & (y == 0)]\n",
    "fp = X[(predictions != y) & (y == 0)]\n",
    "fn = X[(predictions != y) & (y == 1)]"
   ]
  },
  {
   "cell_type": "code",
   "execution_count": 27,
   "metadata": {},
   "outputs": [
    {
     "data": {
      "text/plain": [
       "(858, 873, 41, 49)"
      ]
     },
     "execution_count": 27,
     "metadata": {},
     "output_type": "execute_result"
    }
   ],
   "source": [
    "tp.shape[0], tn.shape[0], fp.shape[0], fn.shape[0],"
   ]
  },
  {
   "cell_type": "code",
   "execution_count": 42,
   "metadata": {},
   "outputs": [],
   "source": [
    "%run cam.py"
   ]
  },
  {
   "cell_type": "code",
   "execution_count": 43,
   "metadata": {},
   "outputs": [],
   "source": [
    "tp_cam, tp_heat = naive_cam(model, tp)\n",
    "tn_cam, tn_heat = naive_cam(model, tn)\n",
    "fp_cam, fp_heat = naive_cam(model, fp)\n",
    "fn_cam, fn_heat = naive_cam(model, fn)"
   ]
  },
  {
   "cell_type": "code",
   "execution_count": null,
   "metadata": {},
   "outputs": [],
   "source": []
  },
  {
   "cell_type": "code",
   "execution_count": 44,
   "metadata": {},
   "outputs": [
    {
     "data": {
      "image/png": "[encoded data removed]",
      "text/plain": [
       "<Figure size 576x576 with 4 Axes>"
      ]
     },
     "metadata": {
      "needs_background": "light"
     },
     "output_type": "display_data"
    }
   ],
   "source": [
    "fig= plt.figure(figsize=(8, 8))\n",
    "rows = 2\n",
    "cols = 2\n",
    "\n",
    "fig.add_subplot(rows, cols, 1)\n",
    "plt.imshow(tp_heat, cmap='jet')\n",
    "plt.title('TP')\n",
    "\n",
    "fig.add_subplot(rows, cols, 2)\n",
    "plt.imshow(tn_heat, cmap='jet')\n",
    "plt.title('TN')\n",
    "\n",
    "fig.add_subplot(rows, cols, 3)\n",
    "plt.imshow(fp_heat, cmap='jet')\n",
    "plt.title('FP')\n",
    "\n",
    "fig.add_subplot(rows, cols, 4)\n",
    "plt.imshow(fn_heat, cmap='jet')\n",
    "plt.title('FN')\n",
    "plt.show()"
   ]
  },
  {
   "cell_type": "code",
   "execution_count": 46,
   "metadata": {},
   "outputs": [],
   "source": [
    "tp_cam, tp_heat = grad_cam(model, tp, 1)\n",
    "tn_cam, tn_heat = grad_cam(model, tn, 0)\n",
    "fp_cam, fp_heat = grad_cam(model, fp, 1)\n",
    "fn_cam, fn_heat = grad_cam(model, fn, 0)"
   ]
  },
  {
   "cell_type": "code",
   "execution_count": null,
   "metadata": {},
   "outputs": [],
   "source": []
  },
  {
   "cell_type": "code",
   "execution_count": 40,
   "metadata": {},
   "outputs": [],
   "source": [
    "scaler = MinMaxScaler()\n",
    "tp_heat = scaler.fit_transform(tp_heat)\n",
    "scaler = MinMaxScaler()\n",
    "tn_heat = scaler.fit_transform(tn_heat)\n",
    "scaler = MinMaxScaler()\n",
    "fp_heat = scaler.fit_transform(fp_heat)\n",
    "scaler = MinMaxScaler()\n",
    "fn_heat = scaler.fit_transform(fn_heat)"
   ]
  },
  {
   "cell_type": "code",
   "execution_count": 47,
   "metadata": {
    "scrolled": true
   },
   "outputs": [
    {
     "data": {
      "image/png": "[encoded data removed]",
      "text/plain": [
       "<Figure size 576x576 with 4 Axes>"
      ]
     },
     "metadata": {
      "needs_background": "light"
     },
     "output_type": "display_data"
    }
   ],
   "source": [
    "from matplotlib.colors import Normalize\n",
    "\n",
    "fig= plt.figure(figsize=(8, 8))\n",
    "rows = 2\n",
    "cols = 2\n",
    "\n",
    "fig.add_subplot(rows, cols, 1)\n",
    "plt.imshow(tp_heat, cmap='jet')\n",
    "plt.title('TP')\n",
    "\n",
    "fig.add_subplot(rows, cols, 2)\n",
    "plt.imshow(tn_heat, cmap='jet')\n",
    "plt.title('TN')\n",
    "\n",
    "fig.add_subplot(rows, cols, 3)\n",
    "plt.imshow(fp_heat, cmap='jet')\n",
    "plt.title('FP')\n",
    "\n",
    "fig.add_subplot(rows, cols, 4)\n",
    "plt.imshow(fn_heat, cmap='jet')\n",
    "plt.title('FN')\n",
    "plt.show()"
   ]
  },
  {
   "cell_type": "code",
   "execution_count": 75,
   "metadata": {},
   "outputs": [
    {
     "data": {
      "text/plain": [
       "0.99797285"
      ]
     },
     "execution_count": 75,
     "metadata": {},
     "output_type": "execute_result"
    }
   ],
   "source": []
  },
  {
   "cell_type": "code",
   "execution_count": 137,
   "metadata": {},
   "outputs": [],
   "source": [
    "tp_heat = tp_heat.flatten().tolist()\n",
    "tn_heat = tn_heat.flatten().tolist()\n",
    "fp_heat = fp_heat.flatten().tolist()\n",
    "fn_heat = fn_heat.flatten().tolist()"
   ]
  },
  {
   "cell_type": "code",
   "execution_count": 138,
   "metadata": {},
   "outputs": [],
   "source": [
    "with open('../proyecto-insideout/data/cam_confusion.json', 'w') as file:\n",
    "    json.dump({\n",
    "        'truePositive': tp_heat,\n",
    "        'trueNegative': tn_heat,\n",
    "        'falsePositive': fp_heat,\n",
    "        'falseNegative': fn_heat,\n",
    "    }, file)"
   ]
  },
  {
   "cell_type": "code",
   "execution_count": 105,
   "metadata": {},
   "outputs": [
    {
     "data": {
      "text/plain": [
       "784"
      ]
     },
     "execution_count": 105,
     "metadata": {},
     "output_type": "execute_result"
    }
   ],
   "source": []
  },
  {
   "cell_type": "code",
   "execution_count": null,
   "metadata": {},
   "outputs": [],
   "source": []
  }
 ],
 "metadata": {
  "kernelspec": {
   "display_name": "Python 3",
   "language": "python",
   "name": "python3"
  },
  "language_info": {
   "codemirror_mode": {
    "name": "ipython",
    "version": 3
   },
   "file_extension": ".py",
   "mimetype": "text/x-python",
   "name": "python",
   "nbconvert_exporter": "python",
   "pygments_lexer": "ipython3",
   "version": "3.7.4"
  }
 },
 "nbformat": 4,
 "nbformat_minor": 2
}
